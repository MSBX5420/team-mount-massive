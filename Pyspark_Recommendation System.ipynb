{
 "cells": [
  {
   "cell_type": "code",
   "execution_count": 1,
   "metadata": {},
   "outputs": [],
   "source": [
    "import pyspark"
   ]
  },
  {
   "cell_type": "code",
   "execution_count": 3,
   "metadata": {},
   "outputs": [],
   "source": [
    "from pyspark.sql import SparkSession\n",
    "from pyspark import SparkConf, SparkContext\n",
    "from pyspark.sql import SQLContext\n",
    "\n",
    "sc = SparkContext()\n",
    "sqlContext = SQLContext(sc)\n",
    "\n",
    "spark=SparkSession.builder.appName('Recommend_Function').getOrCreate()"
   ]
  },
  {
   "cell_type": "code",
   "execution_count": 30,
   "metadata": {},
   "outputs": [
    {
     "name": "stdout",
     "output_type": "stream",
     "text": [
      "+--------------------+---------+---------+--------------------+-------------+--------+\n",
      "|               title|titleType|startYear|              genres|averageRating|numVotes|\n",
      "+--------------------+---------+---------+--------------------+-------------+--------+\n",
      "|L'arrivée d'un tr...|    short|     1896|Action,Documentar...|          7.4|  9435.0|\n",
      "|             Ben Hur|    short|     1907|         Drama,Short|          5.1|   555.0|\n",
      "|  The Red Man's View|    short|     1909|       Short,Western|          5.9|   283.0|\n",
      "|  Oranges and Lemons|    short|     1923|        Comedy,Short|          5.8|   367.0|\n",
      "|   The Covered Wagon|    movie|     1923|Adventure,Romance...|          6.5|   470.0|\n",
      "|              Rosita|    movie|     1923|      Comedy,Romance|          6.5|   252.0|\n",
      "|      Souls for Sale|    movie|     1923|Comedy,Drama,Romance|          7.0|   770.0|\n",
      "|Die Nibelungen: S...|    movie|     1924|Adventure,Drama,F...|          8.1|  4801.0|\n",
      "|Bronenosets Potemkin|    movie|     1925|Drama,History,Thr...|          8.0| 49224.0|\n",
      "|         Tumbleweeds|    movie|     1925|             Western|          6.5|   511.0|\n",
      "+--------------------+---------+---------+--------------------+-------------+--------+\n",
      "only showing top 10 rows\n",
      "\n"
     ]
    }
   ],
   "source": [
    "movies = spark.read.csv('downloads/sample_movies_single.csv', header =True, inferSchema=True)\n",
    "\n",
    "movies = movies.select('title','titleType','startYear','genres','averageRating','numVotes')\n",
    "movies.show(10)"
   ]
  },
  {
   "cell_type": "code",
   "execution_count": 11,
   "metadata": {},
   "outputs": [],
   "source": [
    "import pyspark.sql.functions as F\n",
    "from pyspark.sql.types import *\n",
    "from pyspark.sql.functions import udf, col\n",
    "from pyspark.sql.functions import *"
   ]
  },
  {
   "cell_type": "code",
   "execution_count": 31,
   "metadata": {},
   "outputs": [
    {
     "data": {
      "text/plain": [
       "6.376230569948188"
      ]
     },
     "execution_count": 31,
     "metadata": {},
     "output_type": "execute_result"
    }
   ],
   "source": [
    "mean = movies.groupBy().avg(\"averageRating\").take(1)[0][0]\n",
    "mean"
   ]
  },
  {
   "cell_type": "code",
   "execution_count": 32,
   "metadata": {},
   "outputs": [],
   "source": [
    "movies = movies.withColumn(\"AverageTotalRating\", lit(mean).cast(FloatType()))\n",
    "\n",
    "movies = movies.withColumn(\"WeightedRating\", lit(0).cast(FloatType())) \n",
    "\n",
    "movies = movies.withColumn(\"MinimumVotes\", lit(100).cast(IntegerType())) \n",
    "\n",
    "movies = movies.withColumn(\"numVotes\", movies['numVotes'].cast(FloatType()))"
   ]
  },
  {
   "cell_type": "code",
   "execution_count": 33,
   "metadata": {},
   "outputs": [
    {
     "name": "stdout",
     "output_type": "stream",
     "text": [
      "+--------------------+---------+---------+--------------------+-------------+--------+------------------+--------------+------------+\n",
      "|               title|titleType|startYear|              genres|averageRating|numVotes|AverageTotalRating|WeightedRating|MinimumVotes|\n",
      "+--------------------+---------+---------+--------------------+-------------+--------+------------------+--------------+------------+\n",
      "|L'arrivée d'un tr...|    short|     1896|Action,Documentar...|          7.4|  9435.0|         6.3762307|           0.0|         100|\n",
      "|             Ben Hur|    short|     1907|         Drama,Short|          5.1|   555.0|         6.3762307|           0.0|         100|\n",
      "|  The Red Man's View|    short|     1909|       Short,Western|          5.9|   283.0|         6.3762307|           0.0|         100|\n",
      "|  Oranges and Lemons|    short|     1923|        Comedy,Short|          5.8|   367.0|         6.3762307|           0.0|         100|\n",
      "|   The Covered Wagon|    movie|     1923|Adventure,Romance...|          6.5|   470.0|         6.3762307|           0.0|         100|\n",
      "|              Rosita|    movie|     1923|      Comedy,Romance|          6.5|   252.0|         6.3762307|           0.0|         100|\n",
      "|      Souls for Sale|    movie|     1923|Comedy,Drama,Romance|          7.0|   770.0|         6.3762307|           0.0|         100|\n",
      "|Die Nibelungen: S...|    movie|     1924|Adventure,Drama,F...|          8.1|  4801.0|         6.3762307|           0.0|         100|\n",
      "|Bronenosets Potemkin|    movie|     1925|Drama,History,Thr...|          8.0| 49224.0|         6.3762307|           0.0|         100|\n",
      "|         Tumbleweeds|    movie|     1925|             Western|          6.5|   511.0|         6.3762307|           0.0|         100|\n",
      "+--------------------+---------+---------+--------------------+-------------+--------+------------------+--------------+------------+\n",
      "only showing top 10 rows\n",
      "\n"
     ]
    }
   ],
   "source": [
    "movies.show(10)"
   ]
  },
  {
   "cell_type": "code",
   "execution_count": 34,
   "metadata": {},
   "outputs": [
    {
     "data": {
      "text/plain": [
       "[Column<b'title'>,\n",
       " Column<b'titleType'>,\n",
       " Column<b'startYear'>,\n",
       " Column<b'genres'>,\n",
       " Column<b'averageRating'>,\n",
       " Column<b'numVotes'>,\n",
       " Column<b'AverageTotalRating'>,\n",
       " Column<b'WeightedRating'>,\n",
       " Column<b'MinimumVotes'>]"
      ]
     },
     "execution_count": 34,
     "metadata": {},
     "output_type": "execute_result"
    }
   ],
   "source": [
    "all_original_cols = [eval('movies.' + x) for x in movies.columns]\n",
    "all_original_cols"
   ]
  },
  {
   "cell_type": "code",
   "execution_count": 35,
   "metadata": {},
   "outputs": [],
   "source": [
    "def weighted(v, m, C, R) : \n",
    "  return (v/(v+m) * R) + (m/(m+v) * C)"
   ]
  },
  {
   "cell_type": "code",
   "execution_count": 36,
   "metadata": {},
   "outputs": [],
   "source": [
    "weighted_udf = udf(weighted, FloatType())"
   ]
  },
  {
   "cell_type": "code",
   "execution_count": 37,
   "metadata": {},
   "outputs": [
    {
     "data": {
      "text/plain": [
       "Column<b'weighted(numVotes, MinimumVotes, AverageTotalRating, averageRating)'>"
      ]
     },
     "execution_count": 37,
     "metadata": {},
     "output_type": "execute_result"
    }
   ],
   "source": [
    "WeightedRating = weighted_udf(movies.numVotes, movies.MinimumVotes, movies.AverageTotalRating, movies.averageRating)\n",
    "WeightedRating"
   ]
  },
  {
   "cell_type": "code",
   "execution_count": 40,
   "metadata": {},
   "outputs": [],
   "source": [
    "movies = movies.withColumn(\"WeightedRating\", WeightedRating.cast(FloatType()))"
   ]
  },
  {
   "cell_type": "code",
   "execution_count": 42,
   "metadata": {},
   "outputs": [
    {
     "name": "stdout",
     "output_type": "stream",
     "text": [
      "+--------------------+---------+---------+--------------------+-------------+--------------+\n",
      "|               title|titleType|startYear|              genres|averageRating|WeightedRating|\n",
      "+--------------------+---------+---------+--------------------+-------------+--------------+\n",
      "|L'arrivée d'un tr...|    short|     1896|Action,Documentar...|          7.4|      7.389263|\n",
      "|             Ben Hur|    short|     1907|         Drama,Short|          5.1|      5.294844|\n",
      "|  The Red Man's View|    short|     1909|       Short,Western|          5.9|      6.024342|\n",
      "|  Oranges and Lemons|    short|     1923|        Comedy,Short|          5.8|       5.92339|\n",
      "|   The Covered Wagon|    movie|     1923|Adventure,Romance...|          6.5|     6.4782863|\n",
      "|              Rosita|    movie|     1923|      Comedy,Romance|          6.5|     6.4648385|\n",
      "|      Souls for Sale|    movie|     1923|Comedy,Drama,Romance|          7.0|     6.9283023|\n",
      "|Die Nibelungen: S...|    movie|     1924|Adventure,Drama,F...|          8.1|      8.064828|\n",
      "|Bronenosets Potemkin|    movie|     1925|Drama,History,Thr...|          8.0|      7.996708|\n",
      "|         Tumbleweeds|    movie|     1925|             Western|          6.5|      6.479743|\n",
      "+--------------------+---------+---------+--------------------+-------------+--------------+\n",
      "only showing top 10 rows\n",
      "\n"
     ]
    }
   ],
   "source": [
    "movies = movies.select('title','titleType','startYear','genres','averageRating','WeightedRating')\n",
    "movies.show(10)"
   ]
  },
  {
   "cell_type": "code",
   "execution_count": 43,
   "metadata": {},
   "outputs": [],
   "source": [
    "movies.createOrReplaceTempView(\"movies_sql\")"
   ]
  },
  {
   "cell_type": "code",
   "execution_count": 49,
   "metadata": {},
   "outputs": [],
   "source": [
    "recommendations_sql = spark.sql('''\n",
    "  SELECT title, titleType, startYear, genres, WeightedRating\n",
    "  FROM movies_sql\n",
    "  WHERE genres LIKE '%Comedy%' AND titleType = 'movie' AND (startYear > 2000)\n",
    "  ORDER BY WeightedRating desc\n",
    "  LIMIT (5)\n",
    "''')\n"
   ]
  },
  {
   "cell_type": "code",
   "execution_count": 50,
   "metadata": {},
   "outputs": [
    {
     "name": "stdout",
     "output_type": "stream",
     "text": [
      "+--------------------+---------+---------+--------------------+--------------+\n",
      "|               title|titleType|startYear|              genres|WeightedRating|\n",
      "+--------------------+---------+---------+--------------------+--------------+\n",
      "|           Marmoulak|    movie|     2004|        Comedy,Drama|      8.482735|\n",
      "|      Dil Chahta Hai|    movie|     2001|Comedy,Drama,Romance|       8.09724|\n",
      "|Guardians of the ...|    movie|     2014|Action,Adventure,...|     7.9998345|\n",
      "|            Zootopia|    movie|     2016|Adventure,Animati...|     7.9995904|\n",
      "|En man som heter Ove|    movie|     2015|Comedy,Drama,Romance|     7.6967964|\n",
      "+--------------------+---------+---------+--------------------+--------------+\n",
      "\n"
     ]
    }
   ],
   "source": [
    "recommendations_sql.show()"
   ]
  }
 ],
 "metadata": {
  "kernelspec": {
   "display_name": "Python 3",
   "language": "python",
   "name": "python3"
  },
  "language_info": {
   "codemirror_mode": {
    "name": "ipython",
    "version": 3
   },
   "file_extension": ".py",
   "mimetype": "text/x-python",
   "name": "python",
   "nbconvert_exporter": "python",
   "pygments_lexer": "ipython3",
   "version": "3.7.3"
  }
 },
 "nbformat": 4,
 "nbformat_minor": 2
}

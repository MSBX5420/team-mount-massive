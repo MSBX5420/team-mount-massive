{
 "cells": [
  {
   "cell_type": "code",
   "execution_count": 1,
   "metadata": {},
   "outputs": [],
   "source": [
    "import pyspark"
   ]
  },
  {
   "cell_type": "code",
   "execution_count": 2,
   "metadata": {},
   "outputs": [],
   "source": [
    "from pyspark.sql import SparkSession\n",
    "from pyspark import SparkConf, SparkContext\n",
    "from pyspark.sql import SQLContext\n",
    "\n",
    "sc = SparkContext()\n",
    "sqlContext = SQLContext(sc)\n",
    "\n",
    "spark=SparkSession.builder.appName('Recommend_Function').getOrCreate()"
   ]
  },
  {
   "cell_type": "code",
   "execution_count": 24,
   "metadata": {},
   "outputs": [
    {
     "name": "stdout",
     "output_type": "stream",
     "text": [
      "+--------------------+---------+---------+--------------------+-------------+--------+\n",
      "|               title|titleType|startYear|              genres|averageRating|numVotes|\n",
      "+--------------------+---------+---------+--------------------+-------------+--------+\n",
      "|          Carmencita|    short|   1894.0|   Documentary,Short|          5.6|    1550|\n",
      "|      Pauvre Pierrot|    short|   1892.0|Animation,Comedy,...|          6.5|    1207|\n",
      "|    Blacksmith Scene|    short|   1893.0|        Comedy,Short|          6.1|    1934|\n",
      "|Corbett and Court...|    short|   1894.0|         Short,Sport|          5.5|     615|\n",
      "|Edison Kinetoscop...|    short|   1894.0|   Documentary,Short|          5.4|    1667|\n",
      "|La sortie de l'us...|    short|   1895.0|   Documentary,Short|          6.9|    5545|\n",
      "|L'arrivée d'un tr...|    short|   1896.0|Action,Documentar...|          7.4|    9435|\n",
      "|Neuville-sur-Saôn...|    short|   1895.0|   Documentary,Short|          5.7|    1447|\n",
      "|   L'arroseur arrosé|    short|   1895.0|        Comedy,Short|          7.1|    4111|\n",
      "| Autour d'une cabine|    short|   1894.0|     Animation,Short|          6.1|     741|\n",
      "+--------------------+---------+---------+--------------------+-------------+--------+\n",
      "only showing top 10 rows\n",
      "\n"
     ]
    }
   ],
   "source": [
    "movies = spark.read.csv('s3://msbx5420-2020/mount massive/', header =True, inferSchema=True)\n",
    "\n",
    "movies = movies.select('title','titleType','startYear','genres','averageRating','numVotes')\n",
    "movies.show(10)"
   ]
  },
  {
   "cell_type": "code",
   "execution_count": 25,
   "metadata": {},
   "outputs": [],
   "source": [
    "import pyspark.sql.functions as F\n",
    "from pyspark.sql.types import *\n",
    "from pyspark.sql.functions import udf, col\n",
    "from pyspark.sql.functions import *"
   ]
  },
  {
   "cell_type": "code",
   "execution_count": 26,
   "metadata": {},
   "outputs": [
    {
     "data": {
      "text/plain": [
       "6.386923529027673"
      ]
     },
     "execution_count": 26,
     "metadata": {},
     "output_type": "execute_result"
    }
   ],
   "source": [
    "mean = movies.groupBy().avg(\"averageRating\").take(1)[0][0]\n",
    "mean"
   ]
  },
  {
   "cell_type": "code",
   "execution_count": 27,
   "metadata": {},
   "outputs": [],
   "source": [
    "movies = movies.withColumn(\"AverageTotalRating\", lit(mean).cast(FloatType()))\n",
    "\n",
    "movies = movies.withColumn(\"WeightedRating\", lit(0).cast(FloatType())) \n",
    "\n",
    "movies = movies.withColumn(\"MinimumVotes\", lit(100).cast(IntegerType())) \n",
    "\n",
    "movies = movies.withColumn(\"numVotes\", movies['numVotes'].cast(FloatType()))"
   ]
  },
  {
   "cell_type": "code",
   "execution_count": 28,
   "metadata": {},
   "outputs": [
    {
     "name": "stdout",
     "output_type": "stream",
     "text": [
      "+--------------------+---------+---------+--------------------+-------------+--------+------------------+--------------+------------+\n",
      "|               title|titleType|startYear|              genres|averageRating|numVotes|AverageTotalRating|WeightedRating|MinimumVotes|\n",
      "+--------------------+---------+---------+--------------------+-------------+--------+------------------+--------------+------------+\n",
      "|          Carmencita|    short|   1894.0|   Documentary,Short|          5.6|  1550.0|         6.3869233|           0.0|         100|\n",
      "|      Pauvre Pierrot|    short|   1892.0|Animation,Comedy,...|          6.5|  1207.0|         6.3869233|           0.0|         100|\n",
      "|    Blacksmith Scene|    short|   1893.0|        Comedy,Short|          6.1|  1934.0|         6.3869233|           0.0|         100|\n",
      "|Corbett and Court...|    short|   1894.0|         Short,Sport|          5.5|   615.0|         6.3869233|           0.0|         100|\n",
      "|Edison Kinetoscop...|    short|   1894.0|   Documentary,Short|          5.4|  1667.0|         6.3869233|           0.0|         100|\n",
      "|La sortie de l'us...|    short|   1895.0|   Documentary,Short|          6.9|  5545.0|         6.3869233|           0.0|         100|\n",
      "|L'arrivée d'un tr...|    short|   1896.0|Action,Documentar...|          7.4|  9435.0|         6.3869233|           0.0|         100|\n",
      "|Neuville-sur-Saôn...|    short|   1895.0|   Documentary,Short|          5.7|  1447.0|         6.3869233|           0.0|         100|\n",
      "|   L'arroseur arrosé|    short|   1895.0|        Comedy,Short|          7.1|  4111.0|         6.3869233|           0.0|         100|\n",
      "| Autour d'une cabine|    short|   1894.0|     Animation,Short|          6.1|   741.0|         6.3869233|           0.0|         100|\n",
      "+--------------------+---------+---------+--------------------+-------------+--------+------------------+--------------+------------+\n",
      "only showing top 10 rows\n",
      "\n"
     ]
    }
   ],
   "source": [
    "movies.show(10)"
   ]
  },
  {
   "cell_type": "code",
   "execution_count": 29,
   "metadata": {},
   "outputs": [
    {
     "data": {
      "text/plain": [
       "[Column<b'title'>,\n",
       " Column<b'titleType'>,\n",
       " Column<b'startYear'>,\n",
       " Column<b'genres'>,\n",
       " Column<b'averageRating'>,\n",
       " Column<b'numVotes'>,\n",
       " Column<b'AverageTotalRating'>,\n",
       " Column<b'WeightedRating'>,\n",
       " Column<b'MinimumVotes'>]"
      ]
     },
     "execution_count": 29,
     "metadata": {},
     "output_type": "execute_result"
    }
   ],
   "source": [
    "all_original_cols = [eval('movies.' + x) for x in movies.columns]\n",
    "all_original_cols"
   ]
  },
  {
   "cell_type": "code",
   "execution_count": 30,
   "metadata": {},
   "outputs": [],
   "source": [
    "def weighted(v, m, C, R) : \n",
    "  return (v/(v+m) * R) + (m/(m+v) * C)"
   ]
  },
  {
   "cell_type": "code",
   "execution_count": 31,
   "metadata": {},
   "outputs": [],
   "source": [
    "weighted_udf = udf(weighted, FloatType())"
   ]
  },
  {
   "cell_type": "code",
   "execution_count": 32,
   "metadata": {},
   "outputs": [
    {
     "data": {
      "text/plain": [
       "Column<b'weighted(numVotes, MinimumVotes, AverageTotalRating, averageRating)'>"
      ]
     },
     "execution_count": 32,
     "metadata": {},
     "output_type": "execute_result"
    }
   ],
   "source": [
    "WeightedRating = weighted_udf(movies.numVotes, movies.MinimumVotes, movies.AverageTotalRating, movies.averageRating)\n",
    "WeightedRating"
   ]
  },
  {
   "cell_type": "code",
   "execution_count": 33,
   "metadata": {},
   "outputs": [],
   "source": [
    "movies = movies.withColumn(\"WeightedRating\", WeightedRating.cast(FloatType()))"
   ]
  },
  {
   "cell_type": "code",
   "execution_count": 34,
   "metadata": {},
   "outputs": [
    {
     "name": "stdout",
     "output_type": "stream",
     "text": [
      "+--------------------+---------+---------+--------------------+-------------+--------------+\n",
      "|               title|titleType|startYear|              genres|averageRating|WeightedRating|\n",
      "+--------------------+---------+---------+--------------------+-------------+--------------+\n",
      "|          Carmencita|    short|   1894.0|   Documentary,Short|          5.6|      5.647692|\n",
      "|      Pauvre Pierrot|    short|   1892.0|Animation,Comedy,...|          6.5|     6.4913483|\n",
      "|    Blacksmith Scene|    short|   1893.0|        Comedy,Short|          6.1|      6.114106|\n",
      "|Corbett and Court...|    short|   1894.0|         Short,Sport|          5.5|     5.6240454|\n",
      "|Edison Kinetoscop...|    short|   1894.0|   Documentary,Short|          5.4|      5.455853|\n",
      "|La sortie de l'us...|    short|   1895.0|   Documentary,Short|          6.9|      6.890911|\n",
      "|L'arrivée d'un tr...|    short|   1896.0|Action,Documentar...|          7.4|      7.389375|\n",
      "|Neuville-sur-Saôn...|    short|   1895.0|   Documentary,Short|          5.7|     5.7444034|\n",
      "|   L'arroseur arrosé|    short|   1895.0|        Comedy,Short|          7.1|     7.0830665|\n",
      "| Autour d'une cabine|    short|   1894.0|     Animation,Short|          6.1|      6.134117|\n",
      "+--------------------+---------+---------+--------------------+-------------+--------------+\n",
      "only showing top 10 rows\n",
      "\n"
     ]
    }
   ],
   "source": [
    "movies = movies.select('title','titleType','startYear','genres','averageRating','WeightedRating')\n",
    "movies.show(10)"
   ]
  },
  {
   "cell_type": "code",
   "execution_count": 35,
   "metadata": {},
   "outputs": [],
   "source": [
    "movies.createOrReplaceTempView(\"movies_sql\")"
   ]
  },
  {
   "cell_type": "code",
   "execution_count": 36,
   "metadata": {},
   "outputs": [],
   "source": [
    "recommendations_sql = spark.sql('''\n",
    "  SELECT title, titleType, startYear, genres, WeightedRating\n",
    "  FROM movies_sql\n",
    "  WHERE genres LIKE '%Comedy%' AND titleType = 'movie' AND (startYear > 2000)\n",
    "  ORDER BY WeightedRating desc\n",
    "  LIMIT (5)\n",
    "''')\n"
   ]
  },
  {
   "cell_type": "code",
   "execution_count": 37,
   "metadata": {},
   "outputs": [
    {
     "name": "stdout",
     "output_type": "stream",
     "text": [
      "+--------------------+---------+---------+--------------------+--------------+\n",
      "|               title|titleType|startYear|              genres|WeightedRating|\n",
      "+--------------------+---------+---------+--------------------+--------------+\n",
      "|CM101MMXI Fundame...|    movie|   2013.0|  Comedy,Documentary|      9.193336|\n",
      "|               Shibu|    movie|   2019.0|              Comedy|      8.924001|\n",
      "|          Anbe Sivam|    movie|   2003.0|Adventure,Comedy,...|      8.782449|\n",
      "|The Weight of Cha...|    movie|   2014.0|Comedy,Documentar...|      8.780598|\n",
      "|Nuvvu Naaku Nachchav|    movie|   2001.0|Comedy,Family,Mus...|      8.628696|\n",
      "+--------------------+---------+---------+--------------------+--------------+\n",
      "\n"
     ]
    }
   ],
   "source": [
    "recommendations_sql.show()"
   ]
  }
 ],
 "metadata": {
  "kernelspec": {
   "display_name": "Python 3",
   "language": "python",
   "name": "python3"
  },
  "language_info": {
   "codemirror_mode": {
    "name": "ipython",
    "version": 3
   },
   "file_extension": ".py",
   "mimetype": "text/x-python",
   "name": "python",
   "nbconvert_exporter": "python",
   "pygments_lexer": "ipython3",
   "version": "3.7.3"
  }
 },
 "nbformat": 4,
 "nbformat_minor": 2
}

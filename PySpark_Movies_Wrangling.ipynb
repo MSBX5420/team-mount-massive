{
  "nbformat": 4,
  "nbformat_minor": 0,
  "metadata": {
    "colab": {
      "name": "PySpark_Movies_Wrangling.ipynb",
      "provenance": [],
      "collapsed_sections": [
        "riS9OFG9rcDZ"
      ],
      "machine_shape": "hm",
      "include_colab_link": true
    },
    "kernelspec": {
      "name": "python3",
      "display_name": "Python 3"
    },
    "accelerator": "GPU"
  },
  "cells": [
    {
      "cell_type": "markdown",
      "metadata": {
        "id": "view-in-github",
        "colab_type": "text"
      },
      "source": [
        "<a href=\"https://colab.research.google.com/github/MSBX5420/team-mount-massive/blob/master/PySpark_Movies_Wrangling.ipynb\" target=\"_parent\"><img src=\"https://colab.research.google.com/assets/colab-badge.svg\" alt=\"Open In Colab\"/></a>"
      ]
    },
    {
      "cell_type": "markdown",
      "metadata": {
        "id": "riS9OFG9rcDZ",
        "colab_type": "text"
      },
      "source": [
        "##PySpark data upload "
      ]
    },
    {
      "cell_type": "code",
      "metadata": {
        "id": "fx52VqwfT85C",
        "colab_type": "code",
        "outputId": "0540e084-2e6f-4be6-d588-4a2d74b09c95",
        "colab": {
          "base_uri": "https://localhost:8080/",
          "height": 262
        }
      },
      "source": [
        "pip install pyspark"
      ],
      "execution_count": 1,
      "outputs": [
        {
          "output_type": "stream",
          "text": [
            "Collecting pyspark\n",
            "\u001b[?25l  Downloading https://files.pythonhosted.org/packages/9a/5a/271c416c1c2185b6cb0151b29a91fff6fcaed80173c8584ff6d20e46b465/pyspark-2.4.5.tar.gz (217.8MB)\n",
            "\u001b[K     |████████████████████████████████| 217.8MB 42kB/s \n",
            "\u001b[?25hCollecting py4j==0.10.7\n",
            "\u001b[?25l  Downloading https://files.pythonhosted.org/packages/e3/53/c737818eb9a7dc32a7cd4f1396e787bd94200c3997c72c1dbe028587bd76/py4j-0.10.7-py2.py3-none-any.whl (197kB)\n",
            "\u001b[K     |████████████████████████████████| 204kB 50.7MB/s \n",
            "\u001b[?25hBuilding wheels for collected packages: pyspark\n",
            "  Building wheel for pyspark (setup.py) ... \u001b[?25l\u001b[?25hdone\n",
            "  Created wheel for pyspark: filename=pyspark-2.4.5-py2.py3-none-any.whl size=218257927 sha256=f26cff887070f70b87c436316eb0628cb10ee6efe936911f1a45a3cc24a05996\n",
            "  Stored in directory: /root/.cache/pip/wheels/bf/db/04/61d66a5939364e756eb1c1be4ec5bdce6e04047fc7929a3c3c\n",
            "Successfully built pyspark\n",
            "Installing collected packages: py4j, pyspark\n",
            "Successfully installed py4j-0.10.7 pyspark-2.4.5\n"
          ],
          "name": "stdout"
        }
      ]
    },
    {
      "cell_type": "code",
      "metadata": {
        "id": "YbyKMiK1Sleh",
        "colab_type": "code",
        "colab": {
          "base_uri": "https://localhost:8080/",
          "height": 124
        },
        "outputId": "d77167d3-5144-41cd-f80a-bf3588ea2a91"
      },
      "source": [
        "from google.colab import drive\n",
        "drive.mount('/content/drive')"
      ],
      "execution_count": 2,
      "outputs": [
        {
          "output_type": "stream",
          "text": [
            "Go to this URL in a browser: https://accounts.google.com/o/oauth2/auth?client_id=947318989803-6bn6qk8qdgf4n4g3pfee6491hc0brc4i.apps.googleusercontent.com&redirect_uri=urn%3aietf%3awg%3aoauth%3a2.0%3aoob&response_type=code&scope=email%20https%3a%2f%2fwww.googleapis.com%2fauth%2fdocs.test%20https%3a%2f%2fwww.googleapis.com%2fauth%2fdrive%20https%3a%2f%2fwww.googleapis.com%2fauth%2fdrive.photos.readonly%20https%3a%2f%2fwww.googleapis.com%2fauth%2fpeopleapi.readonly\n",
            "\n",
            "Enter your authorization code:\n",
            "··········\n",
            "Mounted at /content/drive\n"
          ],
          "name": "stdout"
        }
      ]
    },
    {
      "cell_type": "code",
      "metadata": {
        "id": "wrL9IUOeVL11",
        "colab_type": "code",
        "colab": {}
      },
      "source": [
        "from pyspark.sql import SparkSession\n",
        "spark = SparkSession.builder.getOrCreate()\n",
        "sc = spark.sparkContext"
      ],
      "execution_count": 0,
      "outputs": []
    },
    {
      "cell_type": "code",
      "metadata": {
        "id": "ALqpT1IzVM_A",
        "colab_type": "code",
        "outputId": "f8fda2bd-f7ab-40d9-aef5-ed6e0975c329",
        "colab": {
          "base_uri": "https://localhost:8080/",
          "height": 0
        }
      },
      "source": [
        "movies_df = spark.read.csv(\"drive/My Drive/Unstructured Final Project/MoviesDataset.csv\", header =True, inferSchema=True)\n",
        "#print it\n",
        "movies_df.show()"
      ],
      "execution_count": 4,
      "outputs": [
        {
          "output_type": "stream",
          "text": [
            "+---------+--------+--------------------+------+--------+-----------+--------------------+---------------+---------+---------+--------------------+--------------------+-------+---------+-------+--------------+--------------------+-------------+--------+\n",
            "|  titleId|ordering|               title|region|language|      types|          attributes|isOriginalTitle|   tconst|titleType|        primaryTitle|       originalTitle|isAdult|startYear|endYear|runtimeMinutes|              genres|averageRating|numVotes|\n",
            "+---------+--------+--------------------+------+--------+-----------+--------------------+---------------+---------+---------+--------------------+--------------------+-------+---------+-------+--------------+--------------------+-------------+--------+\n",
            "|tt0000001|       1|Carmencita - span...|    HU|      \\N|imdbDisplay|                  \\N|              0|tt0000001|    short|          Carmencita|          Carmencita|    0.0|     1894|     \\N|             1|   Documentary,Short|          5.6|  1550.0|\n",
            "|tt0000001|       2|          Καρμενσίτα|    GR|      \\N|         \\N|                  \\N|              0|tt0000001|    short|          Carmencita|          Carmencita|    0.0|     1894|     \\N|             1|   Documentary,Short|          5.6|  1550.0|\n",
            "|tt0000001|       3|          Карменсита|    RU|      \\N|         \\N|                  \\N|              0|tt0000001|    short|          Carmencita|          Carmencita|    0.0|     1894|     \\N|             1|   Documentary,Short|          5.6|  1550.0|\n",
            "|tt0000001|       4|          Carmencita|    US|      \\N|         \\N|                  \\N|              0|tt0000001|    short|          Carmencita|          Carmencita|    0.0|     1894|     \\N|             1|   Documentary,Short|          5.6|  1550.0|\n",
            "|tt0000001|       5|          Carmencita|    \\N|      \\N|   original|                  \\N|              1|tt0000001|    short|          Carmencita|          Carmencita|    0.0|     1894|     \\N|             1|   Documentary,Short|          5.6|  1550.0|\n",
            "|tt0000002|       1|Le clown et ses c...|    \\N|      \\N|   original|                  \\N|              1|tt0000002|    short|Le clown et ses c...|Le clown et ses c...|    0.0|     1892|     \\N|             5|     Animation,Short|          6.1|   186.0|\n",
            "|tt0000002|       2|   A bohóc és kutyái|    HU|      \\N|imdbDisplay|                  \\N|              0|tt0000002|    short|Le clown et ses c...|Le clown et ses c...|    0.0|     1892|     \\N|             5|     Animation,Short|          6.1|   186.0|\n",
            "|tt0000002|       3|Le clown et ses c...|    FR|      \\N|         \\N|                  \\N|              0|tt0000002|    short|Le clown et ses c...|Le clown et ses c...|    0.0|     1892|     \\N|             5|     Animation,Short|          6.1|   186.0|\n",
            "|tt0000002|       4|Clovnul si cainii...|    RO|      \\N|imdbDisplay|                  \\N|              0|tt0000002|    short|Le clown et ses c...|Le clown et ses c...|    0.0|     1892|     \\N|             5|     Animation,Short|          6.1|   186.0|\n",
            "|tt0000002|       5|  Клоун и его собаки|    RU|      \\N|         \\N|                  \\N|              0|tt0000002|    short|Le clown et ses c...|Le clown et ses c...|    0.0|     1892|     \\N|             5|     Animation,Short|          6.1|   186.0|\n",
            "|tt0000002|       6|The Clown and His...|    US|      \\N|         \\N|literal English t...|              0|tt0000002|    short|Le clown et ses c...|Le clown et ses c...|    0.0|     1892|     \\N|             5|     Animation,Short|          6.1|   186.0|\n",
            "|tt0000003|       1|    Sarmanul Pierrot|    RO|      \\N|imdbDisplay|                  \\N|              0|tt0000003|    short|      Pauvre Pierrot|      Pauvre Pierrot|    0.0|     1892|     \\N|             4|Animation,Comedy,...|          6.5|  1207.0|\n",
            "|tt0000003|       2|     Szegény Pierrot|    HU|      \\N|imdbDisplay|                  \\N|              0|tt0000003|    short|      Pauvre Pierrot|      Pauvre Pierrot|    0.0|     1892|     \\N|             4|Animation,Comedy,...|          6.5|  1207.0|\n",
            "|tt0000003|       3|        Бедный Пьеро|    RU|      \\N|         \\N|                  \\N|              0|tt0000003|    short|      Pauvre Pierrot|      Pauvre Pierrot|    0.0|     1892|     \\N|             4|Animation,Comedy,...|          6.5|  1207.0|\n",
            "|tt0000003|       4|      Pauvre Pierrot|    \\N|      \\N|   original|                  \\N|              1|tt0000003|    short|      Pauvre Pierrot|      Pauvre Pierrot|    0.0|     1892|     \\N|             4|Animation,Comedy,...|          6.5|  1207.0|\n",
            "|tt0000003|       5|        Poor Pierrot|    GB|      \\N|imdbDisplay|                  \\N|              0|tt0000003|    short|      Pauvre Pierrot|      Pauvre Pierrot|    0.0|     1892|     \\N|             4|Animation,Comedy,...|          6.5|  1207.0|\n",
            "|tt0000003|       6|      Pauvre Pierrot|    FR|      \\N|         \\N|                  \\N|              0|tt0000003|    short|      Pauvre Pierrot|      Pauvre Pierrot|    0.0|     1892|     \\N|             4|Animation,Comedy,...|          6.5|  1207.0|\n",
            "|tt0000004|       1|         Un bon bock|    \\N|      \\N|   original|                  \\N|              1|tt0000004|    short|         Un bon bock|         Un bon bock|    0.0|     1892|     \\N|            \\N|     Animation,Short|          6.2|   113.0|\n",
            "|tt0000004|       2|      Un ţap de bere|    RO|      \\N|         \\N|                  \\N|              0|tt0000004|    short|         Un bon bock|         Un bon bock|    0.0|     1892|     \\N|            \\N|     Animation,Short|          6.2|   113.0|\n",
            "|tt0000004|       3|         Un bon bock|    FR|      \\N|         \\N|                  \\N|              0|tt0000004|    short|         Un bon bock|         Un bon bock|    0.0|     1892|     \\N|            \\N|     Animation,Short|          6.2|   113.0|\n",
            "+---------+--------+--------------------+------+--------+-----------+--------------------+---------------+---------+---------+--------------------+--------------------+-------+---------+-------+--------------+--------------------+-------------+--------+\n",
            "only showing top 20 rows\n",
            "\n"
          ],
          "name": "stdout"
        }
      ]
    },
    {
      "cell_type": "code",
      "metadata": {
        "id": "tWB9B7ogqLok",
        "colab_type": "code",
        "colab": {}
      },
      "source": [
        "#still working on getting this to work?\n",
        "#movies_df.count()"
      ],
      "execution_count": 0,
      "outputs": []
    },
    {
      "cell_type": "code",
      "metadata": {
        "id": "-SWpxZKgXWAm",
        "colab_type": "code",
        "colab": {
          "base_uri": "https://localhost:8080/",
          "height": 0
        },
        "outputId": "3e0a13a0-eaca-4566-cee5-049c4d35bc85"
      },
      "source": [
        "movies_df.printSchema()"
      ],
      "execution_count": 6,
      "outputs": [
        {
          "output_type": "stream",
          "text": [
            "root\n",
            " |-- titleId: string (nullable = true)\n",
            " |-- ordering: string (nullable = true)\n",
            " |-- title: string (nullable = true)\n",
            " |-- region: string (nullable = true)\n",
            " |-- language: string (nullable = true)\n",
            " |-- types: string (nullable = true)\n",
            " |-- attributes: string (nullable = true)\n",
            " |-- isOriginalTitle: string (nullable = true)\n",
            " |-- tconst: string (nullable = true)\n",
            " |-- titleType: string (nullable = true)\n",
            " |-- primaryTitle: string (nullable = true)\n",
            " |-- originalTitle: string (nullable = true)\n",
            " |-- isAdult: string (nullable = true)\n",
            " |-- startYear: string (nullable = true)\n",
            " |-- endYear: string (nullable = true)\n",
            " |-- runtimeMinutes: string (nullable = true)\n",
            " |-- genres: string (nullable = true)\n",
            " |-- averageRating: string (nullable = true)\n",
            " |-- numVotes: string (nullable = true)\n",
            "\n"
          ],
          "name": "stdout"
        }
      ]
    },
    {
      "cell_type": "markdown",
      "metadata": {
        "id": "ilYohbzKrnzH",
        "colab_type": "text"
      },
      "source": [
        "##Filtering data in PySpark for original titles, and removing rows with NA, filtering for movies with less than 250 votes (numVotes)"
      ]
    },
    {
      "cell_type": "code",
      "metadata": {
        "id": "OeAKMog-PWjv",
        "colab_type": "code",
        "colab": {}
      },
      "source": [
        "import pandas as pd \n",
        "import numpy as np"
      ],
      "execution_count": 0,
      "outputs": []
    },
    {
      "cell_type": "code",
      "metadata": {
        "id": "K49wfKxWkJOn",
        "colab_type": "code",
        "colab": {}
      },
      "source": [
        "from pyspark.sql.functions import lit, when, col, regexp_extract"
      ],
      "execution_count": 0,
      "outputs": []
    },
    {
      "cell_type": "code",
      "metadata": {
        "id": "tfagv5QcgYjQ",
        "colab_type": "code",
        "colab": {
          "base_uri": "https://localhost:8080/",
          "height": 486
        },
        "outputId": "cad2d850-cdf6-4735-db67-f48b2cef8b99"
      },
      "source": [
        "movies_df_1 = movies_df.filter(movies_df[\"isOriginalTitle\"] == '1')\n",
        "movies_df_1.show()"
      ],
      "execution_count": 9,
      "outputs": [
        {
          "output_type": "stream",
          "text": [
            "+---------+--------+--------------------+------+--------+--------+----------+---------------+---------+---------+--------------------+--------------------+-------+---------+-------+--------------+--------------------+-------------+--------+\n",
            "|  titleId|ordering|               title|region|language|   types|attributes|isOriginalTitle|   tconst|titleType|        primaryTitle|       originalTitle|isAdult|startYear|endYear|runtimeMinutes|              genres|averageRating|numVotes|\n",
            "+---------+--------+--------------------+------+--------+--------+----------+---------------+---------+---------+--------------------+--------------------+-------+---------+-------+--------------+--------------------+-------------+--------+\n",
            "|tt0000001|       5|          Carmencita|    \\N|      \\N|original|        \\N|              1|tt0000001|    short|          Carmencita|          Carmencita|    0.0|     1894|     \\N|             1|   Documentary,Short|          5.6|  1550.0|\n",
            "|tt0000002|       1|Le clown et ses c...|    \\N|      \\N|original|        \\N|              1|tt0000002|    short|Le clown et ses c...|Le clown et ses c...|    0.0|     1892|     \\N|             5|     Animation,Short|          6.1|   186.0|\n",
            "|tt0000003|       4|      Pauvre Pierrot|    \\N|      \\N|original|        \\N|              1|tt0000003|    short|      Pauvre Pierrot|      Pauvre Pierrot|    0.0|     1892|     \\N|             4|Animation,Comedy,...|          6.5|  1207.0|\n",
            "|tt0000004|       1|         Un bon bock|    \\N|      \\N|original|        \\N|              1|tt0000004|    short|         Un bon bock|         Un bon bock|    0.0|     1892|     \\N|            \\N|     Animation,Short|          6.2|   113.0|\n",
            "|tt0000005|       8|    Blacksmith Scene|    \\N|      \\N|original|        \\N|              1|tt0000005|    short|    Blacksmith Scene|    Blacksmith Scene|    0.0|     1893|     \\N|             1|        Comedy,Short|          6.1|  1934.0|\n",
            "|tt0000006|       5|   Chinese Opium Den|    \\N|      \\N|original|        \\N|              1|tt0000006|    short|   Chinese Opium Den|   Chinese Opium Den|    0.0|     1894|     \\N|             1|               Short|          5.2|   102.0|\n",
            "|tt0000007|       2|Corbett and Court...|    \\N|      \\N|original|        \\N|              1|tt0000007|    short|Corbett and Court...|Corbett and Court...|    0.0|     1894|     \\N|             1|         Short,Sport|          5.5|   615.0|\n",
            "|tt0000008|       4|Edison Kinetoscop...|    \\N|      \\N|original|        \\N|              1|tt0000008|    short|Edison Kinetoscop...|Edison Kinetoscop...|    0.0|     1894|     \\N|             1|   Documentary,Short|          5.4|  1667.0|\n",
            "|tt0000009|       1|          Miss Jerry|    \\N|      \\N|original|        \\N|              1|tt0000009|    movie|          Miss Jerry|          Miss Jerry|    0.0|     1894|     \\N|            45|             Romance|          5.4|    81.0|\n",
            "|tt0000010|      11|La sortie de l'us...|    \\N|      \\N|original|        \\N|              1|tt0000010|    short| Exiting the Factory|La sortie de l'us...|    0.0|     1895|     \\N|             1|   Documentary,Short|          6.9|  5545.0|\n",
            "|tt0000011|       2|Akrobatisches Pot...|    \\N|      \\N|original|        \\N|              1|tt0000011|    short|Akrobatisches Pot...|Akrobatisches Pot...|    0.0|     1895|     \\N|             1|   Documentary,Short|          5.2|   236.0|\n",
            "|tt0000012|       7|L'arrivée d'un tr...|    \\N|      \\N|original|        \\N|              1|tt0000012|    short|The Arrival of a ...|L'arrivée d'un tr...|    0.0|     1896|     \\N|             1|Action,Documentar...|          7.4|  9435.0|\n",
            "|tt0000013|       9|Neuville-sur-Saôn...|    \\N|      \\N|original|        \\N|              1|tt0000013|    short|The Photographica...|Neuville-sur-Saôn...|    0.0|     1895|     \\N|             1|   Documentary,Short|          5.7|  1447.0|\n",
            "|tt0000014|      12|   L'arroseur arrosé|    \\N|      \\N|original|        \\N|              1|tt0000014|    short|The Sprinkler Spr...|   L'arroseur arrosé|    0.0|     1895|     \\N|             1|        Comedy,Short|          7.1|  4111.0|\n",
            "|tt0000015|       5| Autour d'une cabine|    \\N|      \\N|original|        \\N|              1|tt0000015|    short| Autour d'une cabine| Autour d'une cabine|    0.0|     1894|     \\N|             2|     Animation,Short|          6.1|   741.0|\n",
            "|tt0000016|       8|Barque sortant du...|    \\N|      \\N|original|        \\N|              1|tt0000016|    short|Barque sortant du...|Barque sortant du...|    0.0|     1895|     \\N|             1|   Documentary,Short|          5.9|  1088.0|\n",
            "|tt0000017|       1|Italienischer Bau...|    \\N|      \\N|original|        \\N|              1|tt0000017|    short|Italienischer Bau...|Italienischer Bau...|    0.0|     1895|     \\N|             1|   Documentary,Short|          4.7|   214.0|\n",
            "|tt0000018|       3|Das boxende Känguruh|    \\N|      \\N|original|        \\N|              1|tt0000018|    short|Das boxende Känguruh|Das boxende Känguruh|    0.0|     1895|     \\N|             1|               Short|          5.4|   447.0|\n",
            "|tt0000020|       1|      The Derby 1895|    \\N|      \\N|original|        \\N|              1|tt0000020|    short|      The Derby 1895|      The Derby 1895|    0.0|     1895|     \\N|             1|Documentary,Short...|          5.0|   249.0|\n",
            "|tt0000022|       6|       Les forgerons|    \\N|      \\N|original|        \\N|              1|tt0000022|    short|    Blacksmith Scene|       Les forgerons|    0.0|     1895|     \\N|             1|   Documentary,Short|          5.1|   805.0|\n",
            "+---------+--------+--------------------+------+--------+--------+----------+---------------+---------+---------+--------------------+--------------------+-------+---------+-------+--------------+--------------------+-------------+--------+\n",
            "only showing top 20 rows\n",
            "\n"
          ],
          "name": "stdout"
        }
      ]
    },
    {
      "cell_type": "code",
      "metadata": {
        "id": "5MJR4362nodV",
        "colab_type": "code",
        "colab": {
          "base_uri": "https://localhost:8080/",
          "height": 486
        },
        "outputId": "d98d6212-2256-41bc-890a-cd7ec0180f0e"
      },
      "source": [
        "movies_df_2 = movies_df_1.dropna()\n",
        "\n",
        "movies_df_2.show()"
      ],
      "execution_count": 10,
      "outputs": [
        {
          "output_type": "stream",
          "text": [
            "+---------+--------+--------------------+------+--------+--------+----------+---------------+---------+---------+--------------------+--------------------+-------+---------+-------+--------------+--------------------+-------------+--------+\n",
            "|  titleId|ordering|               title|region|language|   types|attributes|isOriginalTitle|   tconst|titleType|        primaryTitle|       originalTitle|isAdult|startYear|endYear|runtimeMinutes|              genres|averageRating|numVotes|\n",
            "+---------+--------+--------------------+------+--------+--------+----------+---------------+---------+---------+--------------------+--------------------+-------+---------+-------+--------------+--------------------+-------------+--------+\n",
            "|tt0000001|       5|          Carmencita|    \\N|      \\N|original|        \\N|              1|tt0000001|    short|          Carmencita|          Carmencita|    0.0|     1894|     \\N|             1|   Documentary,Short|          5.6|  1550.0|\n",
            "|tt0000002|       1|Le clown et ses c...|    \\N|      \\N|original|        \\N|              1|tt0000002|    short|Le clown et ses c...|Le clown et ses c...|    0.0|     1892|     \\N|             5|     Animation,Short|          6.1|   186.0|\n",
            "|tt0000003|       4|      Pauvre Pierrot|    \\N|      \\N|original|        \\N|              1|tt0000003|    short|      Pauvre Pierrot|      Pauvre Pierrot|    0.0|     1892|     \\N|             4|Animation,Comedy,...|          6.5|  1207.0|\n",
            "|tt0000004|       1|         Un bon bock|    \\N|      \\N|original|        \\N|              1|tt0000004|    short|         Un bon bock|         Un bon bock|    0.0|     1892|     \\N|            \\N|     Animation,Short|          6.2|   113.0|\n",
            "|tt0000005|       8|    Blacksmith Scene|    \\N|      \\N|original|        \\N|              1|tt0000005|    short|    Blacksmith Scene|    Blacksmith Scene|    0.0|     1893|     \\N|             1|        Comedy,Short|          6.1|  1934.0|\n",
            "|tt0000006|       5|   Chinese Opium Den|    \\N|      \\N|original|        \\N|              1|tt0000006|    short|   Chinese Opium Den|   Chinese Opium Den|    0.0|     1894|     \\N|             1|               Short|          5.2|   102.0|\n",
            "|tt0000007|       2|Corbett and Court...|    \\N|      \\N|original|        \\N|              1|tt0000007|    short|Corbett and Court...|Corbett and Court...|    0.0|     1894|     \\N|             1|         Short,Sport|          5.5|   615.0|\n",
            "|tt0000008|       4|Edison Kinetoscop...|    \\N|      \\N|original|        \\N|              1|tt0000008|    short|Edison Kinetoscop...|Edison Kinetoscop...|    0.0|     1894|     \\N|             1|   Documentary,Short|          5.4|  1667.0|\n",
            "|tt0000009|       1|          Miss Jerry|    \\N|      \\N|original|        \\N|              1|tt0000009|    movie|          Miss Jerry|          Miss Jerry|    0.0|     1894|     \\N|            45|             Romance|          5.4|    81.0|\n",
            "|tt0000010|      11|La sortie de l'us...|    \\N|      \\N|original|        \\N|              1|tt0000010|    short| Exiting the Factory|La sortie de l'us...|    0.0|     1895|     \\N|             1|   Documentary,Short|          6.9|  5545.0|\n",
            "|tt0000011|       2|Akrobatisches Pot...|    \\N|      \\N|original|        \\N|              1|tt0000011|    short|Akrobatisches Pot...|Akrobatisches Pot...|    0.0|     1895|     \\N|             1|   Documentary,Short|          5.2|   236.0|\n",
            "|tt0000012|       7|L'arrivée d'un tr...|    \\N|      \\N|original|        \\N|              1|tt0000012|    short|The Arrival of a ...|L'arrivée d'un tr...|    0.0|     1896|     \\N|             1|Action,Documentar...|          7.4|  9435.0|\n",
            "|tt0000013|       9|Neuville-sur-Saôn...|    \\N|      \\N|original|        \\N|              1|tt0000013|    short|The Photographica...|Neuville-sur-Saôn...|    0.0|     1895|     \\N|             1|   Documentary,Short|          5.7|  1447.0|\n",
            "|tt0000014|      12|   L'arroseur arrosé|    \\N|      \\N|original|        \\N|              1|tt0000014|    short|The Sprinkler Spr...|   L'arroseur arrosé|    0.0|     1895|     \\N|             1|        Comedy,Short|          7.1|  4111.0|\n",
            "|tt0000015|       5| Autour d'une cabine|    \\N|      \\N|original|        \\N|              1|tt0000015|    short| Autour d'une cabine| Autour d'une cabine|    0.0|     1894|     \\N|             2|     Animation,Short|          6.1|   741.0|\n",
            "|tt0000016|       8|Barque sortant du...|    \\N|      \\N|original|        \\N|              1|tt0000016|    short|Barque sortant du...|Barque sortant du...|    0.0|     1895|     \\N|             1|   Documentary,Short|          5.9|  1088.0|\n",
            "|tt0000017|       1|Italienischer Bau...|    \\N|      \\N|original|        \\N|              1|tt0000017|    short|Italienischer Bau...|Italienischer Bau...|    0.0|     1895|     \\N|             1|   Documentary,Short|          4.7|   214.0|\n",
            "|tt0000018|       3|Das boxende Känguruh|    \\N|      \\N|original|        \\N|              1|tt0000018|    short|Das boxende Känguruh|Das boxende Känguruh|    0.0|     1895|     \\N|             1|               Short|          5.4|   447.0|\n",
            "|tt0000020|       1|      The Derby 1895|    \\N|      \\N|original|        \\N|              1|tt0000020|    short|      The Derby 1895|      The Derby 1895|    0.0|     1895|     \\N|             1|Documentary,Short...|          5.0|   249.0|\n",
            "|tt0000022|       6|       Les forgerons|    \\N|      \\N|original|        \\N|              1|tt0000022|    short|    Blacksmith Scene|       Les forgerons|    0.0|     1895|     \\N|             1|   Documentary,Short|          5.1|   805.0|\n",
            "+---------+--------+--------------------+------+--------+--------+----------+---------------+---------+---------+--------------------+--------------------+-------+---------+-------+--------------+--------------------+-------------+--------+\n",
            "only showing top 20 rows\n",
            "\n"
          ],
          "name": "stdout"
        }
      ]
    },
    {
      "cell_type": "code",
      "metadata": {
        "id": "iFIutcO052vi",
        "colab_type": "code",
        "colab": {}
      },
      "source": [
        "movies_df_2 = movies_df_2.filter(movies_df_2[\"numVotes\"] > 250)"
      ],
      "execution_count": 0,
      "outputs": []
    },
    {
      "cell_type": "code",
      "metadata": {
        "id": "RO25H5Q0m6nE",
        "colab_type": "code",
        "colab": {}
      },
      "source": [
        " #Again, still cant get any of these to work :(\n",
        "     \n",
        " #movies_df_2.count()\n",
        "  #movies_df_2.describe()"
      ],
      "execution_count": 0,
      "outputs": []
    },
    {
      "cell_type": "code",
      "metadata": {
        "id": "qi96B7RG6v8s",
        "colab_type": "code",
        "colab": {}
      },
      "source": [
        "movies_df_2.count()"
      ],
      "execution_count": 0,
      "outputs": []
    },
    {
      "cell_type": "markdown",
      "metadata": {
        "id": "spVTEIjjvkjc",
        "colab_type": "text"
      },
      "source": [
        "##Investigating dataframe using PySpark "
      ]
    },
    {
      "cell_type": "code",
      "metadata": {
        "id": "DtHfto-nvoxE",
        "colab_type": "code",
        "colab": {
          "base_uri": "https://localhost:8080/",
          "height": 345
        },
        "outputId": "d410b99d-4d26-44dc-b474-da3e28e4ceb4"
      },
      "source": [
        "movies_df_2.columns "
      ],
      "execution_count": 12,
      "outputs": [
        {
          "output_type": "execute_result",
          "data": {
            "text/plain": [
              "['titleId',\n",
              " 'ordering',\n",
              " 'title',\n",
              " 'region',\n",
              " 'language',\n",
              " 'types',\n",
              " 'attributes',\n",
              " 'isOriginalTitle',\n",
              " 'tconst',\n",
              " 'titleType',\n",
              " 'primaryTitle',\n",
              " 'originalTitle',\n",
              " 'isAdult',\n",
              " 'startYear',\n",
              " 'endYear',\n",
              " 'runtimeMinutes',\n",
              " 'genres',\n",
              " 'averageRating',\n",
              " 'numVotes']"
            ]
          },
          "metadata": {
            "tags": []
          },
          "execution_count": 12
        }
      ]
    },
    {
      "cell_type": "code",
      "metadata": {
        "id": "OH3F-5tJv046",
        "colab_type": "code",
        "colab": {
          "base_uri": "https://localhost:8080/",
          "height": 106
        },
        "outputId": "88b50d25-1105-4da9-80b7-96efe4ac88dd"
      },
      "source": [
        "movies_df_2.explain()"
      ],
      "execution_count": 13,
      "outputs": [
        {
          "output_type": "stream",
          "text": [
            "== Physical Plan ==\n",
            "*(1) Project [titleId#10, ordering#11, title#12, region#13, language#14, types#15, attributes#16, isOriginalTitle#17, tconst#18, titleType#19, primaryTitle#20, originalTitle#21, isAdult#22, startYear#23, endYear#24, runtimeMinutes#25, genres#26, averageRating#27, numVotes#28]\n",
            "+- *(1) Filter ((isnotnull(isOriginalTitle#17) && (isOriginalTitle#17 = 1)) && AtLeastNNulls(n, titleId#10,ordering#11,title#12,region#13,language#14,types#15,attributes#16,isOriginalTitle#17,tconst#18,titleType#19,primaryTitle#20,originalTitle#21,isAdult#22,startYear#23,endYear#24,runtimeMinutes#25,genres#26,averageRating#27,numVotes#28))\n",
            "   +- *(1) FileScan csv [titleId#10,ordering#11,title#12,region#13,language#14,types#15,attributes#16,isOriginalTitle#17,tconst#18,titleType#19,primaryTitle#20,originalTitle#21,isAdult#22,startYear#23,endYear#24,runtimeMinutes#25,genres#26,averageRating#27,numVotes#28] Batched: false, Format: CSV, Location: InMemoryFileIndex[file:/content/drive/My Drive/Unstructured Final Project/MoviesDataset.csv], PartitionFilters: [], PushedFilters: [IsNotNull(isOriginalTitle), EqualTo(isOriginalTitle,1)], ReadSchema: struct<titleId:string,ordering:string,title:string,region:string,language:string,types:string,att...\n"
          ],
          "name": "stdout"
        }
      ]
    },
    {
      "cell_type": "code",
      "metadata": {
        "id": "hgxLK5zhv8Mu",
        "colab_type": "code",
        "colab": {
          "base_uri": "https://localhost:8080/",
          "height": 383
        },
        "outputId": "f6d534a9-ada4-4234-f8af-a33a2ee4c676"
      },
      "source": [
        "movies_df_2.take(20)"
      ],
      "execution_count": 19,
      "outputs": [
        {
          "output_type": "execute_result",
          "data": {
            "text/plain": [
              "[Row(titleId='tt0000001', ordering='5', title='Carmencita', region='\\\\N', language='\\\\N', types='original', attributes='\\\\N', isOriginalTitle='1', tconst='tt0000001', titleType='short', primaryTitle='Carmencita', originalTitle='Carmencita', isAdult='0.0', startYear='1894', endYear='\\\\N', runtimeMinutes='1', genres='Documentary,Short', averageRating='5.6', numVotes='1550.0'),\n",
              " Row(titleId='tt0000003', ordering='4', title='Pauvre Pierrot', region='\\\\N', language='\\\\N', types='original', attributes='\\\\N', isOriginalTitle='1', tconst='tt0000003', titleType='short', primaryTitle='Pauvre Pierrot', originalTitle='Pauvre Pierrot', isAdult='0.0', startYear='1892', endYear='\\\\N', runtimeMinutes='4', genres='Animation,Comedy,Romance', averageRating='6.5', numVotes='1207.0'),\n",
              " Row(titleId='tt0000005', ordering='8', title='Blacksmith Scene', region='\\\\N', language='\\\\N', types='original', attributes='\\\\N', isOriginalTitle='1', tconst='tt0000005', titleType='short', primaryTitle='Blacksmith Scene', originalTitle='Blacksmith Scene', isAdult='0.0', startYear='1893', endYear='\\\\N', runtimeMinutes='1', genres='Comedy,Short', averageRating='6.1', numVotes='1934.0'),\n",
              " Row(titleId='tt0000007', ordering='2', title='Corbett and Courtney Before the Kinetograph', region='\\\\N', language='\\\\N', types='original', attributes='\\\\N', isOriginalTitle='1', tconst='tt0000007', titleType='short', primaryTitle='Corbett and Courtney Before the Kinetograph', originalTitle='Corbett and Courtney Before the Kinetograph', isAdult='0.0', startYear='1894', endYear='\\\\N', runtimeMinutes='1', genres='Short,Sport', averageRating='5.5', numVotes='615.0'),\n",
              " Row(titleId='tt0000008', ordering='4', title='Edison Kinetoscopic Record of a Sneeze', region='\\\\N', language='\\\\N', types='original', attributes='\\\\N', isOriginalTitle='1', tconst='tt0000008', titleType='short', primaryTitle='Edison Kinetoscopic Record of a Sneeze', originalTitle='Edison Kinetoscopic Record of a Sneeze', isAdult='0.0', startYear='1894', endYear='\\\\N', runtimeMinutes='1', genres='Documentary,Short', averageRating='5.4', numVotes='1667.0'),\n",
              " Row(titleId='tt0000010', ordering='11', title=\"La sortie de l'usine Lumière à Lyon\", region='\\\\N', language='\\\\N', types='original', attributes='\\\\N', isOriginalTitle='1', tconst='tt0000010', titleType='short', primaryTitle='Exiting the Factory', originalTitle=\"La sortie de l'usine Lumière à Lyon\", isAdult='0.0', startYear='1895', endYear='\\\\N', runtimeMinutes='1', genres='Documentary,Short', averageRating='6.9', numVotes='5545.0'),\n",
              " Row(titleId='tt0000012', ordering='7', title=\"L'arrivée d'un train à La Ciotat\", region='\\\\N', language='\\\\N', types='original', attributes='\\\\N', isOriginalTitle='1', tconst='tt0000012', titleType='short', primaryTitle='The Arrival of a Train', originalTitle=\"L'arrivée d'un train à La Ciotat\", isAdult='0.0', startYear='1896', endYear='\\\\N', runtimeMinutes='1', genres='Action,Documentary,Short', averageRating='7.4', numVotes='9435.0'),\n",
              " Row(titleId='tt0000013', ordering='9', title='Neuville-sur-Saône: Débarquement du congrès des photographes à Lyon', region='\\\\N', language='\\\\N', types='original', attributes='\\\\N', isOriginalTitle='1', tconst='tt0000013', titleType='short', primaryTitle='The Photographical Congress Arrives in Lyon', originalTitle='Neuville-sur-Saône: Débarquement du congrès des photographes à Lyon', isAdult='0.0', startYear='1895', endYear='\\\\N', runtimeMinutes='1', genres='Documentary,Short', averageRating='5.7', numVotes='1447.0'),\n",
              " Row(titleId='tt0000014', ordering='12', title=\"L'arroseur arrosé\", region='\\\\N', language='\\\\N', types='original', attributes='\\\\N', isOriginalTitle='1', tconst='tt0000014', titleType='short', primaryTitle='The Sprinkler Sprinkled', originalTitle=\"L'arroseur arrosé\", isAdult='0.0', startYear='1895', endYear='\\\\N', runtimeMinutes='1', genres='Comedy,Short', averageRating='7.1', numVotes='4111.0'),\n",
              " Row(titleId='tt0000015', ordering='5', title=\"Autour d'une cabine\", region='\\\\N', language='\\\\N', types='original', attributes='\\\\N', isOriginalTitle='1', tconst='tt0000015', titleType='short', primaryTitle=\"Autour d'une cabine\", originalTitle=\"Autour d'une cabine\", isAdult='0.0', startYear='1894', endYear='\\\\N', runtimeMinutes='2', genres='Animation,Short', averageRating='6.1', numVotes='741.0'),\n",
              " Row(titleId='tt0000016', ordering='8', title='Barque sortant du port', region='\\\\N', language='\\\\N', types='original', attributes='\\\\N', isOriginalTitle='1', tconst='tt0000016', titleType='short', primaryTitle='Barque sortant du port', originalTitle='Barque sortant du port', isAdult='0.0', startYear='1895', endYear='\\\\N', runtimeMinutes='1', genres='Documentary,Short', averageRating='5.9', numVotes='1088.0'),\n",
              " Row(titleId='tt0000018', ordering='3', title='Das boxende Känguruh', region='\\\\N', language='\\\\N', types='original', attributes='\\\\N', isOriginalTitle='1', tconst='tt0000018', titleType='short', primaryTitle='Das boxende Känguruh', originalTitle='Das boxende Känguruh', isAdult='0.0', startYear='1895', endYear='\\\\N', runtimeMinutes='1', genres='Short', averageRating='5.4', numVotes='447.0'),\n",
              " Row(titleId='tt0000022', ordering='6', title='Les forgerons', region='\\\\N', language='\\\\N', types='original', attributes='\\\\N', isOriginalTitle='1', tconst='tt0000022', titleType='short', primaryTitle='Blacksmith Scene', originalTitle='Les forgerons', isAdult='0.0', startYear='1895', endYear='\\\\N', runtimeMinutes='1', genres='Documentary,Short', averageRating='5.1', numVotes='805.0'),\n",
              " Row(titleId='tt0000023', ordering='9', title='Baignade en mer', region='\\\\N', language='\\\\N', types='original', attributes='\\\\N', isOriginalTitle='1', tconst='tt0000023', titleType='short', primaryTitle='The Sea', originalTitle='Baignade en mer', isAdult='0.0', startYear='1895', endYear='\\\\N', runtimeMinutes='1', genres='Documentary,Short', averageRating='5.6', numVotes='1028.0'),\n",
              " Row(titleId='tt0000026', ordering='8', title=\"Partie d'écarté\", region='\\\\N', language='\\\\N', types='original', attributes='\\\\N', isOriginalTitle='1', tconst='tt0000026', titleType='short', primaryTitle='The Messers. Lumière at Cards', originalTitle=\"Partie d'écarté\", isAdult='0.0', startYear='1896', endYear='\\\\N', runtimeMinutes='1', genres='Documentary,Short', averageRating='5.7', numVotes='1233.0'),\n",
              " Row(titleId='tt0000027', ordering='4', title='Place des Cordeliers à Lyon', region='\\\\N', language='\\\\N', types='original', attributes='\\\\N', isOriginalTitle='1', tconst='tt0000027', titleType='short', primaryTitle=\"Cordeliers' Square in Lyon\", originalTitle='Place des Cordeliers à Lyon', isAdult='0.0', startYear='1895', endYear='\\\\N', runtimeMinutes='1', genres='Documentary,Short', averageRating='5.5', numVotes='848.0'),\n",
              " Row(titleId='tt0000028', ordering='2', title='La pêche aux poissons rouges', region='\\\\N', language='\\\\N', types='original', attributes='\\\\N', isOriginalTitle='1', tconst='tt0000028', titleType='short', primaryTitle='Fishing for Goldfish', originalTitle='La pêche aux poissons rouges', isAdult='0.0', startYear='1895', endYear='\\\\N', runtimeMinutes='1', genres='Documentary,Short', averageRating='5.1', numVotes='777.0'),\n",
              " Row(titleId='tt0000029', ordering='8', title='Repas de bébé', region='\\\\N', language='\\\\N', types='original', attributes='\\\\N', isOriginalTitle='1', tconst='tt0000029', titleType='short', primaryTitle=\"Baby's Dinner\", originalTitle='Repas de bébé', isAdult='0.0', startYear='1895', endYear='\\\\N', runtimeMinutes='1', genres='Documentary,Short', averageRating='5.9', numVotes='2639.0'),\n",
              " Row(titleId='tt0000030', ordering='2', title='Rough Sea at Dover', region='\\\\N', language='\\\\N', types='original', attributes='\\\\N', isOriginalTitle='1', tconst='tt0000030', titleType='short', primaryTitle='Rough Sea at Dover', originalTitle='Rough Sea at Dover', isAdult='0.0', startYear='1895', endYear='\\\\N', runtimeMinutes='1', genres='Documentary,Short', averageRating='5.2', numVotes='648.0'),\n",
              " Row(titleId='tt0000031', ordering='7', title='Le saut à la couverture', region='\\\\N', language='\\\\N', types='original', attributes='\\\\N', isOriginalTitle='1', tconst='tt0000031', titleType='short', primaryTitle='Jumping the Blanket', originalTitle='Le saut à la couverture', isAdult='0.0', startYear='1895', endYear='\\\\N', runtimeMinutes='1', genres='Documentary,Short', averageRating='5.5', numVotes='751.0')]"
            ]
          },
          "metadata": {
            "tags": []
          },
          "execution_count": 19
        }
      ]
    },
    {
      "cell_type": "markdown",
      "metadata": {
        "id": "9mfPa--r7Jxr",
        "colab_type": "text"
      },
      "source": [
        "##Creating a sample set of data for local development"
      ]
    },
    {
      "cell_type": "code",
      "metadata": {
        "id": "3fCTYXL57OCL",
        "colab_type": "code",
        "colab": {}
      },
      "source": [
        "sample_movies = movies_df_2.sample(False, 0.02, 42)\n",
        "test_movies = movies_df_2.sample(False, 0.02, 43)"
      ],
      "execution_count": 0,
      "outputs": []
    },
    {
      "cell_type": "code",
      "metadata": {
        "id": "sPY9ETEJ7krs",
        "colab_type": "code",
        "colab": {
          "base_uri": "https://localhost:8080/",
          "height": 383
        },
        "outputId": "2b5491b3-88ad-45d3-d1a4-3540fbb37e35"
      },
      "source": [
        "sample_movies.head(20)"
      ],
      "execution_count": 45,
      "outputs": [
        {
          "output_type": "execute_result",
          "data": {
            "text/plain": [
              "[Row(titleId='tt0000012', ordering='7', title=\"L'arrivée d'un train à La Ciotat\", region='\\\\N', language='\\\\N', types='original', attributes='\\\\N', isOriginalTitle='1', tconst='tt0000012', titleType='short', primaryTitle='The Arrival of a Train', originalTitle=\"L'arrivée d'un train à La Ciotat\", isAdult='0.0', startYear='1896', endYear='\\\\N', runtimeMinutes='1', genres='Action,Documentary,Short', averageRating='7.4', numVotes='9435.0'),\n",
              " Row(titleId='tt0000582', ordering='4', title='Ben Hur', region='\\\\N', language='\\\\N', types='original', attributes='\\\\N', isOriginalTitle='1', tconst='tt0000582', titleType='short', primaryTitle='Ben Hur', originalTitle='Ben Hur', isAdult='0.0', startYear='1907', endYear='\\\\N', runtimeMinutes='15', genres='Drama,Short', averageRating='5.1', numVotes='555.0'),\n",
              " Row(titleId='tt0001013', ordering='1', title=\"The Red Man's View\", region='\\\\N', language='\\\\N', types='original', attributes='\\\\N', isOriginalTitle='1', tconst='tt0001013', titleType='short', primaryTitle=\"The Red Man's View\", originalTitle=\"The Red Man's View\", isAdult='0.0', startYear='1909', endYear='\\\\N', runtimeMinutes='14', genres='Short,Western', averageRating='5.9', numVotes='283.0'),\n",
              " Row(titleId='tt0011545', ordering='8', title='Oranges and Lemons', region='\\\\N', language='\\\\N', types='original', attributes='\\\\N', isOriginalTitle='1', tconst='tt0011545', titleType='short', primaryTitle='Oranges and Lemons', originalTitle='Oranges and Lemons', isAdult='0.0', startYear='1923', endYear='\\\\N', runtimeMinutes='12', genres='Comedy,Short', averageRating='5.8', numVotes='367.0'),\n",
              " Row(titleId='tt0013951', ordering='7', title='The Covered Wagon', region='\\\\N', language='\\\\N', types='original', attributes='\\\\N', isOriginalTitle='1', tconst='tt0013951', titleType='movie', primaryTitle='The Covered Wagon', originalTitle='The Covered Wagon', isAdult='0.0', startYear='1923', endYear='\\\\N', runtimeMinutes='98', genres='Adventure,Romance,Western', averageRating='6.5', numVotes='470.0'),\n",
              " Row(titleId='tt0014416', ordering='1', title='Rosita', region='\\\\N', language='\\\\N', types='original', attributes='\\\\N', isOriginalTitle='1', tconst='tt0014416', titleType='movie', primaryTitle='Rosita', originalTitle='Rosita', isAdult='0.0', startYear='1923', endYear='\\\\N', runtimeMinutes='90', genres='Comedy,Romance', averageRating='6.5', numVotes='252.0'),\n",
              " Row(titleId='tt0014497', ordering='4', title='Souls for Sale', region='\\\\N', language='\\\\N', types='original', attributes='\\\\N', isOriginalTitle='1', tconst='tt0014497', titleType='movie', primaryTitle='Souls for Sale', originalTitle='Souls for Sale', isAdult='0.0', startYear='1923', endYear='\\\\N', runtimeMinutes='90', genres='Comedy,Drama,Romance', averageRating='7.0', numVotes='770.0'),\n",
              " Row(titleId='tt0015175', ordering='11', title='Die Nibelungen: Siegfried', region='\\\\N', language='\\\\N', types='original', attributes='\\\\N', isOriginalTitle='1', tconst='tt0015175', titleType='movie', primaryTitle='Die Nibelungen: Siegfried', originalTitle='Die Nibelungen: Siegfried', isAdult='0.0', startYear='1924', endYear='\\\\N', runtimeMinutes='143', genres='Adventure,Drama,Fantasy', averageRating='8.1', numVotes='4801.0'),\n",
              " Row(titleId='tt0015648', ordering='41', title='Bronenosets Potemkin', region='\\\\N', language='\\\\N', types='original', attributes='\\\\N', isOriginalTitle='1', tconst='tt0015648', titleType='movie', primaryTitle='Battleship Potemkin', originalTitle='Bronenosets Potemkin', isAdult='0.0', startYear='1925', endYear='\\\\N', runtimeMinutes='75', genres='Drama,History,Thriller', averageRating='8.0', numVotes='49224.0'),\n",
              " Row(titleId='tt0016461', ordering='9', title='Tumbleweeds', region='\\\\N', language='\\\\N', types='original', attributes='\\\\N', isOriginalTitle='1', tconst='tt0016461', titleType='movie', primaryTitle='Tumbleweeds', originalTitle='Tumbleweeds', isAdult='0.0', startYear='1925', endYear='\\\\N', runtimeMinutes='78', genres='Western', averageRating='6.5', numVotes='511.0'),\n",
              " Row(titleId='tt0016847', ordering='20', title='Faust: Eine deutsche Volkssage', region='\\\\N', language='\\\\N', types='original', attributes='\\\\N', isOriginalTitle='1', tconst='tt0016847', titleType='movie', primaryTitle='Faust', originalTitle='Faust: Eine deutsche Volkssage', isAdult='0.0', startYear='1926', endYear='\\\\N', runtimeMinutes='107', genres='Drama,Fantasy,Horror', averageRating='8.1', numVotes='13010.0'),\n",
              " Row(titleId='tt0017668', ordering='13', title='Berlin - Die Sinfonie der Großstadt', region='\\\\N', language='\\\\N', types='original', attributes='\\\\N', isOriginalTitle='1', tconst='tt0017668', titleType='movie', primaryTitle='Berlin: Symphony of a Great City', originalTitle='Berlin - Die Sinfonie der Großstadt', isAdult='0.0', startYear='1927', endYear='\\\\N', runtimeMinutes='65', genres='Documentary', averageRating='7.6', numVotes='3586.0'),\n",
              " Row(titleId='tt0018528', ordering='21', title='The Unknown', region='\\\\N', language='\\\\N', types='original', attributes='\\\\N', isOriginalTitle='1', tconst='tt0018528', titleType='movie', primaryTitle='The Unknown', originalTitle='The Unknown', isAdult='0.0', startYear='1927', endYear='\\\\N', runtimeMinutes='63', genres='Drama,Horror,Romance', averageRating='7.8', numVotes='6657.0'),\n",
              " Row(titleId='tt0018909', ordering='13', title='Four Sons', region='\\\\N', language='\\\\N', types='original', attributes='\\\\N', isOriginalTitle='1', tconst='tt0018909', titleType='movie', primaryTitle='Four Sons', originalTitle='Four Sons', isAdult='0.0', startYear='1928', endYear='\\\\N', runtimeMinutes='100', genres='Drama,War', averageRating='7.1', numVotes='580.0'),\n",
              " Row(titleId='tt0021287', ordering='3', title='Reaching for the Moon', region='\\\\N', language='\\\\N', types='original', attributes='\\\\N', isOriginalTitle='1', tconst='tt0021287', titleType='movie', primaryTitle='Reaching for the Moon', originalTitle='Reaching for the Moon', isAdult='0.0', startYear='1930', endYear='\\\\N', runtimeMinutes='91', genres='Comedy,Romance', averageRating='5.6', numVotes='320.0'),\n",
              " Row(titleId='tt0021339', ordering='7', title=\"School's Out\", region='\\\\N', language='\\\\N', types='original', attributes='\\\\N', isOriginalTitle='1', tconst='tt0021339', titleType='short', primaryTitle=\"School's Out\", originalTitle=\"School's Out\", isAdult='0.0', startYear='1930', endYear='\\\\N', runtimeMinutes='20', genres='Comedy,Family,Short', averageRating='7.3', numVotes='331.0'),\n",
              " Row(titleId='tt0021645', ordering='1', title='The Beach Party', region='\\\\N', language='\\\\N', types='original', attributes='\\\\N', isOriginalTitle='1', tconst='tt0021645', titleType='short', primaryTitle='The Beach Party', originalTitle='The Beach Party', isAdult='0.0', startYear='1931', endYear='\\\\N', runtimeMinutes='8', genres='Animation,Comedy,Family', averageRating='6.7', numVotes='306.0'),\n",
              " Row(titleId='tt0022251', ordering='32', title='Pardon Us', region='\\\\N', language='\\\\N', types='original', attributes='\\\\N', isOriginalTitle='1', tconst='tt0022251', titleType='movie', primaryTitle='Pardon Us', originalTitle='Pardon Us', isAdult='0.0', startYear='1931', endYear='\\\\N', runtimeMinutes='56', genres='Comedy,Crime,Drama', averageRating='7.0', numVotes='2005.0'),\n",
              " Row(titleId='tt0023002', ordering='6', title='Die Herrin von Atlantis', region='\\\\N', language='\\\\N', types='original', attributes='\\\\N', isOriginalTitle='1', tconst='tt0023002', titleType='movie', primaryTitle='Queen of Atlantis', originalTitle='Die Herrin von Atlantis', isAdult='0.0', startYear='1932', endYear='\\\\N', runtimeMinutes='87', genres='Fantasy,Sci-Fi', averageRating='6.1', numVotes='494.0'),\n",
              " Row(titleId='tt0023125', ordering='2', title='Lawyer Man', region='\\\\N', language='\\\\N', types='original', attributes='\\\\N', isOriginalTitle='1', tconst='tt0023125', titleType='movie', primaryTitle='Lawyer Man', originalTitle='Lawyer Man', isAdult='0.0', startYear='1932', endYear='\\\\N', runtimeMinutes='72', genres='Drama,Romance', averageRating='6.6', numVotes='594.0')]"
            ]
          },
          "metadata": {
            "tags": []
          },
          "execution_count": 45
        }
      ]
    },
    {
      "cell_type": "code",
      "metadata": {
        "id": "AidXQkWH8LJf",
        "colab_type": "code",
        "colab": {}
      },
      "source": [
        "sample_movies.write.csv('drive/My Drive/Unstructured Final Project/sample_movies.csv')\n",
        "test_movies.write.csv('drive/My Drive/Unstructured Final Project/test_movies.csv')"
      ],
      "execution_count": 0,
      "outputs": []
    },
    {
      "cell_type": "code",
      "metadata": {
        "id": "K2-t8uw7-81D",
        "colab_type": "code",
        "colab": {}
      },
      "source": [
        "sample_movies.repartition(1).write.format('com.databricks.spark.csv').save(\"drive/My Drive/Unstructured Final Project/sample_movies_csv.csv\",header = 'true')"
      ],
      "execution_count": 0,
      "outputs": []
    },
    {
      "cell_type": "code",
      "metadata": {
        "id": "smqldgcsBYP2",
        "colab_type": "code",
        "colab": {}
      },
      "source": [
        "test_movies.repartition(1).write.format('com.databricks.spark.csv').save(\"drive/My Drive/Unstructured Final Project/test_movies_csv.csv\",header = 'true')"
      ],
      "execution_count": 0,
      "outputs": []
    },
    {
      "cell_type": "markdown",
      "metadata": {
        "id": "VLvTxzi1XyOz",
        "colab_type": "text"
      },
      "source": [
        "##Exporting code in PySpark \n",
        "\n",
        "1.   Parquet export code \n",
        "2.   CSV expport code \n",
        "\n"
      ]
    },
    {
      "cell_type": "code",
      "metadata": {
        "id": "qJXPyqH6X0oc",
        "colab_type": "code",
        "colab": {}
      },
      "source": [
        "#partitioned file\n",
        "movies_df_2.write.parquet(\"drive/My Drive/Unstructured Final Project/MoviesDatasetParquet\")\n",
        "#csv \n",
        "movies_df_2.coalesce(1).write.mode(\"overwrite\")\\\n",
        ".format(\"com.databricks.spark.csv\")\\\n",
        ".option(\"header\", \"true\")\\\n",
        ".option(\"sep\", \"|\")\\\n",
        ".save('drive/My Drive/Unstructured Final Project/my_output_csv')"
      ],
      "execution_count": 0,
      "outputs": []
    }
  ]
}
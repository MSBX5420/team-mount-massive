{
 "cells": [
  {
   "cell_type": "code",
   "execution_count": 262,
   "metadata": {},
   "outputs": [],
   "source": [
    "import numpy as np\n",
    "import pandas as pd\n",
    "import matplotlib.pyplot as plt\n",
    "\n",
    "from IPython.core.interactiveshell import InteractiveShell\n",
    "InteractiveShell.ast_node_interactivity = \"all\" # show all outputs in the same cell\n",
    "\n",
    "np.set_printoptions(precision=4)# show only four decimal digits"
   ]
  },
  {
   "cell_type": "code",
   "execution_count": 263,
   "metadata": {},
   "outputs": [],
   "source": [
    "from sklearn import preprocessing\n",
    "import matplotlib.pyplot as plt \n",
    "plt.rc(\"font\", size=14)\n",
    "from sklearn.linear_model import LogisticRegression\n",
    "from sklearn.model_selection import train_test_split\n",
    "from sklearn.metrics import classification_report, confusion_matrix\n",
    "import seaborn as sns\n",
    "sns.set(style=\"white\")\n",
    "sns.set(style=\"whitegrid\", color_codes=True)"
   ]
  },
  {
   "cell_type": "code",
   "execution_count": 264,
   "metadata": {},
   "outputs": [],
   "source": [
    "import plotly.graph_objects as go"
   ]
  },
  {
   "cell_type": "code",
   "execution_count": 265,
   "metadata": {},
   "outputs": [],
   "source": [
    "movies=pd.read_csv(r\"C:\\Users\\Neha Thakar\\Desktop\\Spring Term\\Unstructured Data Modeling\\Project\\test_movies_single.csv\")"
   ]
  },
  {
   "cell_type": "markdown",
   "metadata": {},
   "source": [
    "# Exploring the Data"
   ]
  },
  {
   "cell_type": "code",
   "execution_count": 266,
   "metadata": {},
   "outputs": [
    {
     "data": {
      "text/html": [
       "<div>\n",
       "<style scoped>\n",
       "    .dataframe tbody tr th:only-of-type {\n",
       "        vertical-align: middle;\n",
       "    }\n",
       "\n",
       "    .dataframe tbody tr th {\n",
       "        vertical-align: top;\n",
       "    }\n",
       "\n",
       "    .dataframe thead th {\n",
       "        text-align: right;\n",
       "    }\n",
       "</style>\n",
       "<table border=\"1\" class=\"dataframe\">\n",
       "  <thead>\n",
       "    <tr style=\"text-align: right;\">\n",
       "      <th></th>\n",
       "      <th>titleId</th>\n",
       "      <th>ordering</th>\n",
       "      <th>title</th>\n",
       "      <th>region</th>\n",
       "      <th>language</th>\n",
       "      <th>types</th>\n",
       "      <th>attributes</th>\n",
       "      <th>isOriginalTitle</th>\n",
       "      <th>tconst</th>\n",
       "      <th>titleType</th>\n",
       "      <th>primaryTitle</th>\n",
       "      <th>originalTitle</th>\n",
       "      <th>isAdult</th>\n",
       "      <th>startYear</th>\n",
       "      <th>endYear</th>\n",
       "      <th>runtimeMinutes</th>\n",
       "      <th>genres</th>\n",
       "      <th>averageRating</th>\n",
       "      <th>numVotes</th>\n",
       "    </tr>\n",
       "  </thead>\n",
       "  <tbody>\n",
       "    <tr>\n",
       "      <th>0</th>\n",
       "      <td>tt0000355</td>\n",
       "      <td>1</td>\n",
       "      <td>Fire!</td>\n",
       "      <td>\\N</td>\n",
       "      <td>\\N</td>\n",
       "      <td>original</td>\n",
       "      <td>\\N</td>\n",
       "      <td>1</td>\n",
       "      <td>tt0000355</td>\n",
       "      <td>short</td>\n",
       "      <td>Fire!</td>\n",
       "      <td>Fire!</td>\n",
       "      <td>0</td>\n",
       "      <td>1901</td>\n",
       "      <td>\\N</td>\n",
       "      <td>5</td>\n",
       "      <td>Drama,Short</td>\n",
       "      <td>6.1</td>\n",
       "      <td>509</td>\n",
       "    </tr>\n",
       "    <tr>\n",
       "      <th>1</th>\n",
       "      <td>tt0003760</td>\n",
       "      <td>9</td>\n",
       "      <td>Caught in the Rain</td>\n",
       "      <td>\\N</td>\n",
       "      <td>\\N</td>\n",
       "      <td>original</td>\n",
       "      <td>\\N</td>\n",
       "      <td>1</td>\n",
       "      <td>tt0003760</td>\n",
       "      <td>short</td>\n",
       "      <td>Caught in the Rain</td>\n",
       "      <td>Caught in the Rain</td>\n",
       "      <td>0</td>\n",
       "      <td>1914</td>\n",
       "      <td>\\N</td>\n",
       "      <td>16</td>\n",
       "      <td>Comedy,Short</td>\n",
       "      <td>5.7</td>\n",
       "      <td>751</td>\n",
       "    </tr>\n",
       "    <tr>\n",
       "      <th>2</th>\n",
       "      <td>tt0004101</td>\n",
       "      <td>6</td>\n",
       "      <td>His New Profession</td>\n",
       "      <td>\\N</td>\n",
       "      <td>\\N</td>\n",
       "      <td>original</td>\n",
       "      <td>\\N</td>\n",
       "      <td>1</td>\n",
       "      <td>tt0004101</td>\n",
       "      <td>short</td>\n",
       "      <td>His New Profession</td>\n",
       "      <td>His New Profession</td>\n",
       "      <td>0</td>\n",
       "      <td>1914</td>\n",
       "      <td>\\N</td>\n",
       "      <td>16</td>\n",
       "      <td>Comedy,Short</td>\n",
       "      <td>6.0</td>\n",
       "      <td>1018</td>\n",
       "    </tr>\n",
       "    <tr>\n",
       "      <th>3</th>\n",
       "      <td>tt0008519</td>\n",
       "      <td>3</td>\n",
       "      <td>A Romance of the Redwoods</td>\n",
       "      <td>\\N</td>\n",
       "      <td>\\N</td>\n",
       "      <td>original</td>\n",
       "      <td>\\N</td>\n",
       "      <td>1</td>\n",
       "      <td>tt0008519</td>\n",
       "      <td>movie</td>\n",
       "      <td>A Romance of the Redwoods</td>\n",
       "      <td>A Romance of the Redwoods</td>\n",
       "      <td>0</td>\n",
       "      <td>1917</td>\n",
       "      <td>\\N</td>\n",
       "      <td>70</td>\n",
       "      <td>Adventure,Comedy,Drama</td>\n",
       "      <td>5.7</td>\n",
       "      <td>712</td>\n",
       "    </tr>\n",
       "    <tr>\n",
       "      <th>4</th>\n",
       "      <td>tt0008634</td>\n",
       "      <td>4</td>\n",
       "      <td>Straight Shooting</td>\n",
       "      <td>\\N</td>\n",
       "      <td>\\N</td>\n",
       "      <td>original</td>\n",
       "      <td>\\N</td>\n",
       "      <td>1</td>\n",
       "      <td>tt0008634</td>\n",
       "      <td>movie</td>\n",
       "      <td>Straight Shooting</td>\n",
       "      <td>Straight Shooting</td>\n",
       "      <td>0</td>\n",
       "      <td>1917</td>\n",
       "      <td>\\N</td>\n",
       "      <td>57</td>\n",
       "      <td>Western</td>\n",
       "      <td>6.2</td>\n",
       "      <td>335</td>\n",
       "    </tr>\n",
       "    <tr>\n",
       "      <th>5</th>\n",
       "      <td>tt0008663</td>\n",
       "      <td>1</td>\n",
       "      <td>Terje Vigen</td>\n",
       "      <td>\\N</td>\n",
       "      <td>\\N</td>\n",
       "      <td>original</td>\n",
       "      <td>\\N</td>\n",
       "      <td>1</td>\n",
       "      <td>tt0008663</td>\n",
       "      <td>movie</td>\n",
       "      <td>A Man There Was</td>\n",
       "      <td>Terje Vigen</td>\n",
       "      <td>0</td>\n",
       "      <td>1917</td>\n",
       "      <td>\\N</td>\n",
       "      <td>48</td>\n",
       "      <td>Drama,War</td>\n",
       "      <td>7.4</td>\n",
       "      <td>1384</td>\n",
       "    </tr>\n",
       "    <tr>\n",
       "      <th>6</th>\n",
       "      <td>tt0009086</td>\n",
       "      <td>3</td>\n",
       "      <td>The Forbidden City</td>\n",
       "      <td>\\N</td>\n",
       "      <td>\\N</td>\n",
       "      <td>original</td>\n",
       "      <td>\\N</td>\n",
       "      <td>1</td>\n",
       "      <td>tt0009086</td>\n",
       "      <td>movie</td>\n",
       "      <td>The Forbidden City</td>\n",
       "      <td>The Forbidden City</td>\n",
       "      <td>0</td>\n",
       "      <td>1918</td>\n",
       "      <td>\\N</td>\n",
       "      <td>62</td>\n",
       "      <td>Drama,Romance</td>\n",
       "      <td>5.4</td>\n",
       "      <td>270</td>\n",
       "    </tr>\n",
       "    <tr>\n",
       "      <th>7</th>\n",
       "      <td>tt0009932</td>\n",
       "      <td>1</td>\n",
       "      <td>Billy Blazes, Esq.</td>\n",
       "      <td>\\N</td>\n",
       "      <td>\\N</td>\n",
       "      <td>original</td>\n",
       "      <td>\\N</td>\n",
       "      <td>1</td>\n",
       "      <td>tt0009932</td>\n",
       "      <td>short</td>\n",
       "      <td>Billy Blazes, Esq.</td>\n",
       "      <td>Billy Blazes, Esq.</td>\n",
       "      <td>0</td>\n",
       "      <td>1919</td>\n",
       "      <td>\\N</td>\n",
       "      <td>12</td>\n",
       "      <td>Comedy,Short,Western</td>\n",
       "      <td>6.1</td>\n",
       "      <td>699</td>\n",
       "    </tr>\n",
       "    <tr>\n",
       "      <th>8</th>\n",
       "      <td>tt0011909</td>\n",
       "      <td>7</td>\n",
       "      <td>The Affairs of Anatol</td>\n",
       "      <td>\\N</td>\n",
       "      <td>\\N</td>\n",
       "      <td>original</td>\n",
       "      <td>\\N</td>\n",
       "      <td>1</td>\n",
       "      <td>tt0011909</td>\n",
       "      <td>movie</td>\n",
       "      <td>The Affairs of Anatol</td>\n",
       "      <td>The Affairs of Anatol</td>\n",
       "      <td>0</td>\n",
       "      <td>1921</td>\n",
       "      <td>\\N</td>\n",
       "      <td>117</td>\n",
       "      <td>Comedy,Drama</td>\n",
       "      <td>6.6</td>\n",
       "      <td>1191</td>\n",
       "    </tr>\n",
       "    <tr>\n",
       "      <th>9</th>\n",
       "      <td>tt0012642</td>\n",
       "      <td>7</td>\n",
       "      <td>A Sailor-Made Man</td>\n",
       "      <td>\\N</td>\n",
       "      <td>\\N</td>\n",
       "      <td>original</td>\n",
       "      <td>\\N</td>\n",
       "      <td>1</td>\n",
       "      <td>tt0012642</td>\n",
       "      <td>movie</td>\n",
       "      <td>A Sailor-Made Man</td>\n",
       "      <td>A Sailor-Made Man</td>\n",
       "      <td>0</td>\n",
       "      <td>1921</td>\n",
       "      <td>\\N</td>\n",
       "      <td>47</td>\n",
       "      <td>Comedy</td>\n",
       "      <td>7.0</td>\n",
       "      <td>901</td>\n",
       "    </tr>\n",
       "  </tbody>\n",
       "</table>\n",
       "</div>"
      ],
      "text/plain": [
       "     titleId  ordering                      title region language     types  \\\n",
       "0  tt0000355         1                      Fire!     \\N       \\N  original   \n",
       "1  tt0003760         9         Caught in the Rain     \\N       \\N  original   \n",
       "2  tt0004101         6         His New Profession     \\N       \\N  original   \n",
       "3  tt0008519         3  A Romance of the Redwoods     \\N       \\N  original   \n",
       "4  tt0008634         4          Straight Shooting     \\N       \\N  original   \n",
       "5  tt0008663         1                Terje Vigen     \\N       \\N  original   \n",
       "6  tt0009086         3         The Forbidden City     \\N       \\N  original   \n",
       "7  tt0009932         1         Billy Blazes, Esq.     \\N       \\N  original   \n",
       "8  tt0011909         7      The Affairs of Anatol     \\N       \\N  original   \n",
       "9  tt0012642         7          A Sailor-Made Man     \\N       \\N  original   \n",
       "\n",
       "  attributes  isOriginalTitle     tconst titleType               primaryTitle  \\\n",
       "0         \\N                1  tt0000355     short                      Fire!   \n",
       "1         \\N                1  tt0003760     short         Caught in the Rain   \n",
       "2         \\N                1  tt0004101     short         His New Profession   \n",
       "3         \\N                1  tt0008519     movie  A Romance of the Redwoods   \n",
       "4         \\N                1  tt0008634     movie          Straight Shooting   \n",
       "5         \\N                1  tt0008663     movie            A Man There Was   \n",
       "6         \\N                1  tt0009086     movie         The Forbidden City   \n",
       "7         \\N                1  tt0009932     short         Billy Blazes, Esq.   \n",
       "8         \\N                1  tt0011909     movie      The Affairs of Anatol   \n",
       "9         \\N                1  tt0012642     movie          A Sailor-Made Man   \n",
       "\n",
       "               originalTitle  isAdult  startYear endYear runtimeMinutes  \\\n",
       "0                      Fire!        0       1901      \\N              5   \n",
       "1         Caught in the Rain        0       1914      \\N             16   \n",
       "2         His New Profession        0       1914      \\N             16   \n",
       "3  A Romance of the Redwoods        0       1917      \\N             70   \n",
       "4          Straight Shooting        0       1917      \\N             57   \n",
       "5                Terje Vigen        0       1917      \\N             48   \n",
       "6         The Forbidden City        0       1918      \\N             62   \n",
       "7         Billy Blazes, Esq.        0       1919      \\N             12   \n",
       "8      The Affairs of Anatol        0       1921      \\N            117   \n",
       "9          A Sailor-Made Man        0       1921      \\N             47   \n",
       "\n",
       "                   genres  averageRating  numVotes  \n",
       "0             Drama,Short            6.1       509  \n",
       "1            Comedy,Short            5.7       751  \n",
       "2            Comedy,Short            6.0      1018  \n",
       "3  Adventure,Comedy,Drama            5.7       712  \n",
       "4                 Western            6.2       335  \n",
       "5               Drama,War            7.4      1384  \n",
       "6           Drama,Romance            5.4       270  \n",
       "7    Comedy,Short,Western            6.1       699  \n",
       "8            Comedy,Drama            6.6      1191  \n",
       "9                  Comedy            7.0       901  "
      ]
     },
     "execution_count": 266,
     "metadata": {},
     "output_type": "execute_result"
    },
    {
     "name": "stdout",
     "output_type": "stream",
     "text": [
      "<class 'pandas.core.frame.DataFrame'>\n",
      "RangeIndex: 1539 entries, 0 to 1538\n",
      "Data columns (total 19 columns):\n",
      " #   Column           Non-Null Count  Dtype  \n",
      "---  ------           --------------  -----  \n",
      " 0   titleId          1539 non-null   object \n",
      " 1   ordering         1539 non-null   int64  \n",
      " 2   title            1539 non-null   object \n",
      " 3   region           1539 non-null   object \n",
      " 4   language         1539 non-null   object \n",
      " 5   types            1539 non-null   object \n",
      " 6   attributes       1539 non-null   object \n",
      " 7   isOriginalTitle  1539 non-null   int64  \n",
      " 8   tconst           1539 non-null   object \n",
      " 9   titleType        1539 non-null   object \n",
      " 10  primaryTitle     1539 non-null   object \n",
      " 11  originalTitle    1539 non-null   object \n",
      " 12  isAdult          1539 non-null   int64  \n",
      " 13  startYear        1539 non-null   int64  \n",
      " 14  endYear          1539 non-null   object \n",
      " 15  runtimeMinutes   1539 non-null   object \n",
      " 16  genres           1539 non-null   object \n",
      " 17  averageRating    1539 non-null   float64\n",
      " 18  numVotes         1539 non-null   int64  \n",
      "dtypes: float64(1), int64(5), object(13)\n",
      "memory usage: 228.6+ KB\n"
     ]
    }
   ],
   "source": [
    "movies.head(10)\n",
    "movies.info()"
   ]
  },
  {
   "cell_type": "code",
   "execution_count": 267,
   "metadata": {},
   "outputs": [
    {
     "data": {
      "text/plain": [
       "array(['\\\\N', 'US'], dtype=object)"
      ]
     },
     "execution_count": 267,
     "metadata": {},
     "output_type": "execute_result"
    },
    {
     "data": {
      "text/plain": [
       "array(['\\\\N', 'en'], dtype=object)"
      ]
     },
     "execution_count": 267,
     "metadata": {},
     "output_type": "execute_result"
    },
    {
     "data": {
      "text/plain": [
       "array(['\\\\N'], dtype=object)"
      ]
     },
     "execution_count": 267,
     "metadata": {},
     "output_type": "execute_result"
    },
    {
     "data": {
      "text/plain": [
       "array([1901, 1914, 1917, 1918, 1919, 1921, 1923, 1924, 1926, 1927, 1928,\n",
       "       1929, 1930, 1931, 1932, 1933, 1934, 1935, 1936, 1937, 1938, 1939,\n",
       "       1940, 1941, 1942, 1943, 1944, 1945, 1946, 1947, 1948, 1949, 1950,\n",
       "       1951, 1952, 1953, 1954, 1956, 1958, 1957, 1959, 1960, 1961, 1962,\n",
       "       1963, 1964, 1965, 1966, 1968, 1967, 1969, 1970, 1972, 1971, 1973,\n",
       "       1974, 1975, 1976, 1977, 1978, 1979, 1980, 1981, 1982, 1983, 1984,\n",
       "       1985, 1986, 1989, 1987, 1988, 1993, 1994, 1992, 1995, 1997, 1998,\n",
       "       1999, 1996, 1990, 2000, 1904, 1991, 1898, 2001, 1894, 2002, 2004,\n",
       "       2003, 2007, 2005, 2006, 2019, 2012, 2008, 2017, 2011, 2009, 2013,\n",
       "       2010, 2015, 1897, 2018, 2014, 2016], dtype=int64)"
      ]
     },
     "execution_count": 267,
     "metadata": {},
     "output_type": "execute_result"
    },
    {
     "data": {
      "text/plain": [
       "array(['original'], dtype=object)"
      ]
     },
     "execution_count": 267,
     "metadata": {},
     "output_type": "execute_result"
    },
    {
     "data": {
      "text/plain": [
       "array(['short', 'movie', 'tvMovie', 'tvSeries', 'tvEpisode',\n",
       "       'tvMiniSeries', 'video', 'tvShort', 'tvSpecial', 'videoGame'],\n",
       "      dtype=object)"
      ]
     },
     "execution_count": 267,
     "metadata": {},
     "output_type": "execute_result"
    },
    {
     "data": {
      "text/plain": [
       "array([ 6.1,  5.7,  6. ,  6.2,  7.4,  5.4,  6.6,  7. ,  6.9,  7.2,  6.5,\n",
       "        8.1,  5.2,  6.7,  7.1,  6.8,  5.8,  7.5,  7.3,  4. ,  7.8,  7.7,\n",
       "        7.9,  6.4,  8. ,  5. ,  6.3,  5.3,  7.6,  5.9,  2.1,  5.6,  3.2,\n",
       "        4.9,  4.1,  2.7,  8.8,  8.2,  3.5,  5.1,  3.6,  5.5,  3.8,  4.7,\n",
       "        4.6,  1.2,  4.3,  4.8,  9.3,  3.7,  4.2,  2.6,  8.7,  2.8,  2.9,\n",
       "        2.2,  4.5,  8.4,  3.9,  4.4,  1.9,  8.5,  8.3,  8.6,  3.4,  8.9,\n",
       "        2. ,  1.4,  2.3,  3. ,  2.4,  9. , 10. ,  9.4,  3.1,  9.6,  2.5,\n",
       "        3.3,  9.1,  1.5,  9.5,  9.2])"
      ]
     },
     "execution_count": 267,
     "metadata": {},
     "output_type": "execute_result"
    },
    {
     "data": {
      "text/plain": [
       "array(['Drama,Short', 'Comedy,Short', 'Adventure,Comedy,Drama', 'Western',\n",
       "       'Drama,War', 'Drama,Romance', 'Comedy,Short,Western',\n",
       "       'Comedy,Drama', 'Comedy', 'Adventure,Comedy,Family',\n",
       "       'Adventure,Drama,Mystery', 'Biography,Drama,History',\n",
       "       'Drama,Romance,War', 'Adventure,Drama,Romance', 'Drama',\n",
       "       'Drama,Mystery,Thriller', 'Comedy,Fantasy,Musical',\n",
       "       'Comedy,Family,Short', 'Animation,Comedy,Family', 'Comedy,Mystery',\n",
       "       'Comedy,Horror,Thriller', 'Mystery,Thriller',\n",
       "       'Crime,Drama,Film-Noir', 'Crime,Mystery,Romance',\n",
       "       'Action,Adventure,Drama', 'Comedy,Romance', 'Action,Comedy,Drama',\n",
       "       'Horror,Romance,Sci-Fi', 'Crime,Drama', 'Comedy,Short,War',\n",
       "       'Crime,Drama,Romance', 'Adventure,Romance', 'Comedy,Crime,Mystery',\n",
       "       'Comedy,Drama,Family', 'Comedy,War', 'Action,Adventure,Comedy',\n",
       "       'Adventure,History', 'Comedy,Musical', 'Crime,Drama,Mystery',\n",
       "       'Comedy,Horror', 'Comedy,Musical,Romance', 'Drama,Thriller',\n",
       "       'Action,Comedy,Crime', 'Drama,History,War', 'Crime,Horror,Mystery',\n",
       "       'Action,Crime,Mystery', 'Comedy,Music,Musical',\n",
       "       'Comedy,Drama,History', 'Drama,Fantasy,Horror', 'Biography,Drama',\n",
       "       'Animation,Musical,Short', 'Crime,Musical',\n",
       "       'Comedy,Crime,Film-Noir', 'Animation,Short', 'Comedy,Sci-Fi,Sport',\n",
       "       'Crime,Drama,Thriller', 'Adventure', 'Drama,Mystery',\n",
       "       'Documentary,Short', 'Action,Western', 'Drama,Music,Romance',\n",
       "       'Action,Romance,Western', 'Action,Crime,Drama',\n",
       "       'Comedy,Crime,Drama', 'Action,Drama,Mystery', 'Horror,Sci-Fi',\n",
       "       'Action,Drama,Romance', 'Drama,History,Romance',\n",
       "       'Action,Adventure,Horror', 'Adventure,Drama', 'Action,Drama,War',\n",
       "       'Drama,Fantasy,Sci-Fi', 'Comedy,Crime,Thriller', 'Crime,Thriller',\n",
       "       'Comedy,Family,Fantasy', 'Adventure,Animation,Family',\n",
       "       'Adventure,Comedy,War', 'Comedy,Drama,Musical',\n",
       "       'Horror,Romance,Thriller', 'Comedy,Drama,War', 'Comedy,Western',\n",
       "       'Action,Sci-Fi', 'Crime,Western', 'Adventure,Biography,Drama',\n",
       "       'Horror', 'Sci-Fi', 'Adventure,Comedy,Crime', 'Adventure,Western',\n",
       "       'Comedy,Drama,Romance', 'Biography,Drama,Family',\n",
       "       'Action,Adventure', 'Romance,Western', 'Adventure,Sci-Fi,Thriller',\n",
       "       'Documentary', 'Drama,Sport', 'Fantasy,Horror',\n",
       "       'Comedy,Romance,Western', 'Comedy,Family',\n",
       "       'Family,Game-Show,Reality-TV', 'Drama,Sci-Fi',\n",
       "       'Drama,Fantasy,Music', 'Horror,Mystery,Thriller', 'Crime,Mystery',\n",
       "       'Comedy,Game-Show', 'Action,Adventure,Animation', 'Adult,Drama',\n",
       "       'Drama,Sci-Fi,Thriller', 'Action,Drama,Western',\n",
       "       'Adventure,Animation,Comedy', 'Adventure,Family,Musical',\n",
       "       'Action,Drama,Thriller', 'Drama,Horror', 'Action,Thriller',\n",
       "       'Action,Drama,Music', 'Comedy,Crime,Music',\n",
       "       'Biography,Crime,Drama', 'Adult,Comedy', 'Drama,Horror,Thriller',\n",
       "       'Comedy,Fantasy,Music', 'Music', 'Adventure,Drama,Thriller',\n",
       "       'Drama,Music', 'Action,Crime,Thriller', 'Drama,Fantasy',\n",
       "       'Adventure,Animation,Drama', 'Comedy,Fantasy',\n",
       "       'Adventure,Horror,Thriller', 'Horror,War', 'Crime,Horror',\n",
       "       'Documentary,History', 'Drama,History,Horror',\n",
       "       'Biography,Drama,Music', 'Action,Comedy,War',\n",
       "       'Fantasy,Horror,Mystery', 'Adventure,Mystery,Sci-Fi',\n",
       "       'Horror,Sci-Fi,Thriller', 'Action', 'Animation,Comedy,Fantasy',\n",
       "       'Animation,Drama,History', 'Documentary,Music',\n",
       "       'Adventure,Drama,Family', 'Drama,Musical', 'Action,Crime,Romance',\n",
       "       'Adventure,Family,Fantasy', 'Biography,Comedy,Drama',\n",
       "       'Horror,Mystery', 'Crime,Drama,Horror', 'Fantasy,Mystery,Romance',\n",
       "       'Documentary,Horror,Thriller', 'Horror,Music,Short',\n",
       "       'Animation,Family,Fantasy', 'Comedy,Crime,Horror', 'Comedy,Crime',\n",
       "       'Animation,Drama,Family', 'Comedy,Horror,Sci-Fi',\n",
       "       'Action,Family,Romance', 'Comedy,Fantasy,Horror',\n",
       "       'Comedy,Family,Sci-Fi', 'Family,Fantasy,Musical',\n",
       "       'Drama,Mystery,Romance', 'Comedy,Drama,Fantasy',\n",
       "       'Adventure,Sci-Fi', 'Adventure,Animation,Fantasy', 'Drama,Family',\n",
       "       'Drama,Horror,Romance', 'Crime,Drama,Music', 'Family,Fantasy',\n",
       "       'Action,Drama', 'Action,Drama,Musical', 'Adventure,Comedy,Romance',\n",
       "       'Action,Drama,Fantasy', 'Comedy,Crime,Romance',\n",
       "       'Comedy,Romance,Thriller', 'Action,Adventure,Fantasy',\n",
       "       'Crime,Romance,Thriller', 'Action,Horror,Sci-Fi',\n",
       "       'Biography,Documentary,War', 'Crime,Mystery,Thriller',\n",
       "       'Action,Drama,History', 'Thriller', 'Adventure,Family,Sci-Fi',\n",
       "       'Drama,History,Thriller', 'Action,Horror,Thriller',\n",
       "       'Horror,Thriller', 'Drama,Family,Sport', 'Action,Comedy,Short',\n",
       "       'Romance', 'Animation,Fantasy,Short', 'Comedy,Drama,Music',\n",
       "       'Biography,Comedy,Documentary', 'Drama,History',\n",
       "       'Adventure,Game-Show,Reality-TV', 'Action,Sci-Fi,Thriller',\n",
       "       'Action,Comedy,Fantasy', 'Action,Animation,Crime',\n",
       "       'Comedy,Family,Sport', 'Crime,Drama,Sport',\n",
       "       'Action,Animation,Comedy', 'Short', 'Comedy,Crime,Family',\n",
       "       'Drama,Family,Fantasy', 'Drama,Musical,Romance', 'Mystery',\n",
       "       'Fantasy,Short', 'Animation,Comedy,Drama', 'Comedy,Music',\n",
       "       'Comedy,Fantasy,Short', 'Drama,Horror,Short', 'Action,Crime',\n",
       "       'Crime,Horror,Sci-Fi', 'Animation,Comedy', 'Family,Romance',\n",
       "       'Action,Adventure,Sci-Fi', 'Animation,Drama,Sci-Fi',\n",
       "       'Animation,Family', 'Biography,Documentary,Sport',\n",
       "       'Comedy,Musical,Mystery', 'Adventure,Family,Mystery',\n",
       "       'Action,Animation,Fantasy', 'Biography,Documentary',\n",
       "       'Documentary,Horror', 'Game-Show,Music,Reality-TV', 'Reality-TV',\n",
       "       'Action,Adventure,History', 'Action,Adventure,Documentary',\n",
       "       'Drama,Fantasy,Romance', 'Comedy,Sci-Fi', 'Drama,Sport,Thriller',\n",
       "       'Adventure,Comedy,Documentary', 'Horror,Short',\n",
       "       'Drama,Horror,Mystery', 'Comedy,Fantasy,Romance', 'Musical,Short',\n",
       "       'Action,Crime,Sci-Fi', 'Action,Adventure,Crime',\n",
       "       'Comedy,Documentary,Music', 'Comedy,Talk-Show', 'Action,Comedy',\n",
       "       'Adventure,Crime,Drama', 'Comedy,Family,Music', 'Animation',\n",
       "       'Adventure,Family', 'Action,Horror', 'Biography,Documentary,Music',\n",
       "       'Action,Comedy,Horror', 'Sci-Fi,Thriller', 'Family,Reality-TV',\n",
       "       'Crime,Drama,Fantasy', 'Documentary,Reality-TV',\n",
       "       'Adventure,Mystery,Thriller', 'Animation,Horror,Short',\n",
       "       'Adventure,Fantasy,Sci-Fi', 'News', 'Comedy,Drama,Mystery',\n",
       "       'Animation,Sci-Fi,Short', 'Crime,Thriller,War',\n",
       "       'Adventure,Animation,Crime', 'Action,Adventure,Family',\n",
       "       'Animation,Drama,Mystery', 'Biography,Drama,Romance',\n",
       "       'Animation,Crime,Drama', 'Documentary,Drama,Sport',\n",
       "       'Biography,Documentary,History', 'Action,Drama,Sport',\n",
       "       'Comedy,Horror,Musical', 'Biography', 'Animation,Drama,Romance',\n",
       "       'Action,History,War', 'Comedy,Drama,Sport',\n",
       "       'Action,Animation,Sci-Fi', 'History', 'Biography,Drama,Sport',\n",
       "       'Drama,Romance,Short', 'Drama,Romance,Sci-Fi',\n",
       "       'Fantasy,Horror,Thriller', 'Comedy,Music,Romance', 'Action,War',\n",
       "       'Action,Comedy,Sci-Fi', 'Adventure,Comedy',\n",
       "       'Comedy,Drama,Thriller', 'Family', 'Comedy,Documentary',\n",
       "       'Action,Sport', 'Comedy,Thriller', 'Action,Horror,Mystery',\n",
       "       'Animation,Drama,Fantasy', 'Drama,Mystery,War',\n",
       "       'Animation,Comedy,Romance', 'Action,Documentary,History',\n",
       "       'Comedy,Romance,Sci-Fi', 'Action,Comedy,Romance',\n",
       "       'Animation,Biography,Documentary', 'Biography,Drama,Fantasy',\n",
       "       'Drama,Sci-Fi,Short', 'Action,Short,Thriller',\n",
       "       'Comedy,Sci-Fi,Short', 'Sport', 'Documentary,Drama',\n",
       "       'Comedy,Reality-TV', 'Fantasy,Romance', 'Comedy,Family,Romance',\n",
       "       'Action,Sci-Fi,War', 'Drama,Mystery,Sci-Fi',\n",
       "       'Action,Family,Sci-Fi', 'Crime', 'Comedy,Drama,Short',\n",
       "       'Animation,Comedy,Music', 'Documentary,History,War',\n",
       "       'Romance,Thriller', 'Animation,Comedy,Horror',\n",
       "       'Comedy,Horror,Mystery', 'Documentary,Family,Music', 'Music,Short',\n",
       "       'Fantasy,Horror,Sci-Fi', 'Drama,Horror,Sci-Fi', 'Fantasy',\n",
       "       'Talk-Show', 'Drama,Fantasy,Mystery', 'Drama,Romance,Thriller',\n",
       "       'Action,Fantasy,Horror', 'Animation,Family,Romance',\n",
       "       'Comedy,Crime,Fantasy', 'Adventure,Drama,Fantasy',\n",
       "       'Action,Thriller,War', 'Comedy,Horror,Talk-Show',\n",
       "       'Horror,Reality-TV', 'Game-Show'], dtype=object)"
      ]
     },
     "execution_count": 267,
     "metadata": {},
     "output_type": "execute_result"
    }
   ],
   "source": [
    "movies.region.unique()\n",
    "movies.language.unique()\n",
    "movies.attributes.unique()\n",
    "movies.startYear.unique()\n",
    "movies.types.unique()\n",
    "movies.titleType.unique()\n",
    "movies.averageRating.unique()\n",
    "movies.genres.unique()"
   ]
  },
  {
   "cell_type": "code",
   "execution_count": 268,
   "metadata": {},
   "outputs": [
    {
     "data": {
      "text/html": [
       "<div>\n",
       "<style scoped>\n",
       "    .dataframe tbody tr th:only-of-type {\n",
       "        vertical-align: middle;\n",
       "    }\n",
       "\n",
       "    .dataframe tbody tr th {\n",
       "        vertical-align: top;\n",
       "    }\n",
       "\n",
       "    .dataframe thead th {\n",
       "        text-align: right;\n",
       "    }\n",
       "</style>\n",
       "<table border=\"1\" class=\"dataframe\">\n",
       "  <thead>\n",
       "    <tr style=\"text-align: right;\">\n",
       "      <th></th>\n",
       "      <th>titleId</th>\n",
       "      <th>ordering</th>\n",
       "      <th>title</th>\n",
       "      <th>region</th>\n",
       "      <th>language</th>\n",
       "      <th>types</th>\n",
       "      <th>isOriginalTitle</th>\n",
       "      <th>tconst</th>\n",
       "      <th>titleType</th>\n",
       "      <th>primaryTitle</th>\n",
       "      <th>originalTitle</th>\n",
       "      <th>isAdult</th>\n",
       "      <th>startYear</th>\n",
       "      <th>endYear</th>\n",
       "      <th>runtimeMinutes</th>\n",
       "      <th>genres</th>\n",
       "      <th>averageRating</th>\n",
       "      <th>numVotes</th>\n",
       "    </tr>\n",
       "  </thead>\n",
       "  <tbody>\n",
       "    <tr>\n",
       "      <th>0</th>\n",
       "      <td>tt0000355</td>\n",
       "      <td>1</td>\n",
       "      <td>Fire!</td>\n",
       "      <td>\\N</td>\n",
       "      <td>\\N</td>\n",
       "      <td>original</td>\n",
       "      <td>1</td>\n",
       "      <td>tt0000355</td>\n",
       "      <td>short</td>\n",
       "      <td>Fire!</td>\n",
       "      <td>Fire!</td>\n",
       "      <td>0</td>\n",
       "      <td>1901</td>\n",
       "      <td>\\N</td>\n",
       "      <td>5</td>\n",
       "      <td>Drama,Short</td>\n",
       "      <td>6.1</td>\n",
       "      <td>509</td>\n",
       "    </tr>\n",
       "    <tr>\n",
       "      <th>1</th>\n",
       "      <td>tt0003760</td>\n",
       "      <td>9</td>\n",
       "      <td>Caught in the Rain</td>\n",
       "      <td>\\N</td>\n",
       "      <td>\\N</td>\n",
       "      <td>original</td>\n",
       "      <td>1</td>\n",
       "      <td>tt0003760</td>\n",
       "      <td>short</td>\n",
       "      <td>Caught in the Rain</td>\n",
       "      <td>Caught in the Rain</td>\n",
       "      <td>0</td>\n",
       "      <td>1914</td>\n",
       "      <td>\\N</td>\n",
       "      <td>16</td>\n",
       "      <td>Comedy,Short</td>\n",
       "      <td>5.7</td>\n",
       "      <td>751</td>\n",
       "    </tr>\n",
       "    <tr>\n",
       "      <th>2</th>\n",
       "      <td>tt0004101</td>\n",
       "      <td>6</td>\n",
       "      <td>His New Profession</td>\n",
       "      <td>\\N</td>\n",
       "      <td>\\N</td>\n",
       "      <td>original</td>\n",
       "      <td>1</td>\n",
       "      <td>tt0004101</td>\n",
       "      <td>short</td>\n",
       "      <td>His New Profession</td>\n",
       "      <td>His New Profession</td>\n",
       "      <td>0</td>\n",
       "      <td>1914</td>\n",
       "      <td>\\N</td>\n",
       "      <td>16</td>\n",
       "      <td>Comedy,Short</td>\n",
       "      <td>6.0</td>\n",
       "      <td>1018</td>\n",
       "    </tr>\n",
       "    <tr>\n",
       "      <th>3</th>\n",
       "      <td>tt0008519</td>\n",
       "      <td>3</td>\n",
       "      <td>A Romance of the Redwoods</td>\n",
       "      <td>\\N</td>\n",
       "      <td>\\N</td>\n",
       "      <td>original</td>\n",
       "      <td>1</td>\n",
       "      <td>tt0008519</td>\n",
       "      <td>movie</td>\n",
       "      <td>A Romance of the Redwoods</td>\n",
       "      <td>A Romance of the Redwoods</td>\n",
       "      <td>0</td>\n",
       "      <td>1917</td>\n",
       "      <td>\\N</td>\n",
       "      <td>70</td>\n",
       "      <td>Adventure,Comedy,Drama</td>\n",
       "      <td>5.7</td>\n",
       "      <td>712</td>\n",
       "    </tr>\n",
       "    <tr>\n",
       "      <th>4</th>\n",
       "      <td>tt0008634</td>\n",
       "      <td>4</td>\n",
       "      <td>Straight Shooting</td>\n",
       "      <td>\\N</td>\n",
       "      <td>\\N</td>\n",
       "      <td>original</td>\n",
       "      <td>1</td>\n",
       "      <td>tt0008634</td>\n",
       "      <td>movie</td>\n",
       "      <td>Straight Shooting</td>\n",
       "      <td>Straight Shooting</td>\n",
       "      <td>0</td>\n",
       "      <td>1917</td>\n",
       "      <td>\\N</td>\n",
       "      <td>57</td>\n",
       "      <td>Western</td>\n",
       "      <td>6.2</td>\n",
       "      <td>335</td>\n",
       "    </tr>\n",
       "    <tr>\n",
       "      <th>...</th>\n",
       "      <td>...</td>\n",
       "      <td>...</td>\n",
       "      <td>...</td>\n",
       "      <td>...</td>\n",
       "      <td>...</td>\n",
       "      <td>...</td>\n",
       "      <td>...</td>\n",
       "      <td>...</td>\n",
       "      <td>...</td>\n",
       "      <td>...</td>\n",
       "      <td>...</td>\n",
       "      <td>...</td>\n",
       "      <td>...</td>\n",
       "      <td>...</td>\n",
       "      <td>...</td>\n",
       "      <td>...</td>\n",
       "      <td>...</td>\n",
       "      <td>...</td>\n",
       "    </tr>\n",
       "    <tr>\n",
       "      <th>1534</th>\n",
       "      <td>tt9425568</td>\n",
       "      <td>1</td>\n",
       "      <td>Kung Fury: Street Rage</td>\n",
       "      <td>\\N</td>\n",
       "      <td>\\N</td>\n",
       "      <td>original</td>\n",
       "      <td>1</td>\n",
       "      <td>tt9425568</td>\n",
       "      <td>videoGame</td>\n",
       "      <td>Kung Fury: Street Rage</td>\n",
       "      <td>Kung Fury: Street Rage</td>\n",
       "      <td>0</td>\n",
       "      <td>2015</td>\n",
       "      <td>\\N</td>\n",
       "      <td>\\N</td>\n",
       "      <td>Action,Sci-Fi</td>\n",
       "      <td>7.7</td>\n",
       "      <td>280</td>\n",
       "    </tr>\n",
       "    <tr>\n",
       "      <th>1535</th>\n",
       "      <td>tt9432978</td>\n",
       "      <td>2</td>\n",
       "      <td>Kota Factory</td>\n",
       "      <td>\\N</td>\n",
       "      <td>\\N</td>\n",
       "      <td>original</td>\n",
       "      <td>1</td>\n",
       "      <td>tt9432978</td>\n",
       "      <td>tvSeries</td>\n",
       "      <td>Kota Factory</td>\n",
       "      <td>Kota Factory</td>\n",
       "      <td>0</td>\n",
       "      <td>2019</td>\n",
       "      <td>\\N</td>\n",
       "      <td>45</td>\n",
       "      <td>Comedy,Drama</td>\n",
       "      <td>9.2</td>\n",
       "      <td>15340</td>\n",
       "    </tr>\n",
       "    <tr>\n",
       "      <th>1536</th>\n",
       "      <td>tt9730966</td>\n",
       "      <td>2</td>\n",
       "      <td>Apex Legends</td>\n",
       "      <td>\\N</td>\n",
       "      <td>\\N</td>\n",
       "      <td>original</td>\n",
       "      <td>1</td>\n",
       "      <td>tt9730966</td>\n",
       "      <td>videoGame</td>\n",
       "      <td>Apex Legends</td>\n",
       "      <td>Apex Legends</td>\n",
       "      <td>0</td>\n",
       "      <td>2019</td>\n",
       "      <td>\\N</td>\n",
       "      <td>\\N</td>\n",
       "      <td>Action,Sci-Fi</td>\n",
       "      <td>7.3</td>\n",
       "      <td>871</td>\n",
       "    </tr>\n",
       "    <tr>\n",
       "      <th>1537</th>\n",
       "      <td>tt9747392</td>\n",
       "      <td>1</td>\n",
       "      <td>Flip That Romance</td>\n",
       "      <td>\\N</td>\n",
       "      <td>\\N</td>\n",
       "      <td>original</td>\n",
       "      <td>1</td>\n",
       "      <td>tt9747392</td>\n",
       "      <td>tvMovie</td>\n",
       "      <td>Flip That Romance</td>\n",
       "      <td>Flip That Romance</td>\n",
       "      <td>0</td>\n",
       "      <td>2019</td>\n",
       "      <td>\\N</td>\n",
       "      <td>90</td>\n",
       "      <td>Romance</td>\n",
       "      <td>6.4</td>\n",
       "      <td>639</td>\n",
       "    </tr>\n",
       "    <tr>\n",
       "      <th>1538</th>\n",
       "      <td>tt9777092</td>\n",
       "      <td>1</td>\n",
       "      <td>Wedding at Graceland</td>\n",
       "      <td>\\N</td>\n",
       "      <td>\\N</td>\n",
       "      <td>original</td>\n",
       "      <td>1</td>\n",
       "      <td>tt9777092</td>\n",
       "      <td>tvMovie</td>\n",
       "      <td>Wedding at Graceland</td>\n",
       "      <td>Wedding at Graceland</td>\n",
       "      <td>0</td>\n",
       "      <td>2019</td>\n",
       "      <td>\\N</td>\n",
       "      <td>120</td>\n",
       "      <td>Romance</td>\n",
       "      <td>6.0</td>\n",
       "      <td>338</td>\n",
       "    </tr>\n",
       "  </tbody>\n",
       "</table>\n",
       "<p>1539 rows × 18 columns</p>\n",
       "</div>"
      ],
      "text/plain": [
       "        titleId  ordering                      title region language  \\\n",
       "0     tt0000355         1                      Fire!     \\N       \\N   \n",
       "1     tt0003760         9         Caught in the Rain     \\N       \\N   \n",
       "2     tt0004101         6         His New Profession     \\N       \\N   \n",
       "3     tt0008519         3  A Romance of the Redwoods     \\N       \\N   \n",
       "4     tt0008634         4          Straight Shooting     \\N       \\N   \n",
       "...         ...       ...                        ...    ...      ...   \n",
       "1534  tt9425568         1     Kung Fury: Street Rage     \\N       \\N   \n",
       "1535  tt9432978         2               Kota Factory     \\N       \\N   \n",
       "1536  tt9730966         2               Apex Legends     \\N       \\N   \n",
       "1537  tt9747392         1          Flip That Romance     \\N       \\N   \n",
       "1538  tt9777092         1       Wedding at Graceland     \\N       \\N   \n",
       "\n",
       "         types  isOriginalTitle     tconst  titleType  \\\n",
       "0     original                1  tt0000355      short   \n",
       "1     original                1  tt0003760      short   \n",
       "2     original                1  tt0004101      short   \n",
       "3     original                1  tt0008519      movie   \n",
       "4     original                1  tt0008634      movie   \n",
       "...        ...              ...        ...        ...   \n",
       "1534  original                1  tt9425568  videoGame   \n",
       "1535  original                1  tt9432978   tvSeries   \n",
       "1536  original                1  tt9730966  videoGame   \n",
       "1537  original                1  tt9747392    tvMovie   \n",
       "1538  original                1  tt9777092    tvMovie   \n",
       "\n",
       "                   primaryTitle              originalTitle  isAdult  \\\n",
       "0                         Fire!                      Fire!        0   \n",
       "1            Caught in the Rain         Caught in the Rain        0   \n",
       "2            His New Profession         His New Profession        0   \n",
       "3     A Romance of the Redwoods  A Romance of the Redwoods        0   \n",
       "4             Straight Shooting          Straight Shooting        0   \n",
       "...                         ...                        ...      ...   \n",
       "1534     Kung Fury: Street Rage     Kung Fury: Street Rage        0   \n",
       "1535               Kota Factory               Kota Factory        0   \n",
       "1536               Apex Legends               Apex Legends        0   \n",
       "1537          Flip That Romance          Flip That Romance        0   \n",
       "1538       Wedding at Graceland       Wedding at Graceland        0   \n",
       "\n",
       "      startYear endYear runtimeMinutes                  genres  averageRating  \\\n",
       "0          1901      \\N              5             Drama,Short            6.1   \n",
       "1          1914      \\N             16            Comedy,Short            5.7   \n",
       "2          1914      \\N             16            Comedy,Short            6.0   \n",
       "3          1917      \\N             70  Adventure,Comedy,Drama            5.7   \n",
       "4          1917      \\N             57                 Western            6.2   \n",
       "...         ...     ...            ...                     ...            ...   \n",
       "1534       2015      \\N             \\N           Action,Sci-Fi            7.7   \n",
       "1535       2019      \\N             45            Comedy,Drama            9.2   \n",
       "1536       2019      \\N             \\N           Action,Sci-Fi            7.3   \n",
       "1537       2019      \\N             90                 Romance            6.4   \n",
       "1538       2019      \\N            120                 Romance            6.0   \n",
       "\n",
       "      numVotes  \n",
       "0          509  \n",
       "1          751  \n",
       "2         1018  \n",
       "3          712  \n",
       "4          335  \n",
       "...        ...  \n",
       "1534       280  \n",
       "1535     15340  \n",
       "1536       871  \n",
       "1537       639  \n",
       "1538       338  \n",
       "\n",
       "[1539 rows x 18 columns]"
      ]
     },
     "execution_count": 268,
     "metadata": {},
     "output_type": "execute_result"
    }
   ],
   "source": [
    "movies.drop(['attributes'],axis=1)"
   ]
  },
  {
   "cell_type": "code",
   "execution_count": 269,
   "metadata": {},
   "outputs": [],
   "source": [
    "movies['numVotes']=movies[\"numVotes\"].astype(float)"
   ]
  },
  {
   "cell_type": "code",
   "execution_count": 270,
   "metadata": {},
   "outputs": [],
   "source": [
    "movies['Score']=movies['averageRating']*movies['numVotes']"
   ]
  },
  {
   "cell_type": "code",
   "execution_count": 271,
   "metadata": {},
   "outputs": [],
   "source": [
    "movies_sorted=movies.sort_values(\"Score\",ascending=False)"
   ]
  },
  {
   "cell_type": "markdown",
   "metadata": {},
   "source": [
    "# Top 20 movies in terms of Rating and Votes"
   ]
  },
  {
   "cell_type": "code",
   "execution_count": 272,
   "metadata": {},
   "outputs": [
    {
     "name": "stdout",
     "output_type": "stream",
     "text": [
      "                                          primaryTitle  \\\n",
      "900                            The Wolf of Wall Street   \n",
      "1133                           Guardians of the Galaxy   \n",
      "198                     The Good, the Bad and the Ugly   \n",
      "716         Pirates of the Caribbean: Dead Man's Chest   \n",
      "461                                        Toy Story 2   \n",
      "...                                                ...   \n",
      "1157                                      Big Bad Bugs   \n",
      "800                                   Vampire Assassin   \n",
      "1032  Xuxa and the Mystery of the Little Ugly Princess   \n",
      "640                                The Round and Round   \n",
      "1204        Gummibär: The Yummy Gummy Search for Santa   \n",
      "\n",
      "                          genres  averageRating  numVotes  \n",
      "900        Biography,Crime,Drama            8.2   1069874  \n",
      "1133     Action,Adventure,Comedy            8.0    980782  \n",
      "198                      Western            8.8    640941  \n",
      "716     Action,Adventure,Fantasy            7.3    623366  \n",
      "461   Adventure,Animation,Comedy            7.9    490750  \n",
      "...                          ...            ...       ...  \n",
      "1157     Action,Adventure,Comedy            2.3       273  \n",
      "800                Action,Horror            1.4       408  \n",
      "1032                      Family            2.1       259  \n",
      "640                        Drama            1.2       414  \n",
      "1204  Adventure,Animation,Comedy            1.4       268  \n",
      "\n",
      "[1539 rows x 4 columns]\n"
     ]
    }
   ],
   "source": [
    "top20=movies_sorted.loc[:,[\"primaryTitle\",\"genres\",\"averageRating\",\"numVotes\"]]\n",
    "top20[\"numVotes\"]=top20[\"numVotes\"].astype(int)\n",
    "top20rv=top20.head(10)\n",
    "print(top20)"
   ]
  },
  {
   "cell_type": "code",
   "execution_count": 273,
   "metadata": {
    "scrolled": true
   },
   "outputs": [
    {
     "data": {
      "text/plain": [
       "<BarContainer object of 10 artists>"
      ]
     },
     "execution_count": 273,
     "metadata": {},
     "output_type": "execute_result"
    },
    {
     "data": {
      "image/png": "[encoded data removed]",
      "text/plain": [
       "<Figure size 432x288 with 1 Axes>"
      ]
     },
     "metadata": {},
     "output_type": "display_data"
    }
   ],
   "source": [
    "plt.barh(top20rv[\"primaryTitle\"],top20rv[\"averageRating\"],color = (0.5,0.1,0.5,0.6),align='center', alpha=1)\n",
    "plt.show()"
   ]
  },
  {
   "cell_type": "code",
   "execution_count": 274,
   "metadata": {},
   "outputs": [],
   "source": [
    "top20.to_csv(r\"C:\\Users\\Neha Thakar\\Desktop\\Spring Term\\Unstructured Data Modeling\\Project\\top20rv.csv\", index = False)"
   ]
  },
  {
   "cell_type": "markdown",
   "metadata": {},
   "source": [
    "# Top 20 movies in terms of Rating"
   ]
  },
  {
   "cell_type": "code",
   "execution_count": 275,
   "metadata": {},
   "outputs": [
    {
     "data": {
      "text/html": [
       "<div>\n",
       "<style scoped>\n",
       "    .dataframe tbody tr th:only-of-type {\n",
       "        vertical-align: middle;\n",
       "    }\n",
       "\n",
       "    .dataframe tbody tr th {\n",
       "        vertical-align: top;\n",
       "    }\n",
       "\n",
       "    .dataframe thead th {\n",
       "        text-align: right;\n",
       "    }\n",
       "</style>\n",
       "<table border=\"1\" class=\"dataframe\">\n",
       "  <thead>\n",
       "    <tr style=\"text-align: right;\">\n",
       "      <th></th>\n",
       "      <th>titleId</th>\n",
       "      <th>ordering</th>\n",
       "      <th>title</th>\n",
       "      <th>region</th>\n",
       "      <th>language</th>\n",
       "      <th>types</th>\n",
       "      <th>attributes</th>\n",
       "      <th>isOriginalTitle</th>\n",
       "      <th>tconst</th>\n",
       "      <th>titleType</th>\n",
       "      <th>primaryTitle</th>\n",
       "      <th>originalTitle</th>\n",
       "      <th>isAdult</th>\n",
       "      <th>startYear</th>\n",
       "      <th>endYear</th>\n",
       "      <th>runtimeMinutes</th>\n",
       "      <th>genres</th>\n",
       "      <th>averageRating</th>\n",
       "      <th>numVotes</th>\n",
       "      <th>Score</th>\n",
       "    </tr>\n",
       "  </thead>\n",
       "  <tbody>\n",
       "    <tr>\n",
       "      <th>928</th>\n",
       "      <td>tt10914342</td>\n",
       "      <td>2</td>\n",
       "      <td>Kirket</td>\n",
       "      <td>\\N</td>\n",
       "      <td>\\N</td>\n",
       "      <td>original</td>\n",
       "      <td>\\N</td>\n",
       "      <td>1</td>\n",
       "      <td>tt10914342</td>\n",
       "      <td>movie</td>\n",
       "      <td>Kirket</td>\n",
       "      <td>Kirket</td>\n",
       "      <td>0</td>\n",
       "      <td>2019</td>\n",
       "      <td>\\N</td>\n",
       "      <td>132</td>\n",
       "      <td>Drama,Sport</td>\n",
       "      <td>10.0</td>\n",
       "      <td>587.0</td>\n",
       "      <td>5870.0</td>\n",
       "    </tr>\n",
       "    <tr>\n",
       "      <th>1423</th>\n",
       "      <td>tt5838588</td>\n",
       "      <td>2</td>\n",
       "      <td>God of War</td>\n",
       "      <td>\\N</td>\n",
       "      <td>\\N</td>\n",
       "      <td>original</td>\n",
       "      <td>\\N</td>\n",
       "      <td>1</td>\n",
       "      <td>tt5838588</td>\n",
       "      <td>videoGame</td>\n",
       "      <td>God of War</td>\n",
       "      <td>God of War</td>\n",
       "      <td>0</td>\n",
       "      <td>2018</td>\n",
       "      <td>\\N</td>\n",
       "      <td>\\N</td>\n",
       "      <td>Action,Adventure,Drama</td>\n",
       "      <td>9.6</td>\n",
       "      <td>12132.0</td>\n",
       "      <td>116467.2</td>\n",
       "    </tr>\n",
       "    <tr>\n",
       "      <th>1465</th>\n",
       "      <td>tt6741930</td>\n",
       "      <td>1</td>\n",
       "      <td>Blindsided</td>\n",
       "      <td>\\N</td>\n",
       "      <td>\\N</td>\n",
       "      <td>original</td>\n",
       "      <td>\\N</td>\n",
       "      <td>1</td>\n",
       "      <td>tt6741930</td>\n",
       "      <td>tvEpisode</td>\n",
       "      <td>Blindsided</td>\n",
       "      <td>Blindsided</td>\n",
       "      <td>0</td>\n",
       "      <td>2018</td>\n",
       "      <td>\\N</td>\n",
       "      <td>54</td>\n",
       "      <td>Action,Crime,Drama</td>\n",
       "      <td>9.6</td>\n",
       "      <td>6147.0</td>\n",
       "      <td>59011.2</td>\n",
       "    </tr>\n",
       "    <tr>\n",
       "      <th>1014</th>\n",
       "      <td>tt1503406</td>\n",
       "      <td>2</td>\n",
       "      <td>Help Me</td>\n",
       "      <td>\\N</td>\n",
       "      <td>\\N</td>\n",
       "      <td>original</td>\n",
       "      <td>\\N</td>\n",
       "      <td>1</td>\n",
       "      <td>tt1503406</td>\n",
       "      <td>tvEpisode</td>\n",
       "      <td>Help Me</td>\n",
       "      <td>Help Me</td>\n",
       "      <td>0</td>\n",
       "      <td>2010</td>\n",
       "      <td>\\N</td>\n",
       "      <td>43</td>\n",
       "      <td>Drama,Mystery</td>\n",
       "      <td>9.6</td>\n",
       "      <td>3492.0</td>\n",
       "      <td>33523.2</td>\n",
       "    </tr>\n",
       "    <tr>\n",
       "      <th>1464</th>\n",
       "      <td>tt6723708</td>\n",
       "      <td>2</td>\n",
       "      <td>Totsugeki</td>\n",
       "      <td>\\N</td>\n",
       "      <td>\\N</td>\n",
       "      <td>original</td>\n",
       "      <td>\\N</td>\n",
       "      <td>1</td>\n",
       "      <td>tt6723708</td>\n",
       "      <td>tvEpisode</td>\n",
       "      <td>Totsugeki</td>\n",
       "      <td>Totsugeki</td>\n",
       "      <td>0</td>\n",
       "      <td>2017</td>\n",
       "      <td>\\N</td>\n",
       "      <td>24</td>\n",
       "      <td>Action,Adventure,Animation</td>\n",
       "      <td>9.5</td>\n",
       "      <td>2846.0</td>\n",
       "      <td>27037.0</td>\n",
       "    </tr>\n",
       "  </tbody>\n",
       "</table>\n",
       "</div>"
      ],
      "text/plain": [
       "         titleId  ordering       title region language     types attributes  \\\n",
       "928   tt10914342         2      Kirket     \\N       \\N  original         \\N   \n",
       "1423   tt5838588         2  God of War     \\N       \\N  original         \\N   \n",
       "1465   tt6741930         1  Blindsided     \\N       \\N  original         \\N   \n",
       "1014   tt1503406         2     Help Me     \\N       \\N  original         \\N   \n",
       "1464   tt6723708         2   Totsugeki     \\N       \\N  original         \\N   \n",
       "\n",
       "      isOriginalTitle      tconst  titleType primaryTitle originalTitle  \\\n",
       "928                 1  tt10914342      movie       Kirket        Kirket   \n",
       "1423                1   tt5838588  videoGame   God of War    God of War   \n",
       "1465                1   tt6741930  tvEpisode   Blindsided    Blindsided   \n",
       "1014                1   tt1503406  tvEpisode      Help Me       Help Me   \n",
       "1464                1   tt6723708  tvEpisode    Totsugeki     Totsugeki   \n",
       "\n",
       "      isAdult  startYear endYear runtimeMinutes                      genres  \\\n",
       "928         0       2019      \\N            132                 Drama,Sport   \n",
       "1423        0       2018      \\N             \\N      Action,Adventure,Drama   \n",
       "1465        0       2018      \\N             54          Action,Crime,Drama   \n",
       "1014        0       2010      \\N             43               Drama,Mystery   \n",
       "1464        0       2017      \\N             24  Action,Adventure,Animation   \n",
       "\n",
       "      averageRating  numVotes     Score  \n",
       "928            10.0     587.0    5870.0  \n",
       "1423            9.6   12132.0  116467.2  \n",
       "1465            9.6    6147.0   59011.2  \n",
       "1014            9.6    3492.0   33523.2  \n",
       "1464            9.5    2846.0   27037.0  "
      ]
     },
     "execution_count": 275,
     "metadata": {},
     "output_type": "execute_result"
    },
    {
     "name": "stdout",
     "output_type": "stream",
     "text": [
      "                    primaryTitle                      genres  averageRating  \\\n",
      "928                       Kirket                 Drama,Sport           10.0   \n",
      "1423                  God of War      Action,Adventure,Drama            9.6   \n",
      "1465                  Blindsided          Action,Crime,Drama            9.6   \n",
      "1014                     Help Me               Drama,Mystery            9.6   \n",
      "1464                   Totsugeki  Action,Adventure,Animation            9.5   \n",
      "985   Uncharted 2: Among Thieves    Action,Adventure,Fantasy            9.4   \n",
      "308                  Connections         Documentary,History            9.3   \n",
      "1513     What's Past Is Prologue      Action,Adventure,Drama            9.2   \n",
      "1535                Kota Factory                Comedy,Drama            9.2   \n",
      "1371   A Priest Walks Into a Bar         Crime,Drama,Fantasy            9.1   \n",
      "\n",
      "      numVotes  \n",
      "928        587  \n",
      "1423     12132  \n",
      "1465      6147  \n",
      "1014      3492  \n",
      "1464      2846  \n",
      "985      18149  \n",
      "308        941  \n",
      "1513      2496  \n",
      "1535     15340  \n",
      "1371      4268  \n"
     ]
    }
   ],
   "source": [
    "movies_rating=movies.sort_values(\"averageRating\",ascending=False)\n",
    "movies_rating.head()\n",
    "top20r=movies_rating.loc[:,[\"primaryTitle\",\"genres\",\"averageRating\",\"numVotes\"]]\n",
    "top20r[\"numVotes\"]=top20r[\"numVotes\"].astype(int)\n",
    "top20r=top20r.head(10)\n",
    "print(top20r)"
   ]
  },
  {
   "cell_type": "code",
   "execution_count": 276,
   "metadata": {},
   "outputs": [
    {
     "data": {
      "text/plain": [
       "<BarContainer object of 10 artists>"
      ]
     },
     "execution_count": 276,
     "metadata": {},
     "output_type": "execute_result"
    },
    {
     "data": {
      "image/png": "[encoded data removed]",
      "text/plain": [
       "<Figure size 432x288 with 1 Axes>"
      ]
     },
     "metadata": {},
     "output_type": "display_data"
    }
   ],
   "source": [
    "plt.barh(top20r[\"primaryTitle\"],top20r[\"averageRating\"],color = (0.5,0.1,0.5,0.6),align='center', alpha=1)\n",
    "plt.show()"
   ]
  },
  {
   "cell_type": "code",
   "execution_count": 277,
   "metadata": {},
   "outputs": [],
   "source": [
    "top20r.to_csv(r\"C:\\Users\\Neha Thakar\\Desktop\\Spring Term\\Unstructured Data Modeling\\Project\\top20r.csv\", index = False)"
   ]
  },
  {
   "cell_type": "markdown",
   "metadata": {},
   "source": [
    "# Top 20 movies in terms of Vote"
   ]
  },
  {
   "cell_type": "code",
   "execution_count": 278,
   "metadata": {},
   "outputs": [
    {
     "name": "stdout",
     "output_type": "stream",
     "text": [
      "                                    primaryTitle                      genres  \\\n",
      "900                      The Wolf of Wall Street       Biography,Crime,Drama   \n",
      "1133                     Guardians of the Galaxy     Action,Adventure,Comedy   \n",
      "198               The Good, the Bad and the Ugly                     Western   \n",
      "716   Pirates of the Caribbean: Dead Man's Chest    Action,Adventure,Fantasy   \n",
      "668          Harry Potter and the Goblet of Fire    Adventure,Family,Fantasy   \n",
      "461                                  Toy Story 2  Adventure,Animation,Comedy   \n",
      "798                          There Will Be Blood                       Drama   \n",
      "671                          Lost in Translation                       Drama   \n",
      "893                               Justice League    Action,Adventure,Fantasy   \n",
      "1027                                   127 Hours             Biography,Drama   \n",
      "723                                   The Office                      Comedy   \n",
      "1005                                     Aquaman    Action,Adventure,Fantasy   \n",
      "855                                      Shooter       Action,Drama,Thriller   \n",
      "848                                 Seven Pounds                       Drama   \n",
      "942                               Public Enemies       Biography,Crime,Drama   \n",
      "1312                               The Nice Guys         Action,Comedy,Crime   \n",
      "1247                             The Jungle Book      Adventure,Drama,Family   \n",
      "739                                  John Carter     Action,Adventure,Sci-Fi   \n",
      "991                               The Other Guys         Action,Comedy,Crime   \n",
      "794        The Fast and the Furious: Tokyo Drift       Action,Crime,Thriller   \n",
      "\n",
      "      averageRating  numVotes  \n",
      "900             8.2   1069874  \n",
      "1133            8.0    980782  \n",
      "198             8.8    640941  \n",
      "716             7.3    623366  \n",
      "668             7.7    501755  \n",
      "461             7.9    490750  \n",
      "798             8.1    475367  \n",
      "671             7.7    382287  \n",
      "893             6.4    345777  \n",
      "1027            7.6    330176  \n",
      "723             8.8    321307  \n",
      "1005            7.0    311395  \n",
      "855             7.2    296288  \n",
      "848             7.6    273101  \n",
      "942             7.0    265405  \n",
      "1312            7.4    249628  \n",
      "1247            7.4    246068  \n",
      "739             6.6    245335  \n",
      "991             6.6    226494  \n",
      "794             6.0    225065  \n"
     ]
    }
   ],
   "source": [
    "movies_vote=movies.sort_values(\"numVotes\",ascending=False)\n",
    "top20v=movies_vote.loc[:,[\"primaryTitle\",\"genres\",\"averageRating\",\"numVotes\"]]\n",
    "top20v[\"numVotes\"]=top20v[\"numVotes\"].astype(int)\n",
    "print(top20v.head(20))"
   ]
  },
  {
   "cell_type": "code",
   "execution_count": 279,
   "metadata": {},
   "outputs": [],
   "source": [
    "top20r.to_csv(r\"C:\\Users\\Neha Thakar\\Desktop\\Spring Term\\Unstructured Data Modeling\\Project\\top20v.csv\", index = False)"
   ]
  },
  {
   "cell_type": "markdown",
   "metadata": {},
   "source": [
    "# Most Common Genre"
   ]
  },
  {
   "cell_type": "code",
   "execution_count": 280,
   "metadata": {},
   "outputs": [
    {
     "data": {
      "text/html": [
       "<div>\n",
       "<style scoped>\n",
       "    .dataframe tbody tr th:only-of-type {\n",
       "        vertical-align: middle;\n",
       "    }\n",
       "\n",
       "    .dataframe tbody tr th {\n",
       "        vertical-align: top;\n",
       "    }\n",
       "\n",
       "    .dataframe thead th {\n",
       "        text-align: right;\n",
       "    }\n",
       "</style>\n",
       "<table border=\"1\" class=\"dataframe\">\n",
       "  <thead>\n",
       "    <tr style=\"text-align: right;\">\n",
       "      <th></th>\n",
       "      <th>titleId</th>\n",
       "      <th>ordering</th>\n",
       "      <th>title</th>\n",
       "      <th>region</th>\n",
       "      <th>language</th>\n",
       "      <th>types</th>\n",
       "      <th>attributes</th>\n",
       "      <th>isOriginalTitle</th>\n",
       "      <th>tconst</th>\n",
       "      <th>titleType</th>\n",
       "      <th>primaryTitle</th>\n",
       "      <th>originalTitle</th>\n",
       "      <th>isAdult</th>\n",
       "      <th>startYear</th>\n",
       "      <th>endYear</th>\n",
       "      <th>runtimeMinutes</th>\n",
       "      <th>genres</th>\n",
       "      <th>averageRating</th>\n",
       "      <th>numVotes</th>\n",
       "      <th>Score</th>\n",
       "    </tr>\n",
       "  </thead>\n",
       "  <tbody>\n",
       "    <tr>\n",
       "      <th>900</th>\n",
       "      <td>tt0993846</td>\n",
       "      <td>1</td>\n",
       "      <td>The Wolf of Wall Street</td>\n",
       "      <td>\\N</td>\n",
       "      <td>\\N</td>\n",
       "      <td>original</td>\n",
       "      <td>\\N</td>\n",
       "      <td>1</td>\n",
       "      <td>tt0993846</td>\n",
       "      <td>movie</td>\n",
       "      <td>The Wolf of Wall Street</td>\n",
       "      <td>The Wolf of Wall Street</td>\n",
       "      <td>0</td>\n",
       "      <td>2013</td>\n",
       "      <td>\\N</td>\n",
       "      <td>180</td>\n",
       "      <td>Biography,Crime,Drama</td>\n",
       "      <td>8.2</td>\n",
       "      <td>1069874.0</td>\n",
       "      <td>8772966.8</td>\n",
       "    </tr>\n",
       "    <tr>\n",
       "      <th>1133</th>\n",
       "      <td>tt2015381</td>\n",
       "      <td>33</td>\n",
       "      <td>Guardians of the Galaxy</td>\n",
       "      <td>\\N</td>\n",
       "      <td>\\N</td>\n",
       "      <td>original</td>\n",
       "      <td>\\N</td>\n",
       "      <td>1</td>\n",
       "      <td>tt2015381</td>\n",
       "      <td>movie</td>\n",
       "      <td>Guardians of the Galaxy</td>\n",
       "      <td>Guardians of the Galaxy</td>\n",
       "      <td>0</td>\n",
       "      <td>2014</td>\n",
       "      <td>\\N</td>\n",
       "      <td>121</td>\n",
       "      <td>Action,Adventure,Comedy</td>\n",
       "      <td>8.0</td>\n",
       "      <td>980782.0</td>\n",
       "      <td>7846256.0</td>\n",
       "    </tr>\n",
       "    <tr>\n",
       "      <th>198</th>\n",
       "      <td>tt0060196</td>\n",
       "      <td>3</td>\n",
       "      <td>Il buono, il brutto, il cattivo</td>\n",
       "      <td>\\N</td>\n",
       "      <td>\\N</td>\n",
       "      <td>original</td>\n",
       "      <td>\\N</td>\n",
       "      <td>1</td>\n",
       "      <td>tt0060196</td>\n",
       "      <td>movie</td>\n",
       "      <td>The Good, the Bad and the Ugly</td>\n",
       "      <td>Il buono, il brutto, il cattivo</td>\n",
       "      <td>0</td>\n",
       "      <td>1966</td>\n",
       "      <td>\\N</td>\n",
       "      <td>161</td>\n",
       "      <td>Western</td>\n",
       "      <td>8.8</td>\n",
       "      <td>640941.0</td>\n",
       "      <td>5640280.8</td>\n",
       "    </tr>\n",
       "    <tr>\n",
       "      <th>716</th>\n",
       "      <td>tt0383574</td>\n",
       "      <td>21</td>\n",
       "      <td>Pirates of the Caribbean: Dead Man's Chest</td>\n",
       "      <td>\\N</td>\n",
       "      <td>\\N</td>\n",
       "      <td>original</td>\n",
       "      <td>\\N</td>\n",
       "      <td>1</td>\n",
       "      <td>tt0383574</td>\n",
       "      <td>movie</td>\n",
       "      <td>Pirates of the Caribbean: Dead Man's Chest</td>\n",
       "      <td>Pirates of the Caribbean: Dead Man's Chest</td>\n",
       "      <td>0</td>\n",
       "      <td>2006</td>\n",
       "      <td>\\N</td>\n",
       "      <td>151</td>\n",
       "      <td>Action,Adventure,Fantasy</td>\n",
       "      <td>7.3</td>\n",
       "      <td>623366.0</td>\n",
       "      <td>4550571.8</td>\n",
       "    </tr>\n",
       "    <tr>\n",
       "      <th>461</th>\n",
       "      <td>tt0120363</td>\n",
       "      <td>31</td>\n",
       "      <td>Toy Story 2</td>\n",
       "      <td>\\N</td>\n",
       "      <td>\\N</td>\n",
       "      <td>original</td>\n",
       "      <td>\\N</td>\n",
       "      <td>1</td>\n",
       "      <td>tt0120363</td>\n",
       "      <td>movie</td>\n",
       "      <td>Toy Story 2</td>\n",
       "      <td>Toy Story 2</td>\n",
       "      <td>0</td>\n",
       "      <td>1999</td>\n",
       "      <td>\\N</td>\n",
       "      <td>92</td>\n",
       "      <td>Adventure,Animation,Comedy</td>\n",
       "      <td>7.9</td>\n",
       "      <td>490750.0</td>\n",
       "      <td>3876925.0</td>\n",
       "    </tr>\n",
       "  </tbody>\n",
       "</table>\n",
       "</div>"
      ],
      "text/plain": [
       "        titleId  ordering                                       title region  \\\n",
       "900   tt0993846         1                     The Wolf of Wall Street     \\N   \n",
       "1133  tt2015381        33                     Guardians of the Galaxy     \\N   \n",
       "198   tt0060196         3             Il buono, il brutto, il cattivo     \\N   \n",
       "716   tt0383574        21  Pirates of the Caribbean: Dead Man's Chest     \\N   \n",
       "461   tt0120363        31                                 Toy Story 2     \\N   \n",
       "\n",
       "     language     types attributes  isOriginalTitle     tconst titleType  \\\n",
       "900        \\N  original         \\N                1  tt0993846     movie   \n",
       "1133       \\N  original         \\N                1  tt2015381     movie   \n",
       "198        \\N  original         \\N                1  tt0060196     movie   \n",
       "716        \\N  original         \\N                1  tt0383574     movie   \n",
       "461        \\N  original         \\N                1  tt0120363     movie   \n",
       "\n",
       "                                    primaryTitle  \\\n",
       "900                      The Wolf of Wall Street   \n",
       "1133                     Guardians of the Galaxy   \n",
       "198               The Good, the Bad and the Ugly   \n",
       "716   Pirates of the Caribbean: Dead Man's Chest   \n",
       "461                                  Toy Story 2   \n",
       "\n",
       "                                   originalTitle  isAdult  startYear endYear  \\\n",
       "900                      The Wolf of Wall Street        0       2013      \\N   \n",
       "1133                     Guardians of the Galaxy        0       2014      \\N   \n",
       "198              Il buono, il brutto, il cattivo        0       1966      \\N   \n",
       "716   Pirates of the Caribbean: Dead Man's Chest        0       2006      \\N   \n",
       "461                                  Toy Story 2        0       1999      \\N   \n",
       "\n",
       "     runtimeMinutes                      genres  averageRating   numVotes  \\\n",
       "900             180       Biography,Crime,Drama            8.2  1069874.0   \n",
       "1133            121     Action,Adventure,Comedy            8.0   980782.0   \n",
       "198             161                     Western            8.8   640941.0   \n",
       "716             151    Action,Adventure,Fantasy            7.3   623366.0   \n",
       "461              92  Adventure,Animation,Comedy            7.9   490750.0   \n",
       "\n",
       "          Score  \n",
       "900   8772966.8  \n",
       "1133  7846256.0  \n",
       "198   5640280.8  \n",
       "716   4550571.8  \n",
       "461   3876925.0  "
      ]
     },
     "execution_count": 280,
     "metadata": {},
     "output_type": "execute_result"
    }
   ],
   "source": [
    "movies_sorted.head()\n",
    "Genre = movies_sorted[\"genres\"].astype(str)"
   ]
  },
  {
   "cell_type": "code",
   "execution_count": 281,
   "metadata": {},
   "outputs": [],
   "source": [
    "Genre=Genre.tolist()"
   ]
  },
  {
   "cell_type": "code",
   "execution_count": 282,
   "metadata": {},
   "outputs": [],
   "source": [
    "alist=[]\n",
    "temp=[]"
   ]
  },
  {
   "cell_type": "code",
   "execution_count": 283,
   "metadata": {},
   "outputs": [
    {
     "data": {
      "text/plain": [
       "3391"
      ]
     },
     "execution_count": 283,
     "metadata": {},
     "output_type": "execute_result"
    },
    {
     "name": "stdout",
     "output_type": "stream",
     "text": [
      "28\n",
      "['Action' 'Adult' 'Adventure' 'Animation' 'Biography' 'Comedy' 'Crime'\n",
      " 'Documentary' 'Drama' 'Family' 'Fantasy' 'Film-Noir' 'Game-Show'\n",
      " 'History' 'Horror' 'Music' 'Musical' 'Mystery' 'News' 'Reality-TV'\n",
      " 'Romance' 'Sci-Fi' 'Short' 'Sport' 'Talk-Show' 'Thriller' 'War' 'Western']\n"
     ]
    }
   ],
   "source": [
    "for x in Genre:\n",
    "    temp=x.split(\",\")\n",
    "    alist=alist+temp\n",
    "len(alist)\n",
    "temp=np.array(alist)\n",
    "print(len(np.unique(temp)))\n",
    "genretype=np.unique(temp)\n",
    "print(genretype)\n"
   ]
  },
  {
   "cell_type": "code",
   "execution_count": 284,
   "metadata": {},
   "outputs": [
    {
     "data": {
      "text/plain": [
       "245"
      ]
     },
     "execution_count": 284,
     "metadata": {},
     "output_type": "execute_result"
    }
   ],
   "source": [
    "alist.count(genretype[0])"
   ]
  },
  {
   "cell_type": "code",
   "execution_count": 285,
   "metadata": {},
   "outputs": [
    {
     "name": "stdout",
     "output_type": "stream",
     "text": [
      "[245, 2, 175, 116, 42, 508, 225, 89, 753, 111, 101, 13, 6, 45, 164, 53, 25, 105, 1, 16, 201, 83, 43, 21, 4, 182, 43, 19]\n",
      "<class 'pandas.core.frame.DataFrame'>\n",
      "RangeIndex: 28 entries, 0 to 27\n",
      "Data columns (total 2 columns):\n",
      " #   Column  Non-Null Count  Dtype \n",
      "---  ------  --------------  ----- \n",
      " 0   Genre   28 non-null     object\n",
      " 1   Count   28 non-null     int64 \n",
      "dtypes: int64(1), object(1)\n",
      "memory usage: 576.0+ bytes\n"
     ]
    },
    {
     "data": {
      "text/html": [
       "<div>\n",
       "<style scoped>\n",
       "    .dataframe tbody tr th:only-of-type {\n",
       "        vertical-align: middle;\n",
       "    }\n",
       "\n",
       "    .dataframe tbody tr th {\n",
       "        vertical-align: top;\n",
       "    }\n",
       "\n",
       "    .dataframe thead th {\n",
       "        text-align: right;\n",
       "    }\n",
       "</style>\n",
       "<table border=\"1\" class=\"dataframe\">\n",
       "  <thead>\n",
       "    <tr style=\"text-align: right;\">\n",
       "      <th></th>\n",
       "      <th>Genre</th>\n",
       "      <th>Count</th>\n",
       "    </tr>\n",
       "  </thead>\n",
       "  <tbody>\n",
       "    <tr>\n",
       "      <th>0</th>\n",
       "      <td>Action</td>\n",
       "      <td>245</td>\n",
       "    </tr>\n",
       "    <tr>\n",
       "      <th>1</th>\n",
       "      <td>Adult</td>\n",
       "      <td>2</td>\n",
       "    </tr>\n",
       "    <tr>\n",
       "      <th>2</th>\n",
       "      <td>Adventure</td>\n",
       "      <td>175</td>\n",
       "    </tr>\n",
       "    <tr>\n",
       "      <th>3</th>\n",
       "      <td>Animation</td>\n",
       "      <td>116</td>\n",
       "    </tr>\n",
       "    <tr>\n",
       "      <th>4</th>\n",
       "      <td>Biography</td>\n",
       "      <td>42</td>\n",
       "    </tr>\n",
       "  </tbody>\n",
       "</table>\n",
       "</div>"
      ],
      "text/plain": [
       "       Genre  Count\n",
       "0     Action    245\n",
       "1      Adult      2\n",
       "2  Adventure    175\n",
       "3  Animation    116\n",
       "4  Biography     42"
      ]
     },
     "execution_count": 285,
     "metadata": {},
     "output_type": "execute_result"
    },
    {
     "name": "stdout",
     "output_type": "stream",
     "text": [
      "          Genre  Count\n",
      "8         Drama    753\n",
      "5        Comedy    508\n",
      "0        Action    245\n",
      "6         Crime    225\n",
      "20      Romance    201\n",
      "25     Thriller    182\n",
      "2     Adventure    175\n",
      "14       Horror    164\n",
      "3     Animation    116\n",
      "9        Family    111\n",
      "17      Mystery    105\n",
      "10      Fantasy    101\n",
      "7   Documentary     89\n",
      "21       Sci-Fi     83\n",
      "15        Music     53\n",
      "13      History     45\n",
      "26          War     43\n",
      "22        Short     43\n",
      "4     Biography     42\n",
      "16      Musical     25\n",
      "23        Sport     21\n",
      "27      Western     19\n",
      "19   Reality-TV     16\n",
      "11    Film-Noir     13\n",
      "12    Game-Show      6\n",
      "24    Talk-Show      4\n",
      "1         Adult      2\n",
      "18         News      1\n"
     ]
    }
   ],
   "source": [
    "temp=0\n",
    "countz=[]\n",
    "for x in genretype:\n",
    "    countz.append(alist.count(x))\n",
    "    temp=temp+1\n",
    "print(countz)\n",
    "df={'Genre':genretype,'Count':countz} \n",
    "df=pd.DataFrame(df)\n",
    "df.info()\n",
    "df.head()\n",
    "df=df.sort_values(\"Count\",ascending=False)\n",
    "print(df)"
   ]
  },
  {
   "cell_type": "code",
   "execution_count": 286,
   "metadata": {},
   "outputs": [
    {
     "data": {
      "text/plain": [
       "<BarContainer object of 10 artists>"
      ]
     },
     "execution_count": 286,
     "metadata": {},
     "output_type": "execute_result"
    },
    {
     "data": {
      "text/plain": [
       "([0, 1, 2, 3, 4, 5, 6, 7, 8, 9], <a list of 10 Text xticklabel objects>)"
      ]
     },
     "execution_count": 286,
     "metadata": {},
     "output_type": "execute_result"
    },
    {
     "data": {
      "text/plain": [
       "Text(0.5, 0, 'Count')"
      ]
     },
     "execution_count": 286,
     "metadata": {},
     "output_type": "execute_result"
    },
    {
     "data": {
      "text/plain": [
       "Text(0.5, 1.0, 'Genre Classification')"
      ]
     },
     "execution_count": 286,
     "metadata": {},
     "output_type": "execute_result"
    },
    {
     "data": {
      "image/png": "[encoded data removed]",
      "text/plain": [
       "<Figure size 432x288 with 1 Axes>"
      ]
     },
     "metadata": {},
     "output_type": "display_data"
    }
   ],
   "source": [
    "plt.bar(df.loc[:,\"Genre\"].head(10), df.loc[:,\"Count\"].head(10), align='center', alpha=1)\n",
    "plt.xticks(rotation=45)\n",
    "plt.xlabel('Count')\n",
    "plt.title('Genre Classification')\n",
    "plt.show()"
   ]
  },
  {
   "cell_type": "code",
   "execution_count": 287,
   "metadata": {},
   "outputs": [
    {
     "name": "stdout",
     "output_type": "stream",
     "text": [
      "                                    primaryTitle                      genres  \\\n",
      "900                      The Wolf of Wall Street       Biography,Crime,Drama   \n",
      "1133                     Guardians of the Galaxy     Action,Adventure,Comedy   \n",
      "198               The Good, the Bad and the Ugly                     Western   \n",
      "716   Pirates of the Caribbean: Dead Man's Chest    Action,Adventure,Fantasy   \n",
      "461                                  Toy Story 2  Adventure,Animation,Comedy   \n",
      "\n",
      "      averageRating  numVotes  \n",
      "900             8.2   1069874  \n",
      "1133            8.0    980782  \n",
      "198             8.8    640941  \n",
      "716             7.3    623366  \n",
      "461             7.9    490750  \n"
     ]
    }
   ],
   "source": [
    "top50rv=top20.head(50)\n",
    "print(top50rv.head())"
   ]
  },
  {
   "cell_type": "code",
   "execution_count": 288,
   "metadata": {},
   "outputs": [],
   "source": [
    "genrepop=top50rv[\"genres\"].astype(str)\n",
    "genrepop=genrepop.tolist()"
   ]
  },
  {
   "cell_type": "code",
   "execution_count": 289,
   "metadata": {},
   "outputs": [
    {
     "data": {
      "text/plain": [
       "50"
      ]
     },
     "execution_count": 289,
     "metadata": {},
     "output_type": "execute_result"
    }
   ],
   "source": [
    "len(genrepop)"
   ]
  },
  {
   "cell_type": "code",
   "execution_count": 290,
   "metadata": {},
   "outputs": [],
   "source": [
    "alist1=[]\n",
    "temp=[]"
   ]
  },
  {
   "cell_type": "code",
   "execution_count": 291,
   "metadata": {},
   "outputs": [
    {
     "data": {
      "text/plain": [
       "125"
      ]
     },
     "execution_count": 291,
     "metadata": {},
     "output_type": "execute_result"
    },
    {
     "name": "stdout",
     "output_type": "stream",
     "text": [
      "15\n",
      "['Action' 'Adventure' 'Animation' 'Biography' 'Comedy' 'Crime' 'Drama'\n",
      " 'Family' 'Fantasy' 'Horror' 'Mystery' 'Romance' 'Sci-Fi' 'Thriller'\n",
      " 'Western']\n"
     ]
    }
   ],
   "source": [
    "for x in genrepop:\n",
    "    temp=x.split(\",\")\n",
    "    alist1=alist1+temp\n",
    "len(alist1)\n",
    "temp=np.array(alist1)\n",
    "print(len(np.unique(temp)))\n",
    "genretype1=np.unique(temp)\n",
    "print(genretype1)"
   ]
  },
  {
   "cell_type": "code",
   "execution_count": 292,
   "metadata": {},
   "outputs": [
    {
     "data": {
      "text/plain": [
       "245"
      ]
     },
     "execution_count": 292,
     "metadata": {},
     "output_type": "execute_result"
    }
   ],
   "source": [
    "alist.count(genretype1[0])"
   ]
  },
  {
   "cell_type": "code",
   "execution_count": 293,
   "metadata": {},
   "outputs": [
    {
     "name": "stdout",
     "output_type": "stream",
     "text": [
      "[17, 12, 4, 5, 20, 15, 21, 4, 8, 3, 3, 2, 2, 8, 1]\n",
      "<class 'pandas.core.frame.DataFrame'>\n",
      "RangeIndex: 15 entries, 0 to 14\n",
      "Data columns (total 2 columns):\n",
      " #   Column  Non-Null Count  Dtype \n",
      "---  ------  --------------  ----- \n",
      " 0   Genre   15 non-null     object\n",
      " 1   Count   15 non-null     int64 \n",
      "dtypes: int64(1), object(1)\n",
      "memory usage: 368.0+ bytes\n"
     ]
    },
    {
     "data": {
      "text/html": [
       "<div>\n",
       "<style scoped>\n",
       "    .dataframe tbody tr th:only-of-type {\n",
       "        vertical-align: middle;\n",
       "    }\n",
       "\n",
       "    .dataframe tbody tr th {\n",
       "        vertical-align: top;\n",
       "    }\n",
       "\n",
       "    .dataframe thead th {\n",
       "        text-align: right;\n",
       "    }\n",
       "</style>\n",
       "<table border=\"1\" class=\"dataframe\">\n",
       "  <thead>\n",
       "    <tr style=\"text-align: right;\">\n",
       "      <th></th>\n",
       "      <th>Genre</th>\n",
       "      <th>Count</th>\n",
       "    </tr>\n",
       "  </thead>\n",
       "  <tbody>\n",
       "    <tr>\n",
       "      <th>0</th>\n",
       "      <td>Action</td>\n",
       "      <td>17</td>\n",
       "    </tr>\n",
       "    <tr>\n",
       "      <th>1</th>\n",
       "      <td>Adventure</td>\n",
       "      <td>12</td>\n",
       "    </tr>\n",
       "    <tr>\n",
       "      <th>2</th>\n",
       "      <td>Animation</td>\n",
       "      <td>4</td>\n",
       "    </tr>\n",
       "    <tr>\n",
       "      <th>3</th>\n",
       "      <td>Biography</td>\n",
       "      <td>5</td>\n",
       "    </tr>\n",
       "    <tr>\n",
       "      <th>4</th>\n",
       "      <td>Comedy</td>\n",
       "      <td>20</td>\n",
       "    </tr>\n",
       "  </tbody>\n",
       "</table>\n",
       "</div>"
      ],
      "text/plain": [
       "       Genre  Count\n",
       "0     Action     17\n",
       "1  Adventure     12\n",
       "2  Animation      4\n",
       "3  Biography      5\n",
       "4     Comedy     20"
      ]
     },
     "execution_count": 293,
     "metadata": {},
     "output_type": "execute_result"
    },
    {
     "name": "stdout",
     "output_type": "stream",
     "text": [
      "        Genre  Count\n",
      "6       Drama     21\n",
      "4      Comedy     20\n",
      "0      Action     17\n",
      "5       Crime     15\n",
      "1   Adventure     12\n",
      "8     Fantasy      8\n",
      "13   Thriller      8\n",
      "3   Biography      5\n",
      "2   Animation      4\n",
      "7      Family      4\n",
      "9      Horror      3\n",
      "10    Mystery      3\n",
      "11    Romance      2\n",
      "12     Sci-Fi      2\n",
      "14    Western      1\n"
     ]
    }
   ],
   "source": [
    "temp=0\n",
    "countz=[]\n",
    "for x in genretype1:\n",
    "    countz.append(alist1.count(x))\n",
    "    temp=temp+1\n",
    "print(countz)\n",
    "df1={'Genre':genretype1,'Count':countz} \n",
    "df1=pd.DataFrame(df1)\n",
    "df1.info()\n",
    "df1.head()\n",
    "df1=df1.sort_values(\"Count\",ascending=False)\n",
    "print(df1)"
   ]
  },
  {
   "cell_type": "code",
   "execution_count": 294,
   "metadata": {},
   "outputs": [
    {
     "data": {
      "text/plain": [
       "<BarContainer object of 10 artists>"
      ]
     },
     "execution_count": 294,
     "metadata": {},
     "output_type": "execute_result"
    },
    {
     "data": {
      "text/plain": [
       "([0, 1, 2, 3, 4, 5, 6, 7, 8, 9], <a list of 10 Text xticklabel objects>)"
      ]
     },
     "execution_count": 294,
     "metadata": {},
     "output_type": "execute_result"
    },
    {
     "data": {
      "text/plain": [
       "Text(0.5, 0, 'Count')"
      ]
     },
     "execution_count": 294,
     "metadata": {},
     "output_type": "execute_result"
    },
    {
     "data": {
      "text/plain": [
       "Text(0.5, 1.0, 'Genre Classification')"
      ]
     },
     "execution_count": 294,
     "metadata": {},
     "output_type": "execute_result"
    },
    {
     "data": {
      "image/png": "[encoded data removed]",
      "text/plain": [
       "<Figure size 432x288 with 1 Axes>"
      ]
     },
     "metadata": {},
     "output_type": "display_data"
    }
   ],
   "source": [
    "plt.bar(df1.loc[:,\"Genre\"].head(10), df1.loc[:,\"Count\"].head(10), align='center', alpha=1)\n",
    "plt.xticks(rotation=45)\n",
    "plt.xlabel('Count')\n",
    "plt.title('Genre Classification')\n",
    "plt.show()"
   ]
  },
  {
   "cell_type": "code",
   "execution_count": 295,
   "metadata": {},
   "outputs": [
    {
     "name": "stdout",
     "output_type": "stream",
     "text": [
      "6.6\n"
     ]
    }
   ],
   "source": [
    "medrating=movies_sorted[\"averageRating\"].median()\n",
    "print(medrating)"
   ]
  },
  {
   "cell_type": "code",
   "execution_count": 296,
   "metadata": {},
   "outputs": [],
   "source": [
    "for label,row in movies_sorted.iterrows():\n",
    "    if movies_sorted.loc[label,\"averageRating\"]>=medrating:\n",
    "        movies_sorted.loc[label,\"Recommended\"]=1\n",
    "    else:\n",
    "        movies_sorted.loc[label,\"Recommended\"]=0"
   ]
  },
  {
   "cell_type": "code",
   "execution_count": 297,
   "metadata": {},
   "outputs": [
    {
     "data": {
      "text/html": [
       "<div>\n",
       "<style scoped>\n",
       "    .dataframe tbody tr th:only-of-type {\n",
       "        vertical-align: middle;\n",
       "    }\n",
       "\n",
       "    .dataframe tbody tr th {\n",
       "        vertical-align: top;\n",
       "    }\n",
       "\n",
       "    .dataframe thead th {\n",
       "        text-align: right;\n",
       "    }\n",
       "</style>\n",
       "<table border=\"1\" class=\"dataframe\">\n",
       "  <thead>\n",
       "    <tr style=\"text-align: right;\">\n",
       "      <th></th>\n",
       "      <th>titleId</th>\n",
       "      <th>ordering</th>\n",
       "      <th>title</th>\n",
       "      <th>region</th>\n",
       "      <th>language</th>\n",
       "      <th>types</th>\n",
       "      <th>attributes</th>\n",
       "      <th>isOriginalTitle</th>\n",
       "      <th>tconst</th>\n",
       "      <th>titleType</th>\n",
       "      <th>...</th>\n",
       "      <th>originalTitle</th>\n",
       "      <th>isAdult</th>\n",
       "      <th>startYear</th>\n",
       "      <th>endYear</th>\n",
       "      <th>runtimeMinutes</th>\n",
       "      <th>genres</th>\n",
       "      <th>averageRating</th>\n",
       "      <th>numVotes</th>\n",
       "      <th>Score</th>\n",
       "      <th>Recommended</th>\n",
       "    </tr>\n",
       "  </thead>\n",
       "  <tbody>\n",
       "    <tr>\n",
       "      <th>900</th>\n",
       "      <td>tt0993846</td>\n",
       "      <td>1</td>\n",
       "      <td>The Wolf of Wall Street</td>\n",
       "      <td>\\N</td>\n",
       "      <td>\\N</td>\n",
       "      <td>original</td>\n",
       "      <td>\\N</td>\n",
       "      <td>1</td>\n",
       "      <td>tt0993846</td>\n",
       "      <td>movie</td>\n",
       "      <td>...</td>\n",
       "      <td>The Wolf of Wall Street</td>\n",
       "      <td>0</td>\n",
       "      <td>2013</td>\n",
       "      <td>\\N</td>\n",
       "      <td>180</td>\n",
       "      <td>Biography,Crime,Drama</td>\n",
       "      <td>8.2</td>\n",
       "      <td>1069874.0</td>\n",
       "      <td>8772966.8</td>\n",
       "      <td>1.0</td>\n",
       "    </tr>\n",
       "    <tr>\n",
       "      <th>1133</th>\n",
       "      <td>tt2015381</td>\n",
       "      <td>33</td>\n",
       "      <td>Guardians of the Galaxy</td>\n",
       "      <td>\\N</td>\n",
       "      <td>\\N</td>\n",
       "      <td>original</td>\n",
       "      <td>\\N</td>\n",
       "      <td>1</td>\n",
       "      <td>tt2015381</td>\n",
       "      <td>movie</td>\n",
       "      <td>...</td>\n",
       "      <td>Guardians of the Galaxy</td>\n",
       "      <td>0</td>\n",
       "      <td>2014</td>\n",
       "      <td>\\N</td>\n",
       "      <td>121</td>\n",
       "      <td>Action,Adventure,Comedy</td>\n",
       "      <td>8.0</td>\n",
       "      <td>980782.0</td>\n",
       "      <td>7846256.0</td>\n",
       "      <td>1.0</td>\n",
       "    </tr>\n",
       "    <tr>\n",
       "      <th>198</th>\n",
       "      <td>tt0060196</td>\n",
       "      <td>3</td>\n",
       "      <td>Il buono, il brutto, il cattivo</td>\n",
       "      <td>\\N</td>\n",
       "      <td>\\N</td>\n",
       "      <td>original</td>\n",
       "      <td>\\N</td>\n",
       "      <td>1</td>\n",
       "      <td>tt0060196</td>\n",
       "      <td>movie</td>\n",
       "      <td>...</td>\n",
       "      <td>Il buono, il brutto, il cattivo</td>\n",
       "      <td>0</td>\n",
       "      <td>1966</td>\n",
       "      <td>\\N</td>\n",
       "      <td>161</td>\n",
       "      <td>Western</td>\n",
       "      <td>8.8</td>\n",
       "      <td>640941.0</td>\n",
       "      <td>5640280.8</td>\n",
       "      <td>1.0</td>\n",
       "    </tr>\n",
       "    <tr>\n",
       "      <th>716</th>\n",
       "      <td>tt0383574</td>\n",
       "      <td>21</td>\n",
       "      <td>Pirates of the Caribbean: Dead Man's Chest</td>\n",
       "      <td>\\N</td>\n",
       "      <td>\\N</td>\n",
       "      <td>original</td>\n",
       "      <td>\\N</td>\n",
       "      <td>1</td>\n",
       "      <td>tt0383574</td>\n",
       "      <td>movie</td>\n",
       "      <td>...</td>\n",
       "      <td>Pirates of the Caribbean: Dead Man's Chest</td>\n",
       "      <td>0</td>\n",
       "      <td>2006</td>\n",
       "      <td>\\N</td>\n",
       "      <td>151</td>\n",
       "      <td>Action,Adventure,Fantasy</td>\n",
       "      <td>7.3</td>\n",
       "      <td>623366.0</td>\n",
       "      <td>4550571.8</td>\n",
       "      <td>1.0</td>\n",
       "    </tr>\n",
       "    <tr>\n",
       "      <th>461</th>\n",
       "      <td>tt0120363</td>\n",
       "      <td>31</td>\n",
       "      <td>Toy Story 2</td>\n",
       "      <td>\\N</td>\n",
       "      <td>\\N</td>\n",
       "      <td>original</td>\n",
       "      <td>\\N</td>\n",
       "      <td>1</td>\n",
       "      <td>tt0120363</td>\n",
       "      <td>movie</td>\n",
       "      <td>...</td>\n",
       "      <td>Toy Story 2</td>\n",
       "      <td>0</td>\n",
       "      <td>1999</td>\n",
       "      <td>\\N</td>\n",
       "      <td>92</td>\n",
       "      <td>Adventure,Animation,Comedy</td>\n",
       "      <td>7.9</td>\n",
       "      <td>490750.0</td>\n",
       "      <td>3876925.0</td>\n",
       "      <td>1.0</td>\n",
       "    </tr>\n",
       "  </tbody>\n",
       "</table>\n",
       "<p>5 rows × 21 columns</p>\n",
       "</div>"
      ],
      "text/plain": [
       "        titleId  ordering                                       title region  \\\n",
       "900   tt0993846         1                     The Wolf of Wall Street     \\N   \n",
       "1133  tt2015381        33                     Guardians of the Galaxy     \\N   \n",
       "198   tt0060196         3             Il buono, il brutto, il cattivo     \\N   \n",
       "716   tt0383574        21  Pirates of the Caribbean: Dead Man's Chest     \\N   \n",
       "461   tt0120363        31                                 Toy Story 2     \\N   \n",
       "\n",
       "     language     types attributes  isOriginalTitle     tconst titleType  ...  \\\n",
       "900        \\N  original         \\N                1  tt0993846     movie  ...   \n",
       "1133       \\N  original         \\N                1  tt2015381     movie  ...   \n",
       "198        \\N  original         \\N                1  tt0060196     movie  ...   \n",
       "716        \\N  original         \\N                1  tt0383574     movie  ...   \n",
       "461        \\N  original         \\N                1  tt0120363     movie  ...   \n",
       "\n",
       "                                   originalTitle isAdult  startYear  endYear  \\\n",
       "900                      The Wolf of Wall Street       0       2013       \\N   \n",
       "1133                     Guardians of the Galaxy       0       2014       \\N   \n",
       "198              Il buono, il brutto, il cattivo       0       1966       \\N   \n",
       "716   Pirates of the Caribbean: Dead Man's Chest       0       2006       \\N   \n",
       "461                                  Toy Story 2       0       1999       \\N   \n",
       "\n",
       "     runtimeMinutes                      genres averageRating   numVotes  \\\n",
       "900             180       Biography,Crime,Drama           8.2  1069874.0   \n",
       "1133            121     Action,Adventure,Comedy           8.0   980782.0   \n",
       "198             161                     Western           8.8   640941.0   \n",
       "716             151    Action,Adventure,Fantasy           7.3   623366.0   \n",
       "461              92  Adventure,Animation,Comedy           7.9   490750.0   \n",
       "\n",
       "          Score  Recommended  \n",
       "900   8772966.8          1.0  \n",
       "1133  7846256.0          1.0  \n",
       "198   5640280.8          1.0  \n",
       "716   4550571.8          1.0  \n",
       "461   3876925.0          1.0  \n",
       "\n",
       "[5 rows x 21 columns]"
      ]
     },
     "execution_count": 297,
     "metadata": {},
     "output_type": "execute_result"
    },
    {
     "name": "stdout",
     "output_type": "stream",
     "text": [
      "<class 'pandas.core.frame.DataFrame'>\n",
      "Int64Index: 1539 entries, 900 to 1204\n",
      "Data columns (total 21 columns):\n",
      " #   Column           Non-Null Count  Dtype   \n",
      "---  ------           --------------  -----   \n",
      " 0   titleId          1539 non-null   object  \n",
      " 1   ordering         1539 non-null   int64   \n",
      " 2   title            1539 non-null   object  \n",
      " 3   region           1539 non-null   object  \n",
      " 4   language         1539 non-null   object  \n",
      " 5   types            1539 non-null   object  \n",
      " 6   attributes       1539 non-null   object  \n",
      " 7   isOriginalTitle  1539 non-null   int64   \n",
      " 8   tconst           1539 non-null   object  \n",
      " 9   titleType        1539 non-null   object  \n",
      " 10  primaryTitle     1539 non-null   object  \n",
      " 11  originalTitle    1539 non-null   object  \n",
      " 12  isAdult          1539 non-null   int64   \n",
      " 13  startYear        1539 non-null   int64   \n",
      " 14  endYear          1539 non-null   object  \n",
      " 15  runtimeMinutes   1539 non-null   object  \n",
      " 16  genres           1539 non-null   object  \n",
      " 17  averageRating    1539 non-null   float64 \n",
      " 18  numVotes         1539 non-null   float64 \n",
      " 19  Score            1539 non-null   float64 \n",
      " 20  Recommended      1539 non-null   category\n",
      "dtypes: category(1), float64(3), int64(4), object(13)\n",
      "memory usage: 294.1+ KB\n"
     ]
    }
   ],
   "source": [
    "movies_sorted['Recommended'] = movies_sorted.Recommended.astype('category')\n",
    "movies_sorted.head()\n",
    "movies_sorted.info()"
   ]
  },
  {
   "cell_type": "code",
   "execution_count": 298,
   "metadata": {},
   "outputs": [
    {
     "data": {
      "text/html": [
       "<div>\n",
       "<style scoped>\n",
       "    .dataframe tbody tr th:only-of-type {\n",
       "        vertical-align: middle;\n",
       "    }\n",
       "\n",
       "    .dataframe tbody tr th {\n",
       "        vertical-align: top;\n",
       "    }\n",
       "\n",
       "    .dataframe thead th {\n",
       "        text-align: right;\n",
       "    }\n",
       "</style>\n",
       "<table border=\"1\" class=\"dataframe\">\n",
       "  <thead>\n",
       "    <tr style=\"text-align: right;\">\n",
       "      <th></th>\n",
       "      <th>Action</th>\n",
       "      <th>Adult</th>\n",
       "      <th>Adventure</th>\n",
       "      <th>Animation</th>\n",
       "      <th>Biography</th>\n",
       "      <th>Comedy</th>\n",
       "      <th>Crime</th>\n",
       "      <th>Documentary</th>\n",
       "      <th>Drama</th>\n",
       "      <th>Family</th>\n",
       "      <th>...</th>\n",
       "      <th>News</th>\n",
       "      <th>Reality-TV</th>\n",
       "      <th>Romance</th>\n",
       "      <th>Sci-Fi</th>\n",
       "      <th>Short</th>\n",
       "      <th>Sport</th>\n",
       "      <th>Talk-Show</th>\n",
       "      <th>Thriller</th>\n",
       "      <th>War</th>\n",
       "      <th>Western</th>\n",
       "    </tr>\n",
       "  </thead>\n",
       "  <tbody>\n",
       "  </tbody>\n",
       "</table>\n",
       "<p>0 rows × 28 columns</p>\n",
       "</div>"
      ],
      "text/plain": [
       "Empty DataFrame\n",
       "Columns: [Action, Adult, Adventure, Animation, Biography, Comedy, Crime, Documentary, Drama, Family, Fantasy, Film-Noir, Game-Show, History, Horror, Music, Musical, Mystery, News, Reality-TV, Romance, Sci-Fi, Short, Sport, Talk-Show, Thriller, War, Western]\n",
       "Index: []\n",
       "\n",
       "[0 rows x 28 columns]"
      ]
     },
     "execution_count": 298,
     "metadata": {},
     "output_type": "execute_result"
    }
   ],
   "source": [
    "column_names = genretype\n",
    "dummy = pd.DataFrame(columns = column_names)\n",
    "dummy.head()"
   ]
  },
  {
   "cell_type": "code",
   "execution_count": 299,
   "metadata": {},
   "outputs": [
    {
     "data": {
      "text/plain": [
       "array(['Action', 'Adult', 'Adventure', 'Animation', 'Biography', 'Comedy',\n",
       "       'Crime', 'Documentary', 'Drama', 'Family', 'Fantasy', 'Film-Noir',\n",
       "       'Game-Show', 'History', 'Horror', 'Music', 'Musical', 'Mystery',\n",
       "       'News', 'Reality-TV', 'Romance', 'Sci-Fi', 'Short', 'Sport',\n",
       "       'Talk-Show', 'Thriller', 'War', 'Western'], dtype='<U11')"
      ]
     },
     "execution_count": 299,
     "metadata": {},
     "output_type": "execute_result"
    }
   ],
   "source": [
    "genretype"
   ]
  },
  {
   "cell_type": "code",
   "execution_count": 300,
   "metadata": {},
   "outputs": [],
   "source": [
    "iter=0\n",
    "for x in Genre:\n",
    "    temp=28\n",
    "    while temp!=0: \n",
    "        if  genretype[28-temp] in x:\n",
    "            dummy.loc[iter,genretype[28-temp]]=1\n",
    "        else:\n",
    "            dummy.loc[iter,genretype[28-temp]]=0\n",
    "        temp=temp-1\n",
    "    iter=iter+1   "
   ]
  },
  {
   "cell_type": "code",
   "execution_count": 301,
   "metadata": {},
   "outputs": [
    {
     "name": "stdout",
     "output_type": "stream",
     "text": [
      "<class 'pandas.core.frame.DataFrame'>\n",
      "Int64Index: 1539 entries, 0 to 1538\n",
      "Data columns (total 28 columns):\n",
      " #   Column       Non-Null Count  Dtype   \n",
      "---  ------       --------------  -----   \n",
      " 0   Action       1539 non-null   category\n",
      " 1   Adult        1539 non-null   category\n",
      " 2   Adventure    1539 non-null   category\n",
      " 3   Animation    1539 non-null   category\n",
      " 4   Biography    1539 non-null   category\n",
      " 5   Comedy       1539 non-null   category\n",
      " 6   Crime        1539 non-null   category\n",
      " 7   Documentary  1539 non-null   category\n",
      " 8   Drama        1539 non-null   category\n",
      " 9   Family       1539 non-null   category\n",
      " 10  Fantasy      1539 non-null   category\n",
      " 11  Film-Noir    1539 non-null   category\n",
      " 12  Game-Show    1539 non-null   category\n",
      " 13  History      1539 non-null   category\n",
      " 14  Horror       1539 non-null   category\n",
      " 15  Music        1539 non-null   category\n",
      " 16  Musical      1539 non-null   category\n",
      " 17  Mystery      1539 non-null   category\n",
      " 18  News         1539 non-null   category\n",
      " 19  Reality-TV   1539 non-null   category\n",
      " 20  Romance      1539 non-null   category\n",
      " 21  Sci-Fi       1539 non-null   category\n",
      " 22  Short        1539 non-null   category\n",
      " 23  Sport        1539 non-null   category\n",
      " 24  Talk-Show    1539 non-null   category\n",
      " 25  Thriller     1539 non-null   category\n",
      " 26  War          1539 non-null   category\n",
      " 27  Western      1539 non-null   category\n",
      "dtypes: category(28)\n",
      "memory usage: 96.7 KB\n"
     ]
    }
   ],
   "source": [
    "dummy = dummy.astype('category')\n",
    "dummy.info()"
   ]
  },
  {
   "cell_type": "code",
   "execution_count": 302,
   "metadata": {},
   "outputs": [
    {
     "data": {
      "text/html": [
       "<div>\n",
       "<style scoped>\n",
       "    .dataframe tbody tr th:only-of-type {\n",
       "        vertical-align: middle;\n",
       "    }\n",
       "\n",
       "    .dataframe tbody tr th {\n",
       "        vertical-align: top;\n",
       "    }\n",
       "\n",
       "    .dataframe thead th {\n",
       "        text-align: right;\n",
       "    }\n",
       "</style>\n",
       "<table border=\"1\" class=\"dataframe\">\n",
       "  <thead>\n",
       "    <tr style=\"text-align: right;\">\n",
       "      <th></th>\n",
       "      <th>titleId</th>\n",
       "      <th>ordering</th>\n",
       "      <th>title</th>\n",
       "      <th>region</th>\n",
       "      <th>language</th>\n",
       "      <th>types</th>\n",
       "      <th>attributes</th>\n",
       "      <th>isOriginalTitle</th>\n",
       "      <th>tconst</th>\n",
       "      <th>titleType</th>\n",
       "      <th>...</th>\n",
       "      <th>originalTitle</th>\n",
       "      <th>isAdult</th>\n",
       "      <th>startYear</th>\n",
       "      <th>endYear</th>\n",
       "      <th>runtimeMinutes</th>\n",
       "      <th>genres</th>\n",
       "      <th>averageRating</th>\n",
       "      <th>numVotes</th>\n",
       "      <th>Score</th>\n",
       "      <th>Recommended</th>\n",
       "    </tr>\n",
       "  </thead>\n",
       "  <tbody>\n",
       "    <tr>\n",
       "      <th>1157</th>\n",
       "      <td>tt2112307</td>\n",
       "      <td>10</td>\n",
       "      <td>Big Bad Bugs</td>\n",
       "      <td>\\N</td>\n",
       "      <td>\\N</td>\n",
       "      <td>original</td>\n",
       "      <td>\\N</td>\n",
       "      <td>1</td>\n",
       "      <td>tt2112307</td>\n",
       "      <td>movie</td>\n",
       "      <td>...</td>\n",
       "      <td>Big Bad Bugs</td>\n",
       "      <td>0</td>\n",
       "      <td>2012</td>\n",
       "      <td>\\N</td>\n",
       "      <td>95</td>\n",
       "      <td>Action,Adventure,Comedy</td>\n",
       "      <td>2.3</td>\n",
       "      <td>273.0</td>\n",
       "      <td>627.9</td>\n",
       "      <td>0.0</td>\n",
       "    </tr>\n",
       "    <tr>\n",
       "      <th>800</th>\n",
       "      <td>tt0472278</td>\n",
       "      <td>1</td>\n",
       "      <td>Vampire Assassin</td>\n",
       "      <td>\\N</td>\n",
       "      <td>\\N</td>\n",
       "      <td>original</td>\n",
       "      <td>\\N</td>\n",
       "      <td>1</td>\n",
       "      <td>tt0472278</td>\n",
       "      <td>video</td>\n",
       "      <td>...</td>\n",
       "      <td>Vampire Assassin</td>\n",
       "      <td>0</td>\n",
       "      <td>2005</td>\n",
       "      <td>\\N</td>\n",
       "      <td>90</td>\n",
       "      <td>Action,Horror</td>\n",
       "      <td>1.4</td>\n",
       "      <td>408.0</td>\n",
       "      <td>571.2</td>\n",
       "      <td>0.0</td>\n",
       "    </tr>\n",
       "    <tr>\n",
       "      <th>1032</th>\n",
       "      <td>tt1576703</td>\n",
       "      <td>2</td>\n",
       "      <td>Xuxa em O Mistério de Feiurinha</td>\n",
       "      <td>\\N</td>\n",
       "      <td>\\N</td>\n",
       "      <td>original</td>\n",
       "      <td>\\N</td>\n",
       "      <td>1</td>\n",
       "      <td>tt1576703</td>\n",
       "      <td>movie</td>\n",
       "      <td>...</td>\n",
       "      <td>Xuxa em O Mistério de Feiurinha</td>\n",
       "      <td>0</td>\n",
       "      <td>2009</td>\n",
       "      <td>\\N</td>\n",
       "      <td>82</td>\n",
       "      <td>Family</td>\n",
       "      <td>2.1</td>\n",
       "      <td>259.0</td>\n",
       "      <td>543.9</td>\n",
       "      <td>0.0</td>\n",
       "    </tr>\n",
       "    <tr>\n",
       "      <th>640</th>\n",
       "      <td>tt0291823</td>\n",
       "      <td>3</td>\n",
       "      <td>The Round and Round</td>\n",
       "      <td>\\N</td>\n",
       "      <td>\\N</td>\n",
       "      <td>original</td>\n",
       "      <td>\\N</td>\n",
       "      <td>1</td>\n",
       "      <td>tt0291823</td>\n",
       "      <td>movie</td>\n",
       "      <td>...</td>\n",
       "      <td>The Round and Round</td>\n",
       "      <td>0</td>\n",
       "      <td>2002</td>\n",
       "      <td>\\N</td>\n",
       "      <td>131</td>\n",
       "      <td>Drama</td>\n",
       "      <td>1.2</td>\n",
       "      <td>414.0</td>\n",
       "      <td>496.8</td>\n",
       "      <td>0.0</td>\n",
       "    </tr>\n",
       "    <tr>\n",
       "      <th>1204</th>\n",
       "      <td>tt2502186</td>\n",
       "      <td>4</td>\n",
       "      <td>Gummibär: The Yummy Gummy Search for Santa</td>\n",
       "      <td>\\N</td>\n",
       "      <td>\\N</td>\n",
       "      <td>original</td>\n",
       "      <td>\\N</td>\n",
       "      <td>1</td>\n",
       "      <td>tt2502186</td>\n",
       "      <td>video</td>\n",
       "      <td>...</td>\n",
       "      <td>Gummibär: The Yummy Gummy Search for Santa</td>\n",
       "      <td>0</td>\n",
       "      <td>2012</td>\n",
       "      <td>\\N</td>\n",
       "      <td>61</td>\n",
       "      <td>Adventure,Animation,Comedy</td>\n",
       "      <td>1.4</td>\n",
       "      <td>268.0</td>\n",
       "      <td>375.2</td>\n",
       "      <td>0.0</td>\n",
       "    </tr>\n",
       "  </tbody>\n",
       "</table>\n",
       "<p>5 rows × 21 columns</p>\n",
       "</div>"
      ],
      "text/plain": [
       "        titleId  ordering                                       title region  \\\n",
       "1157  tt2112307        10                                Big Bad Bugs     \\N   \n",
       "800   tt0472278         1                            Vampire Assassin     \\N   \n",
       "1032  tt1576703         2             Xuxa em O Mistério de Feiurinha     \\N   \n",
       "640   tt0291823         3                         The Round and Round     \\N   \n",
       "1204  tt2502186         4  Gummibär: The Yummy Gummy Search for Santa     \\N   \n",
       "\n",
       "     language     types attributes  isOriginalTitle     tconst titleType  ...  \\\n",
       "1157       \\N  original         \\N                1  tt2112307     movie  ...   \n",
       "800        \\N  original         \\N                1  tt0472278     video  ...   \n",
       "1032       \\N  original         \\N                1  tt1576703     movie  ...   \n",
       "640        \\N  original         \\N                1  tt0291823     movie  ...   \n",
       "1204       \\N  original         \\N                1  tt2502186     video  ...   \n",
       "\n",
       "                                   originalTitle isAdult  startYear  endYear  \\\n",
       "1157                                Big Bad Bugs       0       2012       \\N   \n",
       "800                             Vampire Assassin       0       2005       \\N   \n",
       "1032             Xuxa em O Mistério de Feiurinha       0       2009       \\N   \n",
       "640                          The Round and Round       0       2002       \\N   \n",
       "1204  Gummibär: The Yummy Gummy Search for Santa       0       2012       \\N   \n",
       "\n",
       "     runtimeMinutes                      genres averageRating  numVotes  \\\n",
       "1157             95     Action,Adventure,Comedy           2.3     273.0   \n",
       "800              90               Action,Horror           1.4     408.0   \n",
       "1032             82                      Family           2.1     259.0   \n",
       "640             131                       Drama           1.2     414.0   \n",
       "1204             61  Adventure,Animation,Comedy           1.4     268.0   \n",
       "\n",
       "      Score  Recommended  \n",
       "1157  627.9          0.0  \n",
       "800   571.2          0.0  \n",
       "1032  543.9          0.0  \n",
       "640   496.8          0.0  \n",
       "1204  375.2          0.0  \n",
       "\n",
       "[5 rows x 21 columns]"
      ]
     },
     "execution_count": 302,
     "metadata": {},
     "output_type": "execute_result"
    }
   ],
   "source": [
    "movies_sorted.tail()"
   ]
  },
  {
   "cell_type": "code",
   "execution_count": 303,
   "metadata": {},
   "outputs": [
    {
     "data": {
      "text/html": [
       "<div>\n",
       "<style scoped>\n",
       "    .dataframe tbody tr th:only-of-type {\n",
       "        vertical-align: middle;\n",
       "    }\n",
       "\n",
       "    .dataframe tbody tr th {\n",
       "        vertical-align: top;\n",
       "    }\n",
       "\n",
       "    .dataframe thead th {\n",
       "        text-align: right;\n",
       "    }\n",
       "</style>\n",
       "<table border=\"1\" class=\"dataframe\">\n",
       "  <thead>\n",
       "    <tr style=\"text-align: right;\">\n",
       "      <th></th>\n",
       "      <th>startYear</th>\n",
       "      <th>isAdult</th>\n",
       "      <th>runtimeMinutes</th>\n",
       "      <th>averageRating</th>\n",
       "      <th>numVotes</th>\n",
       "      <th>Recommended</th>\n",
       "    </tr>\n",
       "  </thead>\n",
       "  <tbody>\n",
       "    <tr>\n",
       "      <th>900</th>\n",
       "      <td>2013</td>\n",
       "      <td>0</td>\n",
       "      <td>180</td>\n",
       "      <td>8.2</td>\n",
       "      <td>1069874.0</td>\n",
       "      <td>1.0</td>\n",
       "    </tr>\n",
       "    <tr>\n",
       "      <th>1133</th>\n",
       "      <td>2014</td>\n",
       "      <td>0</td>\n",
       "      <td>121</td>\n",
       "      <td>8.0</td>\n",
       "      <td>980782.0</td>\n",
       "      <td>1.0</td>\n",
       "    </tr>\n",
       "    <tr>\n",
       "      <th>198</th>\n",
       "      <td>1966</td>\n",
       "      <td>0</td>\n",
       "      <td>161</td>\n",
       "      <td>8.8</td>\n",
       "      <td>640941.0</td>\n",
       "      <td>1.0</td>\n",
       "    </tr>\n",
       "    <tr>\n",
       "      <th>716</th>\n",
       "      <td>2006</td>\n",
       "      <td>0</td>\n",
       "      <td>151</td>\n",
       "      <td>7.3</td>\n",
       "      <td>623366.0</td>\n",
       "      <td>1.0</td>\n",
       "    </tr>\n",
       "    <tr>\n",
       "      <th>461</th>\n",
       "      <td>1999</td>\n",
       "      <td>0</td>\n",
       "      <td>92</td>\n",
       "      <td>7.9</td>\n",
       "      <td>490750.0</td>\n",
       "      <td>1.0</td>\n",
       "    </tr>\n",
       "  </tbody>\n",
       "</table>\n",
       "</div>"
      ],
      "text/plain": [
       "      startYear  isAdult runtimeMinutes  averageRating   numVotes Recommended\n",
       "900        2013        0            180            8.2  1069874.0         1.0\n",
       "1133       2014        0            121            8.0   980782.0         1.0\n",
       "198        1966        0            161            8.8   640941.0         1.0\n",
       "716        2006        0            151            7.3   623366.0         1.0\n",
       "461        1999        0             92            7.9   490750.0         1.0"
      ]
     },
     "execution_count": 303,
     "metadata": {},
     "output_type": "execute_result"
    },
    {
     "name": "stdout",
     "output_type": "stream",
     "text": [
      "<class 'pandas.core.frame.DataFrame'>\n",
      "Int64Index: 1539 entries, 900 to 1204\n",
      "Data columns (total 6 columns):\n",
      " #   Column          Non-Null Count  Dtype   \n",
      "---  ------          --------------  -----   \n",
      " 0   startYear       1539 non-null   int64   \n",
      " 1   isAdult         1539 non-null   int64   \n",
      " 2   runtimeMinutes  1539 non-null   object  \n",
      " 3   averageRating   1539 non-null   float64 \n",
      " 4   numVotes        1539 non-null   float64 \n",
      " 5   Recommended     1539 non-null   category\n",
      "dtypes: category(1), float64(2), int64(2), object(1)\n",
      "memory usage: 113.7+ KB\n"
     ]
    },
    {
     "data": {
      "text/html": [
       "<div>\n",
       "<style scoped>\n",
       "    .dataframe tbody tr th:only-of-type {\n",
       "        vertical-align: middle;\n",
       "    }\n",
       "\n",
       "    .dataframe tbody tr th {\n",
       "        vertical-align: top;\n",
       "    }\n",
       "\n",
       "    .dataframe thead th {\n",
       "        text-align: right;\n",
       "    }\n",
       "</style>\n",
       "<table border=\"1\" class=\"dataframe\">\n",
       "  <thead>\n",
       "    <tr style=\"text-align: right;\">\n",
       "      <th></th>\n",
       "      <th>Action</th>\n",
       "      <th>Adult</th>\n",
       "      <th>Adventure</th>\n",
       "      <th>Animation</th>\n",
       "      <th>Biography</th>\n",
       "      <th>Comedy</th>\n",
       "      <th>Crime</th>\n",
       "      <th>Documentary</th>\n",
       "      <th>Drama</th>\n",
       "      <th>Family</th>\n",
       "      <th>...</th>\n",
       "      <th>Talk-Show</th>\n",
       "      <th>Thriller</th>\n",
       "      <th>War</th>\n",
       "      <th>Western</th>\n",
       "      <th>startYear</th>\n",
       "      <th>isAdult</th>\n",
       "      <th>runtimeMinutes</th>\n",
       "      <th>averageRating</th>\n",
       "      <th>numVotes</th>\n",
       "      <th>Recommended</th>\n",
       "    </tr>\n",
       "  </thead>\n",
       "  <tbody>\n",
       "    <tr>\n",
       "      <th>1534</th>\n",
       "      <td>1</td>\n",
       "      <td>0</td>\n",
       "      <td>1</td>\n",
       "      <td>0</td>\n",
       "      <td>0</td>\n",
       "      <td>1</td>\n",
       "      <td>0</td>\n",
       "      <td>0</td>\n",
       "      <td>0</td>\n",
       "      <td>0</td>\n",
       "      <td>...</td>\n",
       "      <td>0</td>\n",
       "      <td>0</td>\n",
       "      <td>0</td>\n",
       "      <td>0</td>\n",
       "      <td>2012</td>\n",
       "      <td>0</td>\n",
       "      <td>95</td>\n",
       "      <td>2.3</td>\n",
       "      <td>273.0</td>\n",
       "      <td>0.0</td>\n",
       "    </tr>\n",
       "    <tr>\n",
       "      <th>1535</th>\n",
       "      <td>1</td>\n",
       "      <td>0</td>\n",
       "      <td>0</td>\n",
       "      <td>0</td>\n",
       "      <td>0</td>\n",
       "      <td>0</td>\n",
       "      <td>0</td>\n",
       "      <td>0</td>\n",
       "      <td>0</td>\n",
       "      <td>0</td>\n",
       "      <td>...</td>\n",
       "      <td>0</td>\n",
       "      <td>0</td>\n",
       "      <td>0</td>\n",
       "      <td>0</td>\n",
       "      <td>2005</td>\n",
       "      <td>0</td>\n",
       "      <td>90</td>\n",
       "      <td>1.4</td>\n",
       "      <td>408.0</td>\n",
       "      <td>0.0</td>\n",
       "    </tr>\n",
       "    <tr>\n",
       "      <th>1536</th>\n",
       "      <td>0</td>\n",
       "      <td>0</td>\n",
       "      <td>0</td>\n",
       "      <td>0</td>\n",
       "      <td>0</td>\n",
       "      <td>0</td>\n",
       "      <td>0</td>\n",
       "      <td>0</td>\n",
       "      <td>0</td>\n",
       "      <td>1</td>\n",
       "      <td>...</td>\n",
       "      <td>0</td>\n",
       "      <td>0</td>\n",
       "      <td>0</td>\n",
       "      <td>0</td>\n",
       "      <td>2009</td>\n",
       "      <td>0</td>\n",
       "      <td>82</td>\n",
       "      <td>2.1</td>\n",
       "      <td>259.0</td>\n",
       "      <td>0.0</td>\n",
       "    </tr>\n",
       "    <tr>\n",
       "      <th>1537</th>\n",
       "      <td>0</td>\n",
       "      <td>0</td>\n",
       "      <td>0</td>\n",
       "      <td>0</td>\n",
       "      <td>0</td>\n",
       "      <td>0</td>\n",
       "      <td>0</td>\n",
       "      <td>0</td>\n",
       "      <td>1</td>\n",
       "      <td>0</td>\n",
       "      <td>...</td>\n",
       "      <td>0</td>\n",
       "      <td>0</td>\n",
       "      <td>0</td>\n",
       "      <td>0</td>\n",
       "      <td>2002</td>\n",
       "      <td>0</td>\n",
       "      <td>131</td>\n",
       "      <td>1.2</td>\n",
       "      <td>414.0</td>\n",
       "      <td>0.0</td>\n",
       "    </tr>\n",
       "    <tr>\n",
       "      <th>1538</th>\n",
       "      <td>0</td>\n",
       "      <td>0</td>\n",
       "      <td>1</td>\n",
       "      <td>1</td>\n",
       "      <td>0</td>\n",
       "      <td>1</td>\n",
       "      <td>0</td>\n",
       "      <td>0</td>\n",
       "      <td>0</td>\n",
       "      <td>0</td>\n",
       "      <td>...</td>\n",
       "      <td>0</td>\n",
       "      <td>0</td>\n",
       "      <td>0</td>\n",
       "      <td>0</td>\n",
       "      <td>2012</td>\n",
       "      <td>0</td>\n",
       "      <td>61</td>\n",
       "      <td>1.4</td>\n",
       "      <td>268.0</td>\n",
       "      <td>0.0</td>\n",
       "    </tr>\n",
       "  </tbody>\n",
       "</table>\n",
       "<p>5 rows × 34 columns</p>\n",
       "</div>"
      ],
      "text/plain": [
       "     Action Adult Adventure Animation Biography Comedy Crime Documentary  \\\n",
       "1534      1     0         1         0         0      1     0           0   \n",
       "1535      1     0         0         0         0      0     0           0   \n",
       "1536      0     0         0         0         0      0     0           0   \n",
       "1537      0     0         0         0         0      0     0           0   \n",
       "1538      0     0         1         1         0      1     0           0   \n",
       "\n",
       "     Drama Family  ... Talk-Show Thriller War Western startYear isAdult  \\\n",
       "1534     0      0  ...         0        0   0       0      2012       0   \n",
       "1535     0      0  ...         0        0   0       0      2005       0   \n",
       "1536     0      1  ...         0        0   0       0      2009       0   \n",
       "1537     1      0  ...         0        0   0       0      2002       0   \n",
       "1538     0      0  ...         0        0   0       0      2012       0   \n",
       "\n",
       "     runtimeMinutes averageRating numVotes Recommended  \n",
       "1534             95           2.3    273.0         0.0  \n",
       "1535             90           1.4    408.0         0.0  \n",
       "1536             82           2.1    259.0         0.0  \n",
       "1537            131           1.2    414.0         0.0  \n",
       "1538             61           1.4    268.0         0.0  \n",
       "\n",
       "[5 rows x 34 columns]"
      ]
     },
     "execution_count": 303,
     "metadata": {},
     "output_type": "execute_result"
    },
    {
     "name": "stdout",
     "output_type": "stream",
     "text": [
      "<class 'pandas.core.frame.DataFrame'>\n",
      "Int64Index: 1539 entries, 0 to 1538\n",
      "Data columns (total 34 columns):\n",
      " #   Column          Non-Null Count  Dtype   \n",
      "---  ------          --------------  -----   \n",
      " 0   Action          1539 non-null   category\n",
      " 1   Adult           1539 non-null   category\n",
      " 2   Adventure       1539 non-null   category\n",
      " 3   Animation       1539 non-null   category\n",
      " 4   Biography       1539 non-null   category\n",
      " 5   Comedy          1539 non-null   category\n",
      " 6   Crime           1539 non-null   category\n",
      " 7   Documentary     1539 non-null   category\n",
      " 8   Drama           1539 non-null   category\n",
      " 9   Family          1539 non-null   category\n",
      " 10  Fantasy         1539 non-null   category\n",
      " 11  Film-Noir       1539 non-null   category\n",
      " 12  Game-Show       1539 non-null   category\n",
      " 13  History         1539 non-null   category\n",
      " 14  Horror          1539 non-null   category\n",
      " 15  Music           1539 non-null   category\n",
      " 16  Musical         1539 non-null   category\n",
      " 17  Mystery         1539 non-null   category\n",
      " 18  News            1539 non-null   category\n",
      " 19  Reality-TV      1539 non-null   category\n",
      " 20  Romance         1539 non-null   category\n",
      " 21  Sci-Fi          1539 non-null   category\n",
      " 22  Short           1539 non-null   category\n",
      " 23  Sport           1539 non-null   category\n",
      " 24  Talk-Show       1539 non-null   category\n",
      " 25  Thriller        1539 non-null   category\n",
      " 26  War             1539 non-null   category\n",
      " 27  Western         1539 non-null   category\n",
      " 28  startYear       1539 non-null   int64   \n",
      " 29  isAdult         1539 non-null   int64   \n",
      " 30  runtimeMinutes  1539 non-null   object  \n",
      " 31  averageRating   1539 non-null   float64 \n",
      " 32  numVotes        1539 non-null   float64 \n",
      " 33  Recommended     1539 non-null   category\n",
      "dtypes: category(29), float64(2), int64(2), object(1)\n",
      "memory usage: 158.4+ KB\n"
     ]
    }
   ],
   "source": [
    "movies_genre=movies_sorted.loc[:,[\"startYear\",\"isAdult\",\"runtimeMinutes\",\"averageRating\",\"numVotes\",\"Recommended\"]]\n",
    "movies_genre.head()\n",
    "movies_genre.info()\n",
    "result = pd.concat([dummy,movies_genre.reset_index(drop=True)], axis=1)\n",
    "result.tail()\n",
    "result.info()"
   ]
  },
  {
   "cell_type": "code",
   "execution_count": 304,
   "metadata": {},
   "outputs": [
    {
     "data": {
      "text/plain": [
       "90     80\n",
       "60     54\n",
       "\\N     47\n",
       "100    46\n",
       "95     41\n",
       "       ..\n",
       "356     1\n",
       "53      1\n",
       "47      1\n",
       "177     1\n",
       "152     1\n",
       "Name: runtimeMinutes, Length: 178, dtype: int64"
      ]
     },
     "execution_count": 304,
     "metadata": {},
     "output_type": "execute_result"
    }
   ],
   "source": [
    "result['startYear'] = result.startYear.astype('category')\n",
    "result['isAdult'] = result.isAdult.astype('category')\n",
    "result['runtimeMinutes'].value_counts(dropna=False)\n",
    "result=result[result.runtimeMinutes != r\"\\N\"]\n",
    "result['runtimeMinutes'] = result.runtimeMinutes.astype('int')\n",
    "result['averageRating'] = result.averageRating.astype('category')\n",
    "result['numVotes'] = result.numVotes.astype('int')"
   ]
  },
  {
   "cell_type": "code",
   "execution_count": 305,
   "metadata": {},
   "outputs": [
    {
     "data": {
      "text/plain": [
       "1.0    773\n",
       "0.0    719\n",
       "Name: Recommended, dtype: int64"
      ]
     },
     "execution_count": 305,
     "metadata": {},
     "output_type": "execute_result"
    },
    {
     "data": {
      "text/plain": [
       "<matplotlib.axes._subplots.AxesSubplot at 0x2942eb5b308>"
      ]
     },
     "execution_count": 305,
     "metadata": {},
     "output_type": "execute_result"
    },
    {
     "data": {
      "image/png": "[encoded data removed]",
      "text/plain": [
       "<Figure size 432x288 with 1 Axes>"
      ]
     },
     "metadata": {},
     "output_type": "display_data"
    }
   ],
   "source": [
    "result['Recommended'].value_counts()\n",
    "sns.countplot(x='Recommended',data=result,palette='hls')\n",
    "plt.show()"
   ]
  },
  {
   "cell_type": "markdown",
   "metadata": {},
   "source": [
    "# Classifier"
   ]
  },
  {
   "cell_type": "code",
   "execution_count": 306,
   "metadata": {},
   "outputs": [
    {
     "name": "stdout",
     "output_type": "stream",
     "text": [
      "<class 'pandas.core.frame.DataFrame'>\n",
      "Int64Index: 1492 entries, 0 to 1538\n",
      "Data columns (total 33 columns):\n",
      " #   Column          Non-Null Count  Dtype   \n",
      "---  ------          --------------  -----   \n",
      " 0   Action          1492 non-null   category\n",
      " 1   Adult           1492 non-null   category\n",
      " 2   Adventure       1492 non-null   category\n",
      " 3   Animation       1492 non-null   category\n",
      " 4   Biography       1492 non-null   category\n",
      " 5   Comedy          1492 non-null   category\n",
      " 6   Crime           1492 non-null   category\n",
      " 7   Documentary     1492 non-null   category\n",
      " 8   Drama           1492 non-null   category\n",
      " 9   Family          1492 non-null   category\n",
      " 10  Fantasy         1492 non-null   category\n",
      " 11  Film-Noir       1492 non-null   category\n",
      " 12  Game-Show       1492 non-null   category\n",
      " 13  History         1492 non-null   category\n",
      " 14  Horror          1492 non-null   category\n",
      " 15  Music           1492 non-null   category\n",
      " 16  Musical         1492 non-null   category\n",
      " 17  Mystery         1492 non-null   category\n",
      " 18  News            1492 non-null   category\n",
      " 19  Reality-TV      1492 non-null   category\n",
      " 20  Romance         1492 non-null   category\n",
      " 21  Sci-Fi          1492 non-null   category\n",
      " 22  Short           1492 non-null   category\n",
      " 23  Sport           1492 non-null   category\n",
      " 24  Talk-Show       1492 non-null   category\n",
      " 25  Thriller        1492 non-null   category\n",
      " 26  War             1492 non-null   category\n",
      " 27  Western         1492 non-null   category\n",
      " 28  startYear       1492 non-null   category\n",
      " 29  isAdult         1492 non-null   category\n",
      " 30  runtimeMinutes  1492 non-null   int32   \n",
      " 31  averageRating   1492 non-null   category\n",
      " 32  numVotes        1492 non-null   int32   \n",
      "dtypes: category(31), int32(2)\n",
      "memory usage: 120.2 KB\n"
     ]
    },
    {
     "data": {
      "text/plain": [
       "0    1.0\n",
       "1    1.0\n",
       "2    1.0\n",
       "3    1.0\n",
       "4    1.0\n",
       "Name: Recommended, dtype: category\n",
       "Categories (2, float64): [0.0, 1.0]"
      ]
     },
     "execution_count": 306,
     "metadata": {},
     "output_type": "execute_result"
    }
   ],
   "source": [
    "#split dataset in independent and target variable\n",
    "X = result.loc[:,result.columns !='Recommended'] # Independent\n",
    "Y = result.loc[:,'Recommended'] # Target variable\n",
    "X.info()\n",
    "Y.head()"
   ]
  },
  {
   "cell_type": "code",
   "execution_count": 307,
   "metadata": {},
   "outputs": [],
   "source": [
    "# split X and y into training and testing sets\n",
    "from sklearn.model_selection import train_test_split"
   ]
  },
  {
   "cell_type": "code",
   "execution_count": 308,
   "metadata": {},
   "outputs": [],
   "source": [
    "X_train,X_test,y_train,y_test=train_test_split(X,Y,test_size=0.4,random_state=0)"
   ]
  },
  {
   "cell_type": "code",
   "execution_count": 309,
   "metadata": {},
   "outputs": [
    {
     "data": {
      "text/plain": [
       "LogisticRegression(C=1.0, class_weight=None, dual=False, fit_intercept=True,\n",
       "                   intercept_scaling=1, l1_ratio=None, max_iter=100,\n",
       "                   multi_class='auto', n_jobs=None, penalty='l2',\n",
       "                   random_state=None, solver='lbfgs', tol=0.0001, verbose=0,\n",
       "                   warm_start=False)"
      ]
     },
     "execution_count": 309,
     "metadata": {},
     "output_type": "execute_result"
    }
   ],
   "source": [
    "from sklearn.linear_model import LogisticRegression\n",
    "logreg = LogisticRegression()\n",
    "logreg.fit(X_train,y_train)\n",
    "y_pred=logreg.predict(X_test)"
   ]
  },
  {
   "cell_type": "code",
   "execution_count": 310,
   "metadata": {},
   "outputs": [
    {
     "data": {
      "text/plain": [
       "array([[282,   9],\n",
       "       [  7, 299]], dtype=int64)"
      ]
     },
     "execution_count": 310,
     "metadata": {},
     "output_type": "execute_result"
    }
   ],
   "source": [
    "# import the metrics class\n",
    "from sklearn import metrics\n",
    "cnf_matrix = metrics.confusion_matrix(y_test, y_pred)\n",
    "cnf_matrix"
   ]
  },
  {
   "cell_type": "code",
   "execution_count": 311,
   "metadata": {},
   "outputs": [],
   "source": [
    "import numpy as np\n",
    "import matplotlib.pyplot as plt\n",
    "import seaborn as sns\n",
    "%matplotlib inline"
   ]
  },
  {
   "cell_type": "code",
   "execution_count": 312,
   "metadata": {},
   "outputs": [
    {
     "data": {
      "text/plain": [
       "([<matplotlib.axis.XTick at 0x2942eedfc48>,\n",
       "  <matplotlib.axis.XTick at 0x2942ecc8b48>],\n",
       " <a list of 2 Text xticklabel objects>)"
      ]
     },
     "execution_count": 312,
     "metadata": {},
     "output_type": "execute_result"
    },
    {
     "data": {
      "text/plain": [
       "([<matplotlib.axis.YTick at 0x2942eeec848>,\n",
       "  <matplotlib.axis.YTick at 0x2942a3705c8>],\n",
       " <a list of 2 Text yticklabel objects>)"
      ]
     },
     "execution_count": 312,
     "metadata": {},
     "output_type": "execute_result"
    },
    {
     "data": {
      "text/plain": [
       "<matplotlib.axes._subplots.AxesSubplot at 0x29429ddbec8>"
      ]
     },
     "execution_count": 312,
     "metadata": {},
     "output_type": "execute_result"
    },
    {
     "data": {
      "text/plain": [
       "Text(0.5, 1.1, 'Confusion matrix')"
      ]
     },
     "execution_count": 312,
     "metadata": {},
     "output_type": "execute_result"
    },
    {
     "data": {
      "text/plain": [
       "Text(30.5, 0.5, 'Actual label')"
      ]
     },
     "execution_count": 312,
     "metadata": {},
     "output_type": "execute_result"
    },
    {
     "data": {
      "text/plain": [
       "Text(0.5, 257.44, 'Predicted label')"
      ]
     },
     "execution_count": 312,
     "metadata": {},
     "output_type": "execute_result"
    },
    {
     "data": {
      "image/png": "[encoded data removed]",
      "text/plain": [
       "<Figure size 432x288 with 2 Axes>"
      ]
     },
     "metadata": {
      "needs_background": "light"
     },
     "output_type": "display_data"
    }
   ],
   "source": [
    "class_names=[0,1] # name  of classes\n",
    "fig, ax = plt.subplots()\n",
    "tick_marks = np.arange(len(class_names))\n",
    "plt.xticks(tick_marks, class_names)\n",
    "plt.yticks(tick_marks, class_names)\n",
    "# created heatmap\n",
    "sns.heatmap(pd.DataFrame(cnf_matrix), annot=True, cmap=\"YlGnBu\" ,fmt='g')\n",
    "ax.xaxis.set_label_position(\"top\")\n",
    "plt.tight_layout()\n",
    "plt.title('Confusion matrix', y=1.1)\n",
    "plt.ylabel('Actual label')\n",
    "plt.xlabel('Predicted label')"
   ]
  },
  {
   "cell_type": "markdown",
   "metadata": {},
   "source": [
    "# Confusion Matrix"
   ]
  },
  {
   "cell_type": "code",
   "execution_count": 313,
   "metadata": {},
   "outputs": [
    {
     "name": "stdout",
     "output_type": "stream",
     "text": [
      "Accuracy: 0.9731993299832495\n",
      "Precision: 0.9707792207792207\n",
      "Recall: 0.9771241830065359\n"
     ]
    }
   ],
   "source": [
    "print(\"Accuracy:\",metrics.accuracy_score(y_test, y_pred))\n",
    "print(\"Precision:\",metrics.precision_score(y_test, y_pred))\n",
    "print(\"Recall:\",metrics.recall_score(y_test, y_pred))"
   ]
  },
  {
   "cell_type": "code",
   "execution_count": 314,
   "metadata": {},
   "outputs": [
    {
     "data": {
      "text/plain": [
       "(1492, 33)"
      ]
     },
     "execution_count": 314,
     "metadata": {},
     "output_type": "execute_result"
    },
    {
     "data": {
      "text/plain": [
       "(1492,)"
      ]
     },
     "execution_count": 314,
     "metadata": {},
     "output_type": "execute_result"
    }
   ],
   "source": [
    "X.shape\n",
    "Y.shape"
   ]
  },
  {
   "cell_type": "markdown",
   "metadata": {},
   "source": [
    "# ROC Curve"
   ]
  },
  {
   "cell_type": "code",
   "execution_count": 315,
   "metadata": {},
   "outputs": [
    {
     "data": {
      "text/plain": [
       "[<matplotlib.lines.Line2D at 0x2942eb13cc8>]"
      ]
     },
     "execution_count": 315,
     "metadata": {},
     "output_type": "execute_result"
    },
    {
     "data": {
      "text/plain": [
       "<matplotlib.legend.Legend at 0x2942ee43c08>"
      ]
     },
     "execution_count": 315,
     "metadata": {},
     "output_type": "execute_result"
    },
    {
     "data": {
      "image/png": "[encoded data removed]",
      "text/plain": [
       "<Figure size 432x288 with 1 Axes>"
      ]
     },
     "metadata": {
      "needs_background": "light"
     },
     "output_type": "display_data"
    }
   ],
   "source": [
    "y_pred_proba = logreg.predict_proba(X_test)[::,1]\n",
    "fpr, tpr, _ = metrics.roc_curve(y_test,  y_pred_proba)\n",
    "auc = metrics.roc_auc_score(y_test, y_pred_proba)\n",
    "plt.plot(fpr,tpr,label=\"data 1, auc=\"+str(auc))\n",
    "plt.legend(loc=4)\n",
    "plt.show()"
   ]
  }
 ],
 "metadata": {
  "kernelspec": {
   "display_name": "Python 3",
   "language": "python",
   "name": "python3"
  },
  "language_info": {
   "codemirror_mode": {
    "name": "ipython",
    "version": 3
   },
   "file_extension": ".py",
   "mimetype": "text/x-python",
   "name": "python",
   "nbconvert_exporter": "python",
   "pygments_lexer": "ipython3",
   "version": "3.7.6"
  }
 },
 "nbformat": 4,
 "nbformat_minor": 2
}

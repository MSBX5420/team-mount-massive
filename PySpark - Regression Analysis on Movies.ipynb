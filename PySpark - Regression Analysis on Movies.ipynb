{
 "cells": [
  {
   "cell_type": "code",
   "execution_count": 4,
   "metadata": {},
   "outputs": [],
   "source": [
    "import pyspark\n",
    "\n",
    "from pyspark.sql import SparkSession"
   ]
  },
  {
   "cell_type": "code",
   "execution_count": 6,
   "metadata": {},
   "outputs": [],
   "source": [
    "spark = SparkSession.builder.getOrCreate()"
   ]
  },
  {
   "cell_type": "code",
   "execution_count": 19,
   "metadata": {},
   "outputs": [],
   "source": [
    "spark=SparkSession.builder.appName('movies_model').getOrCreate() "
   ]
  },
  {
   "cell_type": "code",
   "execution_count": 20,
   "metadata": {},
   "outputs": [],
   "source": [
    "df = spark.read.csv('test_movies_single.csv',inferSchema=True,header=True)\n",
    "df2 = spark.read.csv('sample_movies_single.csv',inferSchema=True,header=True)"
   ]
  },
  {
   "cell_type": "code",
   "execution_count": 22,
   "metadata": {},
   "outputs": [],
   "source": [
    "movies = df.union(df2)"
   ]
  },
  {
   "cell_type": "code",
   "execution_count": 26,
   "metadata": {},
   "outputs": [],
   "source": [
    "movies = movies.select('titleType','isAdult','startYear','runtimeMinutes','genres','averageRating','numVotes')"
   ]
  },
  {
   "cell_type": "code",
   "execution_count": 27,
   "metadata": {},
   "outputs": [
    {
     "name": "stdout",
     "output_type": "stream",
     "text": [
      "+---------+-------+---------+--------------+--------------------+-------------+--------+\n",
      "|titleType|isAdult|startYear|runtimeMinutes|              genres|averageRating|numVotes|\n",
      "+---------+-------+---------+--------------+--------------------+-------------+--------+\n",
      "|    short|    0.0|     1901|             5|         Drama,Short|          6.1|   509.0|\n",
      "|    short|    0.0|     1914|            16|        Comedy,Short|          5.7|   751.0|\n",
      "|    short|    0.0|     1914|            16|        Comedy,Short|          6.0|  1018.0|\n",
      "|    movie|    0.0|     1917|            70|Adventure,Comedy,...|          5.7|   712.0|\n",
      "|    movie|    0.0|     1917|            57|             Western|          6.2|   335.0|\n",
      "|    movie|    0.0|     1917|            48|           Drama,War|          7.4|  1384.0|\n",
      "|    movie|    0.0|     1918|            62|       Drama,Romance|          5.4|   270.0|\n",
      "|    short|    0.0|     1919|            12|Comedy,Short,Western|          6.1|   699.0|\n",
      "|    movie|    0.0|     1921|           117|        Comedy,Drama|          6.6|  1191.0|\n",
      "|    movie|    0.0|     1921|            47|              Comedy|          7.0|   901.0|\n",
      "+---------+-------+---------+--------------+--------------------+-------------+--------+\n",
      "only showing top 10 rows\n",
      "\n"
     ]
    }
   ],
   "source": [
    "movies.show(10)"
   ]
  },
  {
   "cell_type": "code",
   "execution_count": null,
   "metadata": {},
   "outputs": [],
   "source": []
  },
  {
   "cell_type": "code",
   "execution_count": 32,
   "metadata": {},
   "outputs": [],
   "source": [
    "movies = movies.filter(movies.titleType !='videoGame')   "
   ]
  },
  {
   "cell_type": "code",
   "execution_count": 34,
   "metadata": {},
   "outputs": [
    {
     "name": "stdout",
     "output_type": "stream",
     "text": [
      "+---------+-------+---------+--------------+--------------------+-------------+--------+\n",
      "|titleType|isAdult|startYear|runtimeMinutes|              genres|averageRating|numVotes|\n",
      "+---------+-------+---------+--------------+--------------------+-------------+--------+\n",
      "|    short|    0.0|     1901|             5|         Drama,Short|          6.1|   509.0|\n",
      "|    short|    0.0|     1914|            16|        Comedy,Short|          5.7|   751.0|\n",
      "|    short|    0.0|     1914|            16|        Comedy,Short|          6.0|  1018.0|\n",
      "|    movie|    0.0|     1917|            70|Adventure,Comedy,...|          5.7|   712.0|\n",
      "|    movie|    0.0|     1917|            57|             Western|          6.2|   335.0|\n",
      "|    movie|    0.0|     1917|            48|           Drama,War|          7.4|  1384.0|\n",
      "|    movie|    0.0|     1918|            62|       Drama,Romance|          5.4|   270.0|\n",
      "|    short|    0.0|     1919|            12|Comedy,Short,Western|          6.1|   699.0|\n",
      "|    movie|    0.0|     1921|           117|        Comedy,Drama|          6.6|  1191.0|\n",
      "|    movie|    0.0|     1921|            47|              Comedy|          7.0|   901.0|\n",
      "|    short|    0.0|     1923|            20|        Comedy,Short|          6.9|  1882.0|\n",
      "|    movie|    0.0|     1923|            63|Adventure,Comedy,...|          7.4|  1470.0|\n",
      "|    movie|    0.0|     1924|           135|Adventure,Drama,M...|          7.2|   634.0|\n",
      "|    movie|    0.0|     1924|            75|        Comedy,Drama|          6.5|   932.0|\n",
      "|    movie|    0.0|     1926|            90|       Drama,Romance|          7.0|   970.0|\n",
      "|    movie|    0.0|     1927|           240|Biography,Drama,H...|          8.1|  6383.0|\n",
      "|    movie|    0.0|     1928|            85|       Drama,Romance|          6.0|   888.0|\n",
      "|    movie|    0.0|     1928|            80|   Drama,Romance,War|          6.1|   598.0|\n",
      "|    movie|    0.0|     1929|            62|Adventure,Drama,R...|          6.5|  1069.0|\n",
      "|    movie|    0.0|     1928|           113|               Drama|          7.2|   661.0|\n",
      "+---------+-------+---------+--------------+--------------------+-------------+--------+\n",
      "only showing top 20 rows\n",
      "\n"
     ]
    }
   ],
   "source": [
    "movies.show()"
   ]
  },
  {
   "cell_type": "code",
   "execution_count": 36,
   "metadata": {},
   "outputs": [],
   "source": [
    "movies = movies.filter(movies.runtimeMinutes !='\\\\N') "
   ]
  },
  {
   "cell_type": "code",
   "execution_count": 37,
   "metadata": {},
   "outputs": [],
   "source": [
    "from pyspark.sql.types import IntegerType\n",
    "movies = movies.withColumn(\"runtimeMinutes\", movies[\"runtimeMinutes\"].cast(IntegerType()))"
   ]
  },
  {
   "cell_type": "code",
   "execution_count": 66,
   "metadata": {},
   "outputs": [
    {
     "name": "stdout",
     "output_type": "stream",
     "text": [
      "+---------+-------+---------+--------------+--------------------+-------------+--------+\n",
      "|titleType|isAdult|startYear|runtimeMinutes|              genres|averageRating|numVotes|\n",
      "+---------+-------+---------+--------------+--------------------+-------------+--------+\n",
      "|    short|    0.0|     1901|             5|         Drama,Short|          6.1|   509.0|\n",
      "|    short|    0.0|     1914|            16|        Comedy,Short|          5.7|   751.0|\n",
      "|    short|    0.0|     1914|            16|        Comedy,Short|          6.0|  1018.0|\n",
      "|    movie|    0.0|     1917|            70|Adventure,Comedy,...|          5.7|   712.0|\n",
      "|    movie|    0.0|     1917|            57|             Western|          6.2|   335.0|\n",
      "|    movie|    0.0|     1917|            48|           Drama,War|          7.4|  1384.0|\n",
      "|    movie|    0.0|     1918|            62|       Drama,Romance|          5.4|   270.0|\n",
      "|    short|    0.0|     1919|            12|Comedy,Short,Western|          6.1|   699.0|\n",
      "|    movie|    0.0|     1921|           117|        Comedy,Drama|          6.6|  1191.0|\n",
      "|    movie|    0.0|     1921|            47|              Comedy|          7.0|   901.0|\n",
      "|    short|    0.0|     1923|            20|        Comedy,Short|          6.9|  1882.0|\n",
      "|    movie|    0.0|     1923|            63|Adventure,Comedy,...|          7.4|  1470.0|\n",
      "|    movie|    0.0|     1924|           135|Adventure,Drama,M...|          7.2|   634.0|\n",
      "|    movie|    0.0|     1924|            75|        Comedy,Drama|          6.5|   932.0|\n",
      "|    movie|    0.0|     1926|            90|       Drama,Romance|          7.0|   970.0|\n",
      "|    movie|    0.0|     1927|           240|Biography,Drama,H...|          8.1|  6383.0|\n",
      "|    movie|    0.0|     1928|            85|       Drama,Romance|          6.0|   888.0|\n",
      "|    movie|    0.0|     1928|            80|   Drama,Romance,War|          6.1|   598.0|\n",
      "|    movie|    0.0|     1929|            62|Adventure,Drama,R...|          6.5|  1069.0|\n",
      "|    movie|    0.0|     1928|           113|               Drama|          7.2|   661.0|\n",
      "+---------+-------+---------+--------------+--------------------+-------------+--------+\n",
      "only showing top 20 rows\n",
      "\n"
     ]
    }
   ],
   "source": [
    "movies.show()"
   ]
  },
  {
   "cell_type": "code",
   "execution_count": 39,
   "metadata": {},
   "outputs": [],
   "source": [
    "from pyspark.ml.feature import StringIndexer \n",
    "from pyspark.ml import Pipeline "
   ]
  },
  {
   "cell_type": "code",
   "execution_count": 111,
   "metadata": {},
   "outputs": [],
   "source": [
    "featurelist = ['titleType','genres']"
   ]
  },
  {
   "cell_type": "code",
   "execution_count": 112,
   "metadata": {},
   "outputs": [
    {
     "data": {
      "text/plain": [
       "list"
      ]
     },
     "execution_count": 112,
     "metadata": {},
     "output_type": "execute_result"
    }
   ],
   "source": [
    "indexers = [StringIndexer(inputCol = column, outputCol = column+\"_index\").fit(movies) for column in featurelist] \n",
    "type(indexers) "
   ]
  },
  {
   "cell_type": "code",
   "execution_count": 54,
   "metadata": {
    "scrolled": true
   },
   "outputs": [
    {
     "data": {
      "text/plain": [
       "DataFrame[titleType: string, isAdult: double, startYear: int, runtimeMinutes: int, genres: string, averageRating: double, numVotes: int, titleType_index: double, startYear_index: double, genres_index: double, isAdult_index: double]"
      ]
     },
     "execution_count": 54,
     "metadata": {},
     "output_type": "execute_result"
    }
   ],
   "source": [
    "from pyspark.sql.types import IntegerType"
   ]
  },
  {
   "cell_type": "code",
   "execution_count": 78,
   "metadata": {},
   "outputs": [],
   "source": [
    "movies = movies.withColumn(\"numVotes\", movies[\"numVotes\"].cast(IntegerType()))"
   ]
  },
  {
   "cell_type": "code",
   "execution_count": 79,
   "metadata": {},
   "outputs": [],
   "source": [
    "movies = movies.withColumn(\"runtimeMinutes\", movies[\"runtimeMinutes\"].cast(IntegerType()))"
   ]
  },
  {
   "cell_type": "code",
   "execution_count": 113,
   "metadata": {},
   "outputs": [
    {
     "data": {
      "text/plain": [
       "DataFrame[titleType: string, isAdult: double, startYear: int, runtimeMinutes: int, genres: string, averageRating: double, numVotes: int, titleType_index: double, genres_index: double]"
      ]
     },
     "execution_count": 113,
     "metadata": {},
     "output_type": "execute_result"
    }
   ],
   "source": [
    "pipeline = Pipeline(stages = indexers) \n",
    "movies_new = pipeline.fit(movies).transform(movies) \n",
    "movies_new"
   ]
  },
  {
   "cell_type": "code",
   "execution_count": 114,
   "metadata": {},
   "outputs": [],
   "source": [
    "movies_new = movies_new.drop('titleType')\n",
    "movies_new = movies_new.drop('genres')"
   ]
  },
  {
   "cell_type": "code",
   "execution_count": 115,
   "metadata": {},
   "outputs": [
    {
     "name": "stdout",
     "output_type": "stream",
     "text": [
      "+-------+---------+--------------+-------------+--------+---------------+------------+\n",
      "|isAdult|startYear|runtimeMinutes|averageRating|numVotes|titleType_index|genres_index|\n",
      "+-------+---------+--------------+-------------+--------+---------------+------------+\n",
      "|    0.0|     1901|             5|          6.1|     509|            3.0|        78.0|\n",
      "|    0.0|     1914|            16|          5.7|     751|            3.0|        46.0|\n",
      "|    0.0|     1914|            16|          6.0|    1018|            3.0|        46.0|\n",
      "|    0.0|     1917|            70|          5.7|     712|            0.0|        55.0|\n",
      "|    0.0|     1917|            57|          6.2|     335|            0.0|        34.0|\n",
      "|    0.0|     1917|            48|          7.4|    1384|            0.0|        21.0|\n",
      "|    0.0|     1918|            62|          5.4|     270|            0.0|         2.0|\n",
      "|    0.0|     1919|            12|          6.1|     699|            3.0|       375.0|\n",
      "|    0.0|     1921|           117|          6.6|    1191|            0.0|         3.0|\n",
      "|    0.0|     1921|            47|          7.0|     901|            0.0|         1.0|\n",
      "|    0.0|     1923|            20|          6.9|    1882|            3.0|        46.0|\n",
      "|    0.0|     1923|            63|          7.4|    1470|            0.0|        35.0|\n",
      "|    0.0|     1924|           135|          7.2|     634|            0.0|       165.0|\n",
      "|    0.0|     1924|            75|          6.5|     932|            0.0|         3.0|\n",
      "|    0.0|     1926|            90|          7.0|     970|            0.0|         2.0|\n",
      "|    0.0|     1927|           240|          8.1|    6383|            0.0|        45.0|\n",
      "|    0.0|     1928|            85|          6.0|     888|            0.0|         2.0|\n",
      "|    0.0|     1928|            80|          6.1|     598|            0.0|        69.0|\n",
      "|    0.0|     1929|            62|          6.5|    1069|            0.0|       106.0|\n",
      "|    0.0|     1928|           113|          7.2|     661|            0.0|         0.0|\n",
      "+-------+---------+--------------+-------------+--------+---------------+------------+\n",
      "only showing top 20 rows\n",
      "\n"
     ]
    }
   ],
   "source": [
    "movies_new.show()"
   ]
  },
  {
   "cell_type": "code",
   "execution_count": 83,
   "metadata": {},
   "outputs": [],
   "source": [
    "from pyspark.ml.linalg import Vectors \n",
    "from pyspark.ml.feature import VectorAssembler "
   ]
  },
  {
   "cell_type": "code",
   "execution_count": 116,
   "metadata": {},
   "outputs": [],
   "source": [
    "vec_assembler = VectorAssembler(inputCols=['titleType_index','isAdult','genres_index','runtimeMinutes','numVotes','averageRating'],outputCol = 'features')"
   ]
  },
  {
   "cell_type": "code",
   "execution_count": 117,
   "metadata": {},
   "outputs": [],
   "source": [
    "output = vec_assembler.transform(movies_new) "
   ]
  },
  {
   "cell_type": "code",
   "execution_count": 118,
   "metadata": {},
   "outputs": [],
   "source": [
    "final_data = output.select('features', 'averageRating') "
   ]
  },
  {
   "cell_type": "code",
   "execution_count": 121,
   "metadata": {},
   "outputs": [
    {
     "name": "stdout",
     "output_type": "stream",
     "text": [
      "+--------------------+-------------+\n",
      "|            features|averageRating|\n",
      "+--------------------+-------------+\n",
      "|[3.0,0.0,78.0,5.0...|          6.1|\n",
      "|[3.0,0.0,46.0,16....|          5.7|\n",
      "|[3.0,0.0,46.0,16....|          6.0|\n",
      "|[0.0,0.0,55.0,70....|          5.7|\n",
      "|[0.0,0.0,34.0,57....|          6.2|\n",
      "|[0.0,0.0,21.0,48....|          7.4|\n",
      "|[0.0,0.0,2.0,62.0...|          5.4|\n",
      "|[3.0,0.0,375.0,12...|          6.1|\n",
      "|[0.0,0.0,3.0,117....|          6.6|\n",
      "|[0.0,0.0,1.0,47.0...|          7.0|\n",
      "|[3.0,0.0,46.0,20....|          6.9|\n",
      "|[0.0,0.0,35.0,63....|          7.4|\n",
      "|[0.0,0.0,165.0,13...|          7.2|\n",
      "|[0.0,0.0,3.0,75.0...|          6.5|\n",
      "|[0.0,0.0,2.0,90.0...|          7.0|\n",
      "|[0.0,0.0,45.0,240...|          8.1|\n",
      "|[0.0,0.0,2.0,85.0...|          6.0|\n",
      "|[0.0,0.0,69.0,80....|          6.1|\n",
      "|[0.0,0.0,106.0,62...|          6.5|\n",
      "|[0.0,0.0,0.0,113....|          7.2|\n",
      "+--------------------+-------------+\n",
      "only showing top 20 rows\n",
      "\n"
     ]
    }
   ],
   "source": [
    "final_data.show()"
   ]
  },
  {
   "cell_type": "code",
   "execution_count": 119,
   "metadata": {},
   "outputs": [],
   "source": [
    "train_df, test_df = final_data.randomSplit([0.7, 0.3]) "
   ]
  },
  {
   "cell_type": "code",
   "execution_count": 120,
   "metadata": {},
   "outputs": [
    {
     "name": "stdout",
     "output_type": "stream",
     "text": [
      "+--------------------+-------------+\n",
      "|            features|averageRating|\n",
      "+--------------------+-------------+\n",
      "|[0.0,0.0,0.0,67.0...|          6.0|\n",
      "|[0.0,0.0,0.0,77.0...|          8.1|\n",
      "|[0.0,0.0,0.0,77.0...|          7.3|\n",
      "|[0.0,0.0,0.0,78.0...|          6.5|\n",
      "|[0.0,0.0,0.0,80.0...|          6.9|\n",
      "|[0.0,0.0,0.0,85.0...|          5.8|\n",
      "|[0.0,0.0,0.0,86.0...|          6.0|\n",
      "|[0.0,0.0,0.0,86.0...|          6.4|\n",
      "|[0.0,0.0,0.0,89.0...|          7.0|\n",
      "|[0.0,0.0,0.0,89.0...|          6.6|\n",
      "|[0.0,0.0,0.0,90.0...|          6.2|\n",
      "|[0.0,0.0,0.0,90.0...|          6.2|\n",
      "|[0.0,0.0,0.0,90.0...|          4.4|\n",
      "|[0.0,0.0,0.0,90.0...|          7.0|\n",
      "|[0.0,0.0,0.0,90.0...|          5.1|\n",
      "|[0.0,0.0,0.0,90.0...|          6.2|\n",
      "|[0.0,0.0,0.0,91.0...|          5.9|\n",
      "|[0.0,0.0,0.0,91.0...|          7.1|\n",
      "|[0.0,0.0,0.0,92.0...|          6.2|\n",
      "|[0.0,0.0,0.0,92.0...|          7.0|\n",
      "+--------------------+-------------+\n",
      "only showing top 20 rows\n",
      "\n"
     ]
    }
   ],
   "source": [
    "train_df.show()"
   ]
  },
  {
   "cell_type": "code",
   "execution_count": 122,
   "metadata": {},
   "outputs": [
    {
     "name": "stdout",
     "output_type": "stream",
     "text": [
      "Coefficients: [0.0,0.0,0.0,0.0,0.0,0.7782814098137106]\n",
      "Intercept: 1.4063119921263127\n"
     ]
    }
   ],
   "source": [
    "from pyspark.ml.regression import LinearRegression\n",
    "lr = LinearRegression(featuresCol = 'features', labelCol='averageRating', maxIter=10, regParam=0.3, elasticNetParam=0.8)\n",
    "lr_model = lr.fit(train_df)\n",
    "print(\"Coefficients: \" + str(lr_model.coefficients))\n",
    "print(\"Intercept: \" + str(lr_model.intercept))"
   ]
  },
  {
   "cell_type": "code",
   "execution_count": 123,
   "metadata": {},
   "outputs": [
    {
     "name": "stdout",
     "output_type": "stream",
     "text": [
      "Root mean square error: 0.286697\n",
      "r2 value: 0.950841\n"
     ]
    }
   ],
   "source": [
    "trainingSummary = lr_model.summary\n",
    "print(\"Root mean square error: %f\" % trainingSummary.rootMeanSquaredError)\n",
    "print(\"r2 value: %f\" % trainingSummary.r2)"
   ]
  },
  {
   "cell_type": "code",
   "execution_count": 124,
   "metadata": {},
   "outputs": [
    {
     "name": "stdout",
     "output_type": "stream",
     "text": [
      "+-------+------------------+\n",
      "|summary|     averageRating|\n",
      "+-------+------------------+\n",
      "|  count|              2008|\n",
      "|   mean| 6.342778884462148|\n",
      "| stddev|1.2933880556867983|\n",
      "|    min|               1.2|\n",
      "|    max|              10.0|\n",
      "+-------+------------------+\n",
      "\n"
     ]
    }
   ],
   "source": [
    "train_df.describe().show()"
   ]
  },
  {
   "cell_type": "code",
   "execution_count": 125,
   "metadata": {},
   "outputs": [
    {
     "name": "stdout",
     "output_type": "stream",
     "text": [
      "+------------------+-------------+--------------------+\n",
      "|        prediction|averageRating|            features|\n",
      "+------------------+-------------+--------------------+\n",
      "| 6.698625578859545|          6.8|[0.0,0.0,0.0,82.0...|\n",
      "| 6.698625578859545|          6.8|[0.0,0.0,0.0,87.0...|\n",
      "| 6.698625578859545|          6.8|[0.0,0.0,0.0,88.0...|\n",
      "| 6.153828591989948|          6.1|[0.0,0.0,0.0,88.0...|\n",
      "| 7.165594424747772|          7.4|[0.0,0.0,0.0,89.0...|\n",
      "| 6.542969296896803|          6.6|[0.0,0.0,0.0,90.0...|\n",
      "| 6.153828591989948|          6.1|[0.0,0.0,0.0,91.0...|\n",
      "| 6.932110001803657|          7.1|[0.0,0.0,0.0,92.0...|\n",
      "| 5.531203464138979|          5.3|[0.0,0.0,0.0,93.0...|\n",
      "|  7.00993814278503|          7.2|[0.0,0.0,0.0,93.0...|\n",
      "| 6.309484873952689|          6.3|[0.0,0.0,0.0,94.0...|\n",
      "| 6.153828591989948|          6.1|[0.0,0.0,0.0,95.0...|\n",
      "| 6.698625578859545|          6.8|[0.0,0.0,0.0,95.0...|\n",
      "| 6.309484873952689|          6.3|[0.0,0.0,0.0,95.0...|\n",
      "| 6.465141155915433|          6.5|[0.0,0.0,0.0,95.0...|\n",
      "| 6.776453719840916|          6.9|[0.0,0.0,0.0,97.0...|\n",
      "|  7.00993814278503|          7.2|[0.0,0.0,0.0,99.0...|\n",
      "| 7.476906988673255|          7.8|[0.0,0.0,0.0,100....|\n",
      "| 6.932110001803657|          7.1|[0.0,0.0,0.0,100....|\n",
      "| 6.076000451008577|          6.0|[0.0,0.0,0.0,100....|\n",
      "| 5.686859746101721|          5.5|[0.0,0.0,0.0,103....|\n",
      "| 6.231656732971318|          6.2|[0.0,0.0,0.0,103....|\n",
      "| 6.620797437878174|          6.7|[0.0,0.0,0.0,103....|\n",
      "| 5.920344169045835|          5.8|[0.0,0.0,0.0,105....|\n",
      "| 5.998172310027206|          5.9|[0.0,0.0,0.0,106....|\n",
      "| 6.620797437878174|          6.7|[0.0,0.0,0.0,106....|\n",
      "| 7.165594424747772|          7.4|[0.0,0.0,0.0,107....|\n",
      "| 6.620797437878174|          6.7|[0.0,0.0,0.0,110....|\n",
      "| 6.932110001803657|          7.1|[0.0,0.0,0.0,115....|\n",
      "|  7.00993814278503|          7.2|[0.0,0.0,0.0,116....|\n",
      "| 6.776453719840916|          6.9|[0.0,0.0,0.0,118....|\n",
      "| 5.764687887083092|          5.6|[0.0,0.0,0.0,119....|\n",
      "| 6.620797437878174|          6.7|[0.0,0.0,0.0,120....|\n",
      "| 7.632563270635998|          8.0|[0.0,0.0,0.0,120....|\n",
      "|7.2434225657291424|          7.5|[0.0,0.0,0.0,122....|\n",
      "| 6.465141155915433|          6.5|[0.0,0.0,0.0,122....|\n",
      "| 6.465141155915433|          6.5|[0.0,0.0,0.0,122....|\n",
      "| 6.231656732971318|          6.2|[0.0,0.0,0.0,133....|\n",
      "| 7.321250706710513|          7.6|[0.0,0.0,0.0,136....|\n",
      "| 5.764687887083092|          5.6|[0.0,0.0,0.0,144....|\n",
      "| 7.165594424747772|          7.4|[0.0,0.0,0.0,144....|\n",
      "| 5.375547182176237|          5.1|[0.0,0.0,1.0,70.0...|\n",
      "| 6.932110001803657|          7.1|[0.0,0.0,1.0,73.0...|\n",
      "| 6.231656732971318|          6.2|[0.0,0.0,1.0,75.0...|\n",
      "| 6.854281860822287|          7.0|[0.0,0.0,1.0,76.0...|\n",
      "| 6.932110001803657|          7.1|[0.0,0.0,1.0,81.0...|\n",
      "| 6.776453719840916|          6.9|[0.0,0.0,1.0,85.0...|\n",
      "| 4.597265772362526|          4.1|[0.0,0.0,1.0,86.0...|\n",
      "| 4.986406477269382|          4.6|[0.0,0.0,1.0,86.0...|\n",
      "| 6.153828591989948|          6.1|[0.0,0.0,1.0,92.0...|\n",
      "+------------------+-------------+--------------------+\n",
      "only showing top 50 rows\n",
      "\n"
     ]
    }
   ],
   "source": [
    "predictions = lr_model.transform(test_df)\n",
    "predictions.select(\"prediction\",\"averageRating\",\"features\").show(50)"
   ]
  },
  {
   "cell_type": "code",
   "execution_count": 133,
   "metadata": {},
   "outputs": [
    {
     "name": "stdout",
     "output_type": "stream",
     "text": [
      "Root mean square error on test data = 0.275544\n"
     ]
    }
   ],
   "source": [
    "from pyspark.ml.evaluation import RegressionEvaluator\n",
    "lr_evaluator = RegressionEvaluator(predictionCol=\"prediction\", \\\n",
    "                 labelCol=\"averageRating\",metricName=\"rmse\")\n",
    "print(\"Root mean square error on test data = %g\" % lr_evaluator.evaluate(predictions))"
   ]
  },
  {
   "cell_type": "code",
   "execution_count": null,
   "metadata": {},
   "outputs": [],
   "source": []
  }
 ],
 "metadata": {
  "kernelspec": {
   "display_name": "Python 3",
   "language": "python",
   "name": "python3"
  },
  "language_info": {
   "codemirror_mode": {
    "name": "ipython",
    "version": 3
   },
   "file_extension": ".py",
   "mimetype": "text/x-python",
   "name": "python",
   "nbconvert_exporter": "python",
   "pygments_lexer": "ipython3",
   "version": "3.7.3"
  }
 },
 "nbformat": 4,
 "nbformat_minor": 2
}
